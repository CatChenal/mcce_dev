{
 "cells": [
  {
   "cell_type": "markdown",
   "metadata": {},
   "source": [
    "# Customize your `.bashrc` file"
   ]
  },
  {
   "cell_type": "markdown",
   "metadata": {
    "editable": true,
    "slideshow": {
     "slide_type": ""
    },
    "tags": []
   },
   "source": [
    "# The `.bashrc` file\n",
    "**\"rc\"** means **r**un **c**ommand  \n",
    "\n",
    "The `.bashrc` file is a script file that’s executed when a user logs in a Linux-like OS.  \n",
    "Since it is a dotted file, it is not visible via the standard `ls` command.  \n",
    "To view the complete listing of a directory, that command would need the `-a` (--all) option:\n",
    "```\n",
    "ls -a\n",
    "```\n"
   ]
  },
  {
   "cell_type": "markdown",
   "metadata": {
    "editable": true,
    "slideshow": {
     "slide_type": ""
    },
    "tags": []
   },
   "source": [
    "# Other files related to `.bashrc`: `.bash_profile` and `.bash_aliases`\n",
    "\n",
    "## Execution sequence at login:\n",
    "  1. `.bash_profile` (or `.profile`)\n",
    "  2. `.bashrc`\n",
    "  3. `.bash_aliases`"
   ]
  },
  {
   "cell_type": "markdown",
   "metadata": {
    "jp-MarkdownHeadingCollapsed": true
   },
   "source": [
    "# 1. `.bash_profile`\n",
    "\n",
    "### ~/.profile: executed by the command interpreter for login shells. \n",
    "###  This file is not read by bash(1), if ~/.bash_profile or ~/.bash_login exists.  \n"
   ]
  },
  {
   "cell_type": "code",
   "execution_count": 8,
   "metadata": {
    "editable": true,
    "slideshow": {
     "slide_type": ""
    },
    "tags": []
   },
   "outputs": [
    {
     "data": {
      "text/plain": [
       "\u001b[0;31m# ~/.profile: executed by the command interpreter for login shells.\u001b[0m\u001b[0;34m\u001b[0m\n",
       "\u001b[0;34m\u001b[0m\u001b[0;31m# This file is not read by bash(1), if ~/.bash_profile or ~/.bash_login\u001b[0m\u001b[0;34m\u001b[0m\n",
       "\u001b[0;34m\u001b[0m\u001b[0;31m# exists.\u001b[0m\u001b[0;34m\u001b[0m\n",
       "\u001b[0;34m\u001b[0m\u001b[0;34m\u001b[0m\n",
       "\u001b[0;34m\u001b[0m\u001b[0;34m\u001b[0m\n",
       "\u001b[0;34m\u001b[0m\u001b[0;31m# the default umask is set in /etc/profile; for setting the umask\u001b[0m\u001b[0;34m\u001b[0m\n",
       "\u001b[0;34m\u001b[0m\u001b[0;31m# for ssh logins, install and configure the libpam-umask package.\u001b[0m\u001b[0;34m\u001b[0m\n",
       "\u001b[0;34m\u001b[0m\u001b[0;31m#umask 022\u001b[0m\u001b[0;34m\u001b[0m\n",
       "\u001b[0;34m\u001b[0m\u001b[0;34m\u001b[0m\n",
       "\u001b[0;34m\u001b[0m\u001b[0;34m\u001b[0m\n",
       "\u001b[0;34m\u001b[0m\u001b[0;31m# if running bash\u001b[0m\u001b[0;34m\u001b[0m\n",
       "\u001b[0;34m\u001b[0m\u001b[0;32mif\u001b[0m \u001b[0;34m[\u001b[0m \u001b[0;34m-\u001b[0m\u001b[0mn\u001b[0m \u001b[0;34m\"$BASH_VERSION\"\u001b[0m \u001b[0;34m]\u001b[0m\u001b[0;34m;\u001b[0m \u001b[0mthen\u001b[0m\u001b[0;34m\u001b[0m\n",
       "\u001b[0;34m\u001b[0m    \u001b[0;31m# include .bashrc if it exists\u001b[0m\u001b[0;34m\u001b[0m\n",
       "\u001b[0;34m\u001b[0m    \u001b[0;32mif\u001b[0m \u001b[0;34m[\u001b[0m \u001b[0;34m-\u001b[0m\u001b[0mf\u001b[0m \u001b[0;34m\"$HOME/.bashrc\"\u001b[0m \u001b[0;34m]\u001b[0m\u001b[0;34m;\u001b[0m \u001b[0mthen\u001b[0m\u001b[0;34m\u001b[0m\n",
       "\u001b[0;34m\u001b[0m        \u001b[0;34m.\u001b[0m \u001b[0;34m\"$HOME/.bashrc\"\u001b[0m\u001b[0;34m\u001b[0m\n",
       "\u001b[0;34m\u001b[0m    \u001b[0mfi\u001b[0m\u001b[0;34m\u001b[0m\n",
       "\u001b[0;34m\u001b[0m\u001b[0mfi\u001b[0m\u001b[0;34m\u001b[0m\n",
       "\u001b[0;34m\u001b[0m\u001b[0;34m\u001b[0m\n",
       "\u001b[0;34m\u001b[0m\u001b[0;34m\u001b[0m\n",
       "\u001b[0;34m\u001b[0m\u001b[0;31m# set PATH so it includes user's private bin if it exists\u001b[0m\u001b[0;34m\u001b[0m\n",
       "\u001b[0;34m\u001b[0m\u001b[0;32mif\u001b[0m \u001b[0;34m[\u001b[0m \u001b[0;34m-\u001b[0m\u001b[0md\u001b[0m \u001b[0;34m\"$HOME/bin\"\u001b[0m \u001b[0;34m]\u001b[0m \u001b[0;34m;\u001b[0m \u001b[0mthen\u001b[0m\u001b[0;34m\u001b[0m\n",
       "\u001b[0;34m\u001b[0m    \u001b[0mPATH\u001b[0m\u001b[0;34m=\u001b[0m\u001b[0;34m\"$HOME/bin:$PATH\"\u001b[0m\u001b[0;34m\u001b[0m\n",
       "\u001b[0;34m\u001b[0m\u001b[0mfi\u001b[0m\u001b[0;34m\u001b[0m\n",
       "\u001b[0;34m\u001b[0m\u001b[0;34m\u001b[0m\n",
       "\u001b[0;34m\u001b[0m\u001b[0;34m\u001b[0m\n",
       "\u001b[0;34m\u001b[0m\u001b[0;31m# set PATH so it includes user's private bin if it exists\u001b[0m\u001b[0;34m\u001b[0m\n",
       "\u001b[0;34m\u001b[0m\u001b[0;32mif\u001b[0m \u001b[0;34m[\u001b[0m \u001b[0;34m-\u001b[0m\u001b[0md\u001b[0m \u001b[0;34m\"$HOME/.local/bin\"\u001b[0m \u001b[0;34m]\u001b[0m \u001b[0;34m;\u001b[0m \u001b[0mthen\u001b[0m\u001b[0;34m\u001b[0m\n",
       "\u001b[0;34m\u001b[0m    \u001b[0mPATH\u001b[0m\u001b[0;34m=\u001b[0m\u001b[0;34m\"$HOME/.local/bin:$PATH\"\u001b[0m\u001b[0;34m\u001b[0m\n",
       "\u001b[0;34m\u001b[0m\u001b[0mfi\u001b[0m\u001b[0;34m\u001b[0m\u001b[0;34m\u001b[0m\u001b[0m\n"
      ]
     },
     "metadata": {},
     "output_type": "display_data"
    }
   ],
   "source": [
    "%pycat mybash_profile"
   ]
  },
  {
   "cell_type": "markdown",
   "metadata": {
    "editable": true,
    "jp-MarkdownHeadingCollapsed": true,
    "slideshow": {
     "slide_type": ""
    },
    "tags": []
   },
   "source": [
    "# 2. `.bashrc`\n",
    "## What should go into `.bashrc`?\n",
    "\n",
    "  * ### General settings, new values for system constants, etc\n",
    "  * ### Functions"
   ]
  },
  {
   "cell_type": "markdown",
   "metadata": {},
   "source": [
    "## General settings example: command line history control:\n",
    "```bash\n",
    "# don't put duplicate lines or lines starting with space in the history.\n",
    "# See bash(1) for more options\n",
    "HISTCONTROL=ignoreboth\n",
    "\n",
    "# append to the history file, don't overwrite it\n",
    "shopt -s histappend\n",
    "\n",
    "# for setting history length see HISTSIZE and HISTFILESIZE in bash(1)\n",
    "HISTSIZE=1000\n",
    "HISTFILESIZE=2000\n",
    "```\n"
   ]
  },
  {
   "cell_type": "markdown",
   "metadata": {},
   "source": [
    "## General settings example: colors\n",
    "```\n",
    "# enable color support of ls and also add handy aliases\n",
    "if [ -x /usr/bin/dircolors ]; then\n",
    "    test -r ~/.dircolors && eval \"$(dircolors -b ~/.dircolors)\" || eval \"$(dircolors -b)\"\n",
    "\n",
    "    alias ls='ls --color=auto'\n",
    "    alias grep='grep --color=auto'\n",
    "    alias fgrep='fgrep --color=auto'\n",
    "    alias egrep='egrep --color=auto'\n",
    "fi\n",
    "```"
   ]
  },
  {
   "cell_type": "markdown",
   "metadata": {
    "editable": true,
    "slideshow": {
     "slide_type": ""
    },
    "tags": []
   },
   "source": [
    "## General settings example: line completion\n",
    "(It's probably included.) \n",
    "\n",
    "```bash\n",
    "# enable programmable completion features (you don't need to enable\n",
    "# this, if it's already enabled in /etc/bash.bashrc and /etc/profile\n",
    "# sources /etc/bash.bashrc).\n",
    "if ! shopt -oq posix; then\n",
    "  if [ -f /usr/share/bash-completion/bash_completion ]; then\n",
    "    . /usr/share/bash-completion/bash_completion\n",
    "  elif [ -f /etc/bash_completion ]; then\n",
    "    . /etc/bash_completion\n",
    "  fi\n",
    "fii  \n",
    "fiE=2000\n",
    "\n"
   ]
  },
  {
   "cell_type": "markdown",
   "metadata": {
    "editable": true,
    "slideshow": {
     "slide_type": ""
    },
    "tags": []
   },
   "source": [
    "## General settings example: prompt customization (PS1 and PS2)\n",
    "\n",
    "```bash\n",
    "if [ \"$color_prompt\" = yes ]; then\n",
    "    PS1='${debian_chroot:+($debian_chroot)}\\[\\033[01;32m\\]\\u@\\h\\[\\033[00m\\]:\\[\\033[01;34m\\]\\w\\[\\033[00m\\]\\$ '\n",
    "else\n",
    "    #PS1='${debian_chroot:+($debian_chroot)}\\u@\\h:\\w\\$ '\n",
    "    PS1=\"[ ${debian_chroot:+($debian_chroot)}\\u: \\w ]\\\\$ \"\n",
    "    PS2=\"&gt; \"\n",
    "fi\n",
    "```"
   ]
  },
  {
   "cell_type": "markdown",
   "metadata": {},
   "source": [
    "## Functions examples\n",
    "```bash\n",
    "# these functions expect a path as argument:\n",
    "}\r\n",
    "\r\n",
    "l2(){\r\n",
    "    ls -hFltr --color $1;\r\n",
    "}\r\n",
    "\r\n",
    "l2r(){\r\n",
    "    ls -hFlr --color $1;\r\n",
    "}\r\n",
    "\r\n",
    "l2a(){\r\n",
    "    ls -hFltra \n",
    "```--color $1;\r\n",
    "}"
   ]
  },
  {
   "cell_type": "raw",
   "metadata": {},
   "source": [
    "%pycat mybashrc"
   ]
  },
  {
   "cell_type": "markdown",
   "metadata": {
    "editable": true,
    "jp-MarkdownHeadingCollapsed": true,
    "slideshow": {
     "slide_type": ""
    },
    "tags": []
   },
   "source": [
    "# 3. `.bash_aliases`\n",
    "\n",
    "#### This is a well-named file! All your aliases should be there (to simplify your life).  \n",
    "#### If you choose this setup, the `.bashrc` should contain the following code, so that you can refer to aliases in your functions:\n",
    "```bash\n",
    "# You may want to put all your additions into a separate file like\n",
    "# ~/.bash_aliases, instead of adding them here directly.\n",
    "\n",
    "if [ -f ~/.bash_aliases ]; then\n",
    "    . ~/.bash_aliases\n",
    "fi\n",
    "\n",
    "# These functions, cdl & cda use aliases:\n",
    "cdl(){\n",
    "    cd $1; ll;\n",
    "}\n",
    "\n",
    "to(){\n",
    "    cd $1; la;\n",
    "}\n",
    "```\n",
    "Here, `ll` and `la` are one of the many aliases defined in my `.bash_aliases` file"
   ]
  },
  {
   "cell_type": "code",
   "execution_count": 15,
   "metadata": {
    "collapsed": true,
    "editable": true,
    "jupyter": {
     "outputs_hidden": true
    },
    "slideshow": {
     "slide_type": ""
    },
    "tags": []
   },
   "outputs": [
    {
     "data": {
      "text/plain": [
       "\u001b[0;31m## .bashrc_aliases\u001b[0m\u001b[0;34m\u001b[0m\n",
       "\u001b[0;34m\u001b[0m\u001b[0malias\u001b[0m \u001b[0mpath\u001b[0m\u001b[0;34m=\u001b[0m\u001b[0;34m'echo $PATH'\u001b[0m\u001b[0;34m\u001b[0m\n",
       "\u001b[0;34m\u001b[0m\u001b[0;34m\u001b[0m\n",
       "\u001b[0;34m\u001b[0m\u001b[0;31m## mistyping alias:\u001b[0m\u001b[0;34m\u001b[0m\n",
       "\u001b[0;34m\u001b[0m\u001b[0malias\u001b[0m \u001b[0mnn\u001b[0m\u001b[0;34m=\u001b[0m\u001b[0;34m'nano'\u001b[0m\u001b[0;34m\u001b[0m\n",
       "\u001b[0;34m\u001b[0m\u001b[0malias\u001b[0m \u001b[0mnnao\u001b[0m\u001b[0;34m=\u001b[0m\u001b[0;34m'nano'\u001b[0m\u001b[0;34m\u001b[0m\n",
       "\u001b[0;34m\u001b[0m\u001b[0malias\u001b[0m \u001b[0mqusb\u001b[0m\u001b[0;34m=\u001b[0m\u001b[0;34m'qsub'\u001b[0m\u001b[0;34m\u001b[0m\n",
       "\u001b[0;34m\u001b[0m\u001b[0;34m\u001b[0m\n",
       "\u001b[0;34m\u001b[0m\u001b[0;31m## file system and disk usage\u001b[0m\u001b[0;34m\u001b[0m\n",
       "\u001b[0;34m\u001b[0m\u001b[0malias\u001b[0m \u001b[0mdu\u001b[0m\u001b[0;34m=\u001b[0m\u001b[0;34m'du -chx | grep total'\u001b[0m\u001b[0;34m\u001b[0m\n",
       "\u001b[0;34m\u001b[0m\u001b[0malias\u001b[0m \u001b[0mdf\u001b[0m\u001b[0;34m=\u001b[0m\u001b[0;34m'df -kTh'\u001b[0m\u001b[0;34m\u001b[0m\n",
       "\u001b[0;34m\u001b[0m\u001b[0;34m\u001b[0m\n",
       "\u001b[0;34m\u001b[0m\u001b[0;31m## safe version or rm and mv commands: use the interactive version as the default one\u001b[0m\u001b[0;34m\u001b[0m\n",
       "\u001b[0;34m\u001b[0m\u001b[0malias\u001b[0m \u001b[0mrm\u001b[0m\u001b[0;34m=\u001b[0m\u001b[0;34m'/bin/rm -i'\u001b[0m\u001b[0;34m\u001b[0m\n",
       "\u001b[0;34m\u001b[0m\u001b[0malias\u001b[0m \u001b[0mmv\u001b[0m\u001b[0;34m=\u001b[0m\u001b[0;34m'/bin/mv -i'\u001b[0m\u001b[0;34m\u001b[0m\n",
       "\u001b[0;34m\u001b[0m\u001b[0;34m\u001b[0m\n",
       "\u001b[0;34m\u001b[0m\u001b[0;31m## navigation aliases:\u001b[0m\u001b[0;34m\u001b[0m\n",
       "\u001b[0;34m\u001b[0m\u001b[0malias\u001b[0m \u001b[0mup\u001b[0m\u001b[0;34m=\u001b[0m\u001b[0;34m'cd ../; lt'\u001b[0m\u001b[0;34m\u001b[0m\n",
       "\u001b[0;34m\u001b[0m\u001b[0malias\u001b[0m \u001b[0mup2\u001b[0m\u001b[0;34m=\u001b[0m\u001b[0;34m'cd ../../; lt'\u001b[0m\u001b[0;34m\u001b[0m\n",
       "\u001b[0;34m\u001b[0m\u001b[0malias\u001b[0m \u001b[0mup3\u001b[0m\u001b[0;34m=\u001b[0m\u001b[0;34m'cd ../../../; lt'\u001b[0m\u001b[0;34m\u001b[0m\n",
       "\u001b[0;34m\u001b[0m\u001b[0;34m\u001b[0m\n",
       "\u001b[0;34m\u001b[0m\u001b[0;31m## listing aliases, all with human readable filesize:\u001b[0m\u001b[0;34m\u001b[0m\n",
       "\u001b[0;34m\u001b[0m\u001b[0malias\u001b[0m \u001b[0mll\u001b[0m\u001b[0;34m=\u001b[0m\u001b[0;34m'ls -hFl --color; pwd'\u001b[0m\u001b[0;34m\u001b[0m\n",
       "\u001b[0;34m\u001b[0m\u001b[0malias\u001b[0m \u001b[0mlr\u001b[0m\u001b[0;34m=\u001b[0m\u001b[0;34m'ls -hFlr --color; pwd'\u001b[0m       \u001b[0;31m# list in descending order\u001b[0m\u001b[0;34m\u001b[0m\n",
       "\u001b[0;34m\u001b[0m\u001b[0malias\u001b[0m \u001b[0mlar\u001b[0m\u001b[0;34m=\u001b[0m\u001b[0;34m'ls -hFlar --color; pwd'\u001b[0m     \u001b[0;31m# show hidden + descending order\u001b[0m\u001b[0;34m\u001b[0m\n",
       "\u001b[0;34m\u001b[0m\u001b[0malias\u001b[0m \u001b[0mla\u001b[0m\u001b[0;34m=\u001b[0m\u001b[0;34m'ls -hFla --color; pwd'\u001b[0m       \u001b[0;31m# show hidden files\u001b[0m\u001b[0;34m\u001b[0m\n",
       "\u001b[0;34m\u001b[0m\u001b[0malias\u001b[0m \u001b[0mlx\u001b[0m\u001b[0;34m=\u001b[0m\u001b[0;34m'ls -hFlXB --color; pwd'\u001b[0m      \u001b[0;31m# sort by extension\u001b[0m\u001b[0;34m\u001b[0m\n",
       "\u001b[0;34m\u001b[0m\u001b[0malias\u001b[0m \u001b[0mlk\u001b[0m\u001b[0;34m=\u001b[0m\u001b[0;34m'ls -hFlS --color; pwd'\u001b[0m       \u001b[0;31m# sort by size\u001b[0m\u001b[0;34m\u001b[0m\n",
       "\u001b[0;34m\u001b[0m\u001b[0malias\u001b[0m \u001b[0mlkr\u001b[0m\u001b[0;34m=\u001b[0m\u001b[0;34m'ls -hFlSr --color; pwd'\u001b[0m     \u001b[0;31m# sort by size\u001b[0m\u001b[0;34m\u001b[0m\n",
       "\u001b[0;34m\u001b[0m\u001b[0malias\u001b[0m \u001b[0mlc\u001b[0m\u001b[0;34m=\u001b[0m\u001b[0;34m'ls -hFlcr --color; pwd'\u001b[0m      \u001b[0;31m# sort by change time\u001b[0m\u001b[0;34m\u001b[0m\n",
       "\u001b[0;34m\u001b[0m\u001b[0malias\u001b[0m \u001b[0mlu\u001b[0m\u001b[0;34m=\u001b[0m\u001b[0;34m'ls -hFlur --color; pwd'\u001b[0m      \u001b[0;31m# sort by last file access time\u001b[0m\u001b[0;34m\u001b[0m\n",
       "\u001b[0;34m\u001b[0m\u001b[0malias\u001b[0m \u001b[0mlt\u001b[0m\u001b[0;34m=\u001b[0m\u001b[0;34m'ls -hFltr --color; pwd'\u001b[0m      \u001b[0;31m# sort by date: newest at bottom\u001b[0m\u001b[0;34m\u001b[0m\n",
       "\u001b[0;34m\u001b[0m\u001b[0malias\u001b[0m \u001b[0mltt\u001b[0m\u001b[0;34m=\u001b[0m\u001b[0;34m'ls -hFlt --color; pwd'\u001b[0m      \u001b[0;31m# sort by date: newest on top\u001b[0m\u001b[0;34m\u001b[0m\n",
       "\u001b[0;34m\u001b[0m\u001b[0malias\u001b[0m \u001b[0mlm\u001b[0m\u001b[0;34m=\u001b[0m\u001b[0;34m'ls -hFla --color | more'\u001b[0m     \u001b[0;31m# pipe through 'more'\u001b[0m\u001b[0;34m\u001b[0m\n",
       "\u001b[0;34m\u001b[0m\u001b[0;34m\u001b[0m\n",
       "\u001b[0;34m\u001b[0m\u001b[0;31m## often used directories\u001b[0m\u001b[0;34m\u001b[0m\n",
       "\u001b[0;34m\u001b[0m\u001b[0malias\u001b[0m \u001b[0mhom\u001b[0m\u001b[0;34m=\u001b[0m\u001b[0;34m'cd ~; w; la'\u001b[0m\u001b[0;34m\u001b[0m\n",
       "\u001b[0;34m\u001b[0m\u001b[0malias\u001b[0m \u001b[0mmcc\u001b[0m\u001b[0;34m=\u001b[0m\u001b[0;34m'cd ~/projects/Stable-MCCE/; la'\u001b[0m\u001b[0;34m\u001b[0m\n",
       "\u001b[0;34m\u001b[0m\u001b[0malias\u001b[0m \u001b[0mmcdev\u001b[0m\u001b[0;34m=\u001b[0m\u001b[0;34m'cd ~/projects/mcce_dev/; la'\u001b[0m\u001b[0;34m\u001b[0m\n",
       "\u001b[0;34m\u001b[0m\u001b[0;34m\u001b[0m\n",
       "\u001b[0;34m\u001b[0m\u001b[0;31m## shorcut for exiting\u001b[0m\u001b[0;34m\u001b[0m\n",
       "\u001b[0;34m\u001b[0m\u001b[0malias\u001b[0m \u001b[0mxx\u001b[0m\u001b[0;34m=\u001b[0m\u001b[0;34m'logout'\u001b[0m\u001b[0;34m\u001b[0m\n",
       "\u001b[0;34m\u001b[0m\u001b[0;34m\u001b[0m\n",
       "\u001b[0;34m\u001b[0m\u001b[0;31m# Add an \"alert\" alias for long running commands.  Use like so:\u001b[0m\u001b[0;34m\u001b[0m\n",
       "\u001b[0;34m\u001b[0m\u001b[0;31m#   sleep 10; alert\u001b[0m\u001b[0;34m\u001b[0m\n",
       "\u001b[0;34m\u001b[0m\u001b[0malias\u001b[0m \u001b[0malert\u001b[0m\u001b[0;34m=\u001b[0m\u001b[0;34m'notify-send --urgency=low -i \"$([ $? = 0 ] && echo terminal || echo error)\" \"$(history|tail -n1|sed -e '\u001b[0m\u001b[0;31m\\\u001b[0m\u001b[0;34m''\u001b[0m\u001b[0ms\u001b[0m\u001b[0;34m/\u001b[0m\u001b[0;34m^\u001b[0m\u001b[0;31m\\\u001b[0m\u001b[0ms\u001b[0m\u001b[0;34m*\u001b[0m\u001b[0;34m[\u001b[0m\u001b[0;36m0\u001b[0m\u001b[0;34m-\u001b[0m\u001b[0;36m9\u001b[0m\u001b[0;34m]\u001b[0m\u001b[0;31m\\\u001b[0m\u001b[0;34m+\u001b[0m\u001b[0;31m\\\u001b[0m\u001b[0ms\u001b[0m\u001b[0;34m*\u001b[0m\u001b[0;34m//\u001b[0m\u001b[0;34m;\u001b[0m\u001b[0ms\u001b[0m\u001b[0;34m/\u001b[0m\u001b[0;34m[\u001b[0m\u001b[0;34m;\u001b[0m\u001b[0;34m&\u001b[0m\u001b[0;34m|\u001b[0m\u001b[0;34m]\u001b[0m\u001b[0;31m\\\u001b[0m\u001b[0ms\u001b[0m\u001b[0;34m*\u001b[0m\u001b[0malert\u001b[0m\u001b[0;31m$\u001b[0m\u001b[0;34m//\u001b[0m\u001b[0;34m'\\''\u001b[0m\u001b[0;34m)\u001b[0m\u001b[0;31m\"\u001b[0m\u001b[0;31m'\u001b[0m\u001b[0;31m\n",
       "\n",
       "*** ERROR: EOF in multi-line statement\u001b[0m\n",
       "\u001b[0m\n"
      ]
     },
     "metadata": {},
     "output_type": "display_data"
    }
   ],
   "source": [
    "%pycat mybash_aliases"
   ]
  },
  {
   "cell_type": "markdown",
   "metadata": {
    "editable": true,
    "slideshow": {
     "slide_type": ""
    },
    "tags": []
   },
   "source": [
    "### Some options for `ls`:\n",
    "\n",
    "__-F__: adds symbols to the end of each entry to indicate the type of the file. Here's what it does:\n",
    "\n",
    "Files: Regular files are displayed without any additional symbols.\n",
    "Directories: Directories are marked with a trailing /.\n",
    "Executable Files: Executable files are marked with a trailing *.\n",
    "Symbolic Links: Symbolic links are marked with a trailing @.\n",
    "Sockets: Sockets are marked with a trailing =.\n",
    "FIFOs (Named Pipes): FIFOs are marked with a trailing |.  \n",
    "\n",
    "__-h__: makes the file sizes in the output more human-readable, using units like KB, MB, GB, etc."
   ]
  },
  {
   "cell_type": "markdown",
   "metadata": {
    "editable": true,
    "slideshow": {
     "slide_type": ""
    },
    "tags": []
   },
   "source": [
    "### Remember to source or \"dot\" `.bashrc` whenever you amend it or `.bash_aliases`:\n",
    "```\n",
    ". .bashrc\n",
    "```\n",
    "OR:\n",
    "```\n",
    "source .bashrc\n",
    "```"
   ]
  }
 ],
 "metadata": {
  "jupytext": {
   "formats": "ipynb,md"
  },
  "kernelspec": {
   "display_name": "Python 3 (ipykernel)",
   "language": "python",
   "name": "python3"
  },
  "language_info": {
   "codemirror_mode": {
    "name": "ipython",
    "version": 3
   },
   "file_extension": ".py",
   "mimetype": "text/x-python",
   "name": "python",
   "nbconvert_exporter": "python",
   "pygments_lexer": "ipython3",
   "version": "3.11.5"
  }
 },
 "nbformat": 4,
 "nbformat_minor": 4
}
