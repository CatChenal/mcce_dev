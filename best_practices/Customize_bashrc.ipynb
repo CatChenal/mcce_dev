{
 "cells": [
  {
   "cell_type": "markdown",
   "metadata": {},
   "source": [
    "<!--\n",
    "jupyter:\n",
    "  jupytext:\n",
    "    formats: ipynb,md\n",
    "    text_representation:\n",
    "      extension: .md\n",
    "      format_name: markdown\n",
    "      format_version: '1.3'\n",
    "      jupytext_version: 1.15.2\n",
    "  kernelspec:\n",
    "    display_name: Python 3 (ipykernel)\n",
    "    language: python\n",
    "    name: python3\n",
    "-->\n",
    "\n",
    "# Customize your `.bashrc` file"
   ]
  },
  {
   "cell_type": "markdown",
   "metadata": {
    "editable": true,
    "slideshow": {
     "slide_type": ""
    },
    "tags": []
   },
   "source": [
    "# The `.bashrc` file\n",
    "**\"rc\"** means **r**un **c**ommand\n",
    "\n",
    "The `.bashrc` file is a script file that’s executed when a user logs in a Linux-like OS.\n",
    "Since it is a dotted file, it is not visible via the standard `ls` command.\n",
    "To view the complete listing of a directory, that command would need the `-a` (--all) option:\n",
    "```\n",
    "ls -a\n",
    "```\n"
   ]
  },
  {
   "cell_type": "markdown",
   "metadata": {
    "editable": true,
    "slideshow": {
     "slide_type": ""
    },
    "tags": []
   },
   "source": [
    "# Other files related to `.bashrc`: `.bash_profile` and `.bash_aliases`\n",
    "\n",
    "## Execution sequence at login:\n",
    "  1. `.bash_profile` (or `.profile`)\n",
    "  2. `.bashrc`\n",
    "  3. `.bash_aliases`"
   ]
  },
  {
   "cell_type": "markdown",
   "metadata": {},
   "source": [
    "# 1. `.bash_profile`\n",
    "\n",
    "### ~/.profile: executed by the command interpreter for login shells.\n",
    "###  This file is not read by bash(1), if ~/.bash_profile or ~/.bash_login exists.\n"
   ]
  },
  {
   "cell_type": "code",
   "execution_count": 8,
   "metadata": {
    "editable": true,
    "slideshow": {
     "slide_type": ""
    },
    "tags": []
   },
   "outputs": [
    {
     "data": {
      "text/plain": [
       "\u001b[0;31m# ~/.profile: executed by the command interpreter for login shells.\u001b[0m\u001b[0;34m\u001b[0m\n",
       "\u001b[0;34m\u001b[0m\u001b[0;31m# This file is not read by bash(1), if ~/.bash_profile or ~/.bash_login\u001b[0m\u001b[0;34m\u001b[0m\n",
       "\u001b[0;34m\u001b[0m\u001b[0;31m# exists.\u001b[0m\u001b[0;34m\u001b[0m\n",
       "\u001b[0;34m\u001b[0m\u001b[0;34m\u001b[0m\n",
       "\u001b[0;34m\u001b[0m\u001b[0;34m\u001b[0m\n",
       "\u001b[0;34m\u001b[0m\u001b[0;31m# the default umask is set in /etc/profile; for setting the umask\u001b[0m\u001b[0;34m\u001b[0m\n",
       "\u001b[0;34m\u001b[0m\u001b[0;31m# for ssh logins, install and configure the libpam-umask package.\u001b[0m\u001b[0;34m\u001b[0m\n",
       "\u001b[0;34m\u001b[0m\u001b[0;31m#umask 022\u001b[0m\u001b[0;34m\u001b[0m\n",
       "\u001b[0;34m\u001b[0m\u001b[0;34m\u001b[0m\n",
       "\u001b[0;34m\u001b[0m\u001b[0;34m\u001b[0m\n",
       "\u001b[0;34m\u001b[0m\u001b[0;31m# if running bash\u001b[0m\u001b[0;34m\u001b[0m\n",
       "\u001b[0;34m\u001b[0m\u001b[0;32mif\u001b[0m \u001b[0;34m[\u001b[0m \u001b[0;34m-\u001b[0m\u001b[0mn\u001b[0m \u001b[0;34m\"$BASH_VERSION\"\u001b[0m \u001b[0;34m]\u001b[0m\u001b[0;34m;\u001b[0m \u001b[0mthen\u001b[0m\u001b[0;34m\u001b[0m\n",
       "\u001b[0;34m\u001b[0m    \u001b[0;31m# include .bashrc if it exists\u001b[0m\u001b[0;34m\u001b[0m\n",
       "\u001b[0;34m\u001b[0m    \u001b[0;32mif\u001b[0m \u001b[0;34m[\u001b[0m \u001b[0;34m-\u001b[0m\u001b[0mf\u001b[0m \u001b[0;34m\"$HOME/.bashrc\"\u001b[0m \u001b[0;34m]\u001b[0m\u001b[0;34m;\u001b[0m \u001b[0mthen\u001b[0m\u001b[0;34m\u001b[0m\n",
       "\u001b[0;34m\u001b[0m        \u001b[0;34m.\u001b[0m \u001b[0;34m\"$HOME/.bashrc\"\u001b[0m\u001b[0;34m\u001b[0m\n",
       "\u001b[0;34m\u001b[0m    \u001b[0mfi\u001b[0m\u001b[0;34m\u001b[0m\n",
       "\u001b[0;34m\u001b[0m\u001b[0mfi\u001b[0m\u001b[0;34m\u001b[0m\n",
       "\u001b[0;34m\u001b[0m\u001b[0;34m\u001b[0m\n",
       "\u001b[0;34m\u001b[0m\u001b[0;34m\u001b[0m\n",
       "\u001b[0;34m\u001b[0m\u001b[0;31m# set PATH so it includes user's private bin if it exists\u001b[0m\u001b[0;34m\u001b[0m\n",
       "\u001b[0;34m\u001b[0m\u001b[0;32mif\u001b[0m \u001b[0;34m[\u001b[0m \u001b[0;34m-\u001b[0m\u001b[0md\u001b[0m \u001b[0;34m\"$HOME/bin\"\u001b[0m \u001b[0;34m]\u001b[0m \u001b[0;34m;\u001b[0m \u001b[0mthen\u001b[0m\u001b[0;34m\u001b[0m\n",
       "\u001b[0;34m\u001b[0m    \u001b[0mPATH\u001b[0m\u001b[0;34m=\u001b[0m\u001b[0;34m\"$HOME/bin:$PATH\"\u001b[0m\u001b[0;34m\u001b[0m\n",
       "\u001b[0;34m\u001b[0m\u001b[0mfi\u001b[0m\u001b[0;34m\u001b[0m\n",
       "\u001b[0;34m\u001b[0m\u001b[0;34m\u001b[0m\n",
       "\u001b[0;34m\u001b[0m\u001b[0;34m\u001b[0m\n",
       "\u001b[0;34m\u001b[0m\u001b[0;31m# set PATH so it includes user's private bin if it exists\u001b[0m\u001b[0;34m\u001b[0m\n",
       "\u001b[0;34m\u001b[0m\u001b[0;32mif\u001b[0m \u001b[0;34m[\u001b[0m \u001b[0;34m-\u001b[0m\u001b[0md\u001b[0m \u001b[0;34m\"$HOME/.local/bin\"\u001b[0m \u001b[0;34m]\u001b[0m \u001b[0;34m;\u001b[0m \u001b[0mthen\u001b[0m\u001b[0;34m\u001b[0m\n",
       "\u001b[0;34m\u001b[0m    \u001b[0mPATH\u001b[0m\u001b[0;34m=\u001b[0m\u001b[0;34m\"$HOME/.local/bin:$PATH\"\u001b[0m\u001b[0;34m\u001b[0m\n",
       "\u001b[0;34m\u001b[0m\u001b[0mfi\u001b[0m\u001b[0;34m\u001b[0m\u001b[0;34m\u001b[0m\u001b[0m\n"
      ]
     },
     "metadata": {},
     "output_type": "display_data"
    }
   ],
   "source": [
    "%pycat mybash_profile"
   ]
  },
  {
   "cell_type": "markdown",
   "metadata": {
    "editable": true,
    "slideshow": {
     "slide_type": ""
    },
    "tags": []
   },
   "source": [
    "# 2. `.bashrc`\n",
    "## What should go into `.bashrc`?\n",
    "\n",
    "  * ### General settings, new values for system constants, etc\n",
    "  * ### Functions"
   ]
  },
  {
   "cell_type": "markdown",
   "metadata": {},
   "source": [
    "## General settings example: command line history control:\n",
    "```bash\n",
    "# don't put duplicate lines or lines starting with space in the history.\n",
    "# See bash(1) for more options\n",
    "HISTCONTROL=ignoreboth\n",
    "\n",
    "# append to the history file, don't overwrite it\n",
    "shopt -s histappend\n",
    "\n",
    "# for setting history length see HISTSIZE and HISTFILESIZE in bash(1)\n",
    "HISTSIZE=1000\n",
    "HISTFILESIZE=2000\n",
    "```\n"
   ]
  },
  {
   "cell_type": "markdown",
   "metadata": {},
   "source": [
    "## General settings example: colors\n",
    "```\n",
    "# enable color support of ls and also add handy aliases\n",
    "if [ -x /usr/bin/dircolors ]; then\n",
    "    test -r ~/.dircolors && eval \"$(dircolors -b ~/.dircolors)\" || eval \"$(dircolors -b)\"\n",
    "\n",
    "    alias ls='ls --color=auto'\n",
    "    alias grep='grep --color=auto'\n",
    "    alias fgrep='fgrep --color=auto'\n",
    "    alias egrep='egrep --color=auto'\n",
    "fi\n",
    "```"
   ]
  },
  {
   "cell_type": "markdown",
   "metadata": {
    "editable": true,
    "slideshow": {
     "slide_type": ""
    },
    "tags": []
   },
   "source": [
    "## General settings example: line completion\n",
    "(It's probably included.)\n",
    "\n",
    "```bash\n",
    "# enable programmable completion features (you don't need to enable\n",
    "# this, if it's already enabled in /etc/bash.bashrc and /etc/profile\n",
    "# sources /etc/bash.bashrc).\n",
    "if ! shopt -oq posix; then\n",
    "  if [ -f /usr/share/bash-completion/bash_completion ]; then\n",
    "    . /usr/share/bash-completion/bash_completion\n",
    "  elif [ -f /etc/bash_completion ]; then\n",
    "    . /etc/bash_completion\n",
    "  fi\n",
    "fii\n",
    "fiE=2000\n",
    "\n"
   ]
  },
  {
   "cell_type": "markdown",
   "metadata": {
    "editable": true,
    "slideshow": {
     "slide_type": ""
    },
    "tags": []
   },
   "source": [
    "## General settings example: prompt customization (PS1 and PS2)\n",
    "\n",
    "```bash\n",
    "if [ \"$color_prompt\" = yes ]; then\n",
    "    PS1='${debian_chroot:+($debian_chroot)}\\[\\033[01;32m\\]\\u@\\h\\[\\033[00m\\]:\\[\\033[01;34m\\]\\w\\[\\033[00m\\]\\$ '\n",
    "else\n",
    "    #PS1='${debian_chroot:+($debian_chroot)}\\u@\\h:\\w\\$ '\n",
    "    PS1=\"[ ${debian_chroot:+($debian_chroot)}\\u: \\w ]\\\\$ \"\n",
    "    PS2=\"&gt; \"\n",
    "fi\n",
    "```"
   ]
  },
  {
   "cell_type": "markdown",
   "metadata": {},
   "source": [
    "## Functions examples\n",
    "```bash\n",
    "# these functions expect a path as argument:\n",
    "}\n",
    "\n",
    "l2(){\n",
    "    ls -hFltr --color $1;\n",
    "}\n",
    "\n",
    "l2r(){\n",
    "    ls -hFlr --color $1;\n",
    "}\n",
    "\n",
    "l2a(){\n",
    "    ls -hFltra\n",
    "```--color $1;\n",
    "}"
   ]
  },
  {
   "cell_type": "code",
   "execution_count": 3,
   "metadata": {},
   "outputs": [
    {
     "data": {
      "text/plain": [
       "\u001b[0;31m# ~/.bashrc: executed by bash(1) for non-login shells.\u001b[0m\u001b[0;34m\u001b[0m\n",
       "\u001b[0;34m\u001b[0m\u001b[0;34m\u001b[0m\n",
       "\u001b[0;34m\u001b[0m\u001b[0;31m# If not running interactively, don't do anything\u001b[0m\u001b[0;34m\u001b[0m\n",
       "\u001b[0;34m\u001b[0m\u001b[0mcase\u001b[0m\u001b[0;31m \u001b[0m\u001b[0;31m$\u001b[0m\u001b[0;34m-\u001b[0m \u001b[0;32min\u001b[0m\u001b[0;34m\u001b[0m\n",
       "\u001b[0;34m\u001b[0m    \u001b[0;34m*\u001b[0m\u001b[0mi\u001b[0m\u001b[0;34m*\u001b[0m\u001b[0;34m)\u001b[0m \u001b[0;34m;\u001b[0m\u001b[0;34m;\u001b[0m\u001b[0;34m\u001b[0m\n",
       "\u001b[0;34m\u001b[0m      \u001b[0;34m*\u001b[0m\u001b[0;34m)\u001b[0m \u001b[0;32mreturn\u001b[0m\u001b[0;34m;\u001b[0m\u001b[0;34m;\u001b[0m\u001b[0;34m\u001b[0m\n",
       "\u001b[0;34m\u001b[0m\u001b[0mesac\u001b[0m\u001b[0;34m\u001b[0m\n",
       "\u001b[0;34m\u001b[0m\u001b[0;34m\u001b[0m\n",
       "\u001b[0;34m\u001b[0m\u001b[0;31m# Alias definitions.\u001b[0m\u001b[0;34m\u001b[0m\n",
       "\u001b[0;34m\u001b[0m\u001b[0;31m# You may want to put all your additions into a separate file like\u001b[0m\u001b[0;34m\u001b[0m\n",
       "\u001b[0;34m\u001b[0m\u001b[0;31m# ~/.bash_aliases, instead of adding them here directly.\u001b[0m\u001b[0;34m\u001b[0m\n",
       "\u001b[0;34m\u001b[0m\u001b[0;34m\u001b[0m\n",
       "\u001b[0;34m\u001b[0m\u001b[0;32mif\u001b[0m \u001b[0;34m[\u001b[0m \u001b[0;34m-\u001b[0m\u001b[0mf\u001b[0m \u001b[0;34m~\u001b[0m\u001b[0;34m/\u001b[0m\u001b[0;34m.\u001b[0m\u001b[0mbash_aliases\u001b[0m \u001b[0;34m]\u001b[0m\u001b[0;34m;\u001b[0m \u001b[0mthen\u001b[0m\u001b[0;34m\u001b[0m\n",
       "\u001b[0;34m\u001b[0m    \u001b[0;34m.\u001b[0m \u001b[0;34m~\u001b[0m\u001b[0;34m/\u001b[0m\u001b[0;34m.\u001b[0m\u001b[0mbash_aliases\u001b[0m\u001b[0;34m\u001b[0m\n",
       "\u001b[0;34m\u001b[0m\u001b[0mfi\u001b[0m\u001b[0;34m\u001b[0m\n",
       "\u001b[0;34m\u001b[0m\u001b[0;34m\u001b[0m\n",
       "\u001b[0;34m\u001b[0m\u001b[0;31m# These functions, cdl & cda use aliases:\u001b[0m\u001b[0;34m\u001b[0m\n",
       "\u001b[0;34m\u001b[0m\u001b[0mcdl\u001b[0m\u001b[0;34m(\u001b[0m\u001b[0;34m)\u001b[0m\u001b[0;34m{\u001b[0m\u001b[0;34m\u001b[0m\n",
       "\u001b[0;34m\u001b[0m    \u001b[0mcd\u001b[0m\u001b[0;31m \u001b[0m\u001b[0;31m$\u001b[0m\u001b[0;36m1\u001b[0m\u001b[0;34m;\u001b[0m \u001b[0mll\u001b[0m\u001b[0;34m;\u001b[0m\u001b[0;34m\u001b[0m\n",
       "\u001b[0;34m\u001b[0m\u001b[0;34m}\u001b[0m\u001b[0;34m\u001b[0m\n",
       "\u001b[0;34m\u001b[0m\u001b[0;34m\u001b[0m\n",
       "\u001b[0;34m\u001b[0m\u001b[0mto\u001b[0m\u001b[0;34m(\u001b[0m\u001b[0;34m)\u001b[0m\u001b[0;34m{\u001b[0m\u001b[0;34m\u001b[0m\n",
       "\u001b[0;34m\u001b[0m    \u001b[0mcd\u001b[0m\u001b[0;31m \u001b[0m\u001b[0;31m$\u001b[0m\u001b[0;36m1\u001b[0m\u001b[0;34m;\u001b[0m \u001b[0mla\u001b[0m\u001b[0;34m;\u001b[0m\u001b[0;34m\u001b[0m\n",
       "\u001b[0;34m\u001b[0m\u001b[0;34m}\u001b[0m\u001b[0;34m\u001b[0m\n",
       "\u001b[0;34m\u001b[0m\u001b[0;34m\u001b[0m\n",
       "\u001b[0;34m\u001b[0m\u001b[0ml2\u001b[0m\u001b[0;34m(\u001b[0m\u001b[0;34m)\u001b[0m\u001b[0;34m{\u001b[0m\u001b[0;34m\u001b[0m\n",
       "\u001b[0;34m\u001b[0m    \u001b[0mls\u001b[0m \u001b[0;34m-\u001b[0m\u001b[0mhFltr\u001b[0m \u001b[0;34m-\u001b[0m\u001b[0;34m-\u001b[0m\u001b[0mcolor\u001b[0m\u001b[0;31m \u001b[0m\u001b[0;31m$\u001b[0m\u001b[0;36m1\u001b[0m\u001b[0;34m;\u001b[0m\u001b[0;34m\u001b[0m\n",
       "\u001b[0;34m\u001b[0m\u001b[0;34m}\u001b[0m\u001b[0;34m\u001b[0m\n",
       "\u001b[0;34m\u001b[0m\u001b[0;34m\u001b[0m\n",
       "\u001b[0;34m\u001b[0m\u001b[0ml2r\u001b[0m\u001b[0;34m(\u001b[0m\u001b[0;34m)\u001b[0m\u001b[0;34m{\u001b[0m\u001b[0;34m\u001b[0m\n",
       "\u001b[0;34m\u001b[0m    \u001b[0mls\u001b[0m \u001b[0;34m-\u001b[0m\u001b[0mhFlr\u001b[0m \u001b[0;34m-\u001b[0m\u001b[0;34m-\u001b[0m\u001b[0mcolor\u001b[0m\u001b[0;31m \u001b[0m\u001b[0;31m$\u001b[0m\u001b[0;36m1\u001b[0m\u001b[0;34m;\u001b[0m\u001b[0;34m\u001b[0m\n",
       "\u001b[0;34m\u001b[0m\u001b[0;34m}\u001b[0m\u001b[0;34m\u001b[0m\n",
       "\u001b[0;34m\u001b[0m\u001b[0;34m\u001b[0m\n",
       "\u001b[0;34m\u001b[0m\u001b[0ml2a\u001b[0m\u001b[0;34m(\u001b[0m\u001b[0;34m)\u001b[0m\u001b[0;34m{\u001b[0m\u001b[0;34m\u001b[0m\n",
       "\u001b[0;34m\u001b[0m    \u001b[0mls\u001b[0m \u001b[0;34m-\u001b[0m\u001b[0mhFltra\u001b[0m \u001b[0;34m-\u001b[0m\u001b[0;34m-\u001b[0m\u001b[0mcolor\u001b[0m\u001b[0;31m \u001b[0m\u001b[0;31m$\u001b[0m\u001b[0;36m1\u001b[0m\u001b[0;34m;\u001b[0m\u001b[0;34m\u001b[0m\n",
       "\u001b[0;34m\u001b[0m\u001b[0;34m}\u001b[0m\u001b[0;34m\u001b[0m\n",
       "\u001b[0;34m\u001b[0m\u001b[0;34m\u001b[0m\n",
       "\u001b[0;34m\u001b[0m\u001b[0;34m\u001b[0m\n",
       "\u001b[0;34m\u001b[0m\u001b[0;31m# don't put duplicate lines or lines starting with space in the history.\u001b[0m\u001b[0;34m\u001b[0m\n",
       "\u001b[0;34m\u001b[0m\u001b[0;31m# See bash(1) for more options\u001b[0m\u001b[0;34m\u001b[0m\n",
       "\u001b[0;34m\u001b[0m\u001b[0mHISTCONTROL\u001b[0m\u001b[0;34m=\u001b[0m\u001b[0mignoreboth\u001b[0m\u001b[0;34m\u001b[0m\n",
       "\u001b[0;34m\u001b[0m\u001b[0;34m\u001b[0m\n",
       "\u001b[0;34m\u001b[0m\u001b[0;31m# append to the history file, don't overwrite it\u001b[0m\u001b[0;34m\u001b[0m\n",
       "\u001b[0;34m\u001b[0m\u001b[0mshopt\u001b[0m \u001b[0;34m-\u001b[0m\u001b[0ms\u001b[0m \u001b[0mhistappend\u001b[0m\u001b[0;34m\u001b[0m\n",
       "\u001b[0;34m\u001b[0m\u001b[0;34m\u001b[0m\n",
       "\u001b[0;34m\u001b[0m\u001b[0;31m# for setting history length see HISTSIZE and HISTFILESIZE in bash(1)\u001b[0m\u001b[0;34m\u001b[0m\n",
       "\u001b[0;34m\u001b[0m\u001b[0mHISTSIZE\u001b[0m\u001b[0;34m=\u001b[0m\u001b[0;36m1000\u001b[0m\u001b[0;34m\u001b[0m\n",
       "\u001b[0;34m\u001b[0m\u001b[0mHISTFILESIZE\u001b[0m\u001b[0;34m=\u001b[0m\u001b[0;36m2000\u001b[0m\u001b[0;34m\u001b[0m\n",
       "\u001b[0;34m\u001b[0m\u001b[0;34m\u001b[0m\n",
       "\u001b[0;34m\u001b[0m\u001b[0;31m# check the window size after each command and, if necessary,\u001b[0m\u001b[0;34m\u001b[0m\n",
       "\u001b[0;34m\u001b[0m\u001b[0;31m# update the values of LINES and COLUMNS.\u001b[0m\u001b[0;34m\u001b[0m\n",
       "\u001b[0;34m\u001b[0m\u001b[0mshopt\u001b[0m \u001b[0;34m-\u001b[0m\u001b[0ms\u001b[0m \u001b[0mcheckwinsize\u001b[0m\u001b[0;34m\u001b[0m\n",
       "\u001b[0;34m\u001b[0m\u001b[0;34m\u001b[0m\n",
       "\u001b[0;34m\u001b[0m\u001b[0;31m# If set, the pattern \"**\" used in a pathname expansion context will\u001b[0m\u001b[0;34m\u001b[0m\n",
       "\u001b[0;34m\u001b[0m\u001b[0;31m# match all files and zero or more directories and subdirectories.\u001b[0m\u001b[0;34m\u001b[0m\n",
       "\u001b[0;34m\u001b[0m\u001b[0;31m#shopt -s globstar\u001b[0m\u001b[0;34m\u001b[0m\n",
       "\u001b[0;34m\u001b[0m\u001b[0;34m\u001b[0m\n",
       "\u001b[0;34m\u001b[0m\u001b[0;31m# make less more friendly for non-text input files, see lesspipe(1)\u001b[0m\u001b[0;34m\u001b[0m\n",
       "\u001b[0;34m\u001b[0m\u001b[0;34m[\u001b[0m \u001b[0;34m-\u001b[0m\u001b[0mx\u001b[0m \u001b[0;34m/\u001b[0m\u001b[0musr\u001b[0m\u001b[0;34m/\u001b[0m\u001b[0mbin\u001b[0m\u001b[0;34m/\u001b[0m\u001b[0mlesspipe\u001b[0m \u001b[0;34m]\u001b[0m \u001b[0;34m&\u001b[0m\u001b[0;34m&\u001b[0m \u001b[0meval\u001b[0m \u001b[0;34m\"$(SHELL=/bin/sh lesspipe)\"\u001b[0m\u001b[0;34m\u001b[0m\n",
       "\u001b[0;34m\u001b[0m\u001b[0;34m\u001b[0m\n",
       "\u001b[0;34m\u001b[0m\u001b[0;31m# set variable identifying the chroot you work in (used in the prompt below)\u001b[0m\u001b[0;34m\u001b[0m\n",
       "\u001b[0;34m\u001b[0m\u001b[0;32mif\u001b[0m \u001b[0;34m[\u001b[0m \u001b[0;34m-\u001b[0m\u001b[0mz\u001b[0m \u001b[0;34m\"${debian_chroot:-}\"\u001b[0m \u001b[0;34m]\u001b[0m \u001b[0;34m&\u001b[0m\u001b[0;34m&\u001b[0m \u001b[0;34m[\u001b[0m \u001b[0;34m-\u001b[0m\u001b[0mr\u001b[0m \u001b[0;34m/\u001b[0m\u001b[0metc\u001b[0m\u001b[0;34m/\u001b[0m\u001b[0mdebian_chroot\u001b[0m \u001b[0;34m]\u001b[0m\u001b[0;34m;\u001b[0m \u001b[0mthen\u001b[0m\u001b[0;34m\u001b[0m\n",
       "\u001b[0;34m\u001b[0m    \u001b[0mdebian_chroot\u001b[0m\u001b[0;34m=\u001b[0m\u001b[0;31m$\u001b[0m\u001b[0;34m(\u001b[0m\u001b[0mcat\u001b[0m \u001b[0;34m/\u001b[0m\u001b[0metc\u001b[0m\u001b[0;34m/\u001b[0m\u001b[0mdebian_chroot\u001b[0m\u001b[0;34m)\u001b[0m\u001b[0;34m\u001b[0m\n",
       "\u001b[0;34m\u001b[0m\u001b[0mfi\u001b[0m\u001b[0;34m\u001b[0m\n",
       "\u001b[0;34m\u001b[0m\u001b[0;34m\u001b[0m\n",
       "\u001b[0;34m\u001b[0m\u001b[0;31m# set a fancy prompt (non-color, unless we know we \"want\" color)\u001b[0m\u001b[0;34m\u001b[0m\n",
       "\u001b[0;34m\u001b[0m\u001b[0mcase\u001b[0m \u001b[0;34m\"$TERM\"\u001b[0m \u001b[0;32min\u001b[0m\u001b[0;34m\u001b[0m\n",
       "\u001b[0;34m\u001b[0m    \u001b[0mxterm\u001b[0m\u001b[0;34m-\u001b[0m\u001b[0mcolor\u001b[0m\u001b[0;34m|\u001b[0m\u001b[0;34m*\u001b[0m\u001b[0;34m-\u001b[0m\u001b[0;36m256\u001b[0m\u001b[0mcolor\u001b[0m\u001b[0;34m)\u001b[0m \u001b[0mcolor_prompt\u001b[0m\u001b[0;34m=\u001b[0m\u001b[0myes\u001b[0m\u001b[0;34m;\u001b[0m\u001b[0;34m;\u001b[0m\u001b[0;34m\u001b[0m\n",
       "\u001b[0;34m\u001b[0m\u001b[0mesac\u001b[0m\u001b[0;34m\u001b[0m\n",
       "\u001b[0;34m\u001b[0m\u001b[0;34m\u001b[0m\n",
       "\u001b[0;34m\u001b[0m\u001b[0;31m# uncomment for a colored prompt, if the terminal has the capability; turned\u001b[0m\u001b[0;34m\u001b[0m\n",
       "\u001b[0;34m\u001b[0m\u001b[0;31m# off by default to not distract the user: the focus in a terminal window\u001b[0m\u001b[0;34m\u001b[0m\n",
       "\u001b[0;34m\u001b[0m\u001b[0;31m# should be on the output of commands, not on the prompt\u001b[0m\u001b[0;34m\u001b[0m\n",
       "\u001b[0;34m\u001b[0m\u001b[0;31m#force_color_prompt=yes\u001b[0m\u001b[0;34m\u001b[0m\n",
       "\u001b[0;34m\u001b[0m\u001b[0;34m\u001b[0m\n",
       "\u001b[0;34m\u001b[0m\u001b[0;32mif\u001b[0m \u001b[0;34m[\u001b[0m \u001b[0;34m-\u001b[0m\u001b[0mn\u001b[0m \u001b[0;34m\"$force_color_prompt\"\u001b[0m \u001b[0;34m]\u001b[0m\u001b[0;34m;\u001b[0m \u001b[0mthen\u001b[0m\u001b[0;34m\u001b[0m\n",
       "\u001b[0;34m\u001b[0m    \u001b[0;32mif\u001b[0m \u001b[0;34m[\u001b[0m \u001b[0;34m-\u001b[0m\u001b[0mx\u001b[0m \u001b[0;34m/\u001b[0m\u001b[0musr\u001b[0m\u001b[0;34m/\u001b[0m\u001b[0mbin\u001b[0m\u001b[0;34m/\u001b[0m\u001b[0mtput\u001b[0m \u001b[0;34m]\u001b[0m \u001b[0;34m&\u001b[0m\u001b[0;34m&\u001b[0m \u001b[0mtput\u001b[0m \u001b[0msetaf\u001b[0m \u001b[0;36m1\u001b[0m \u001b[0;34m>\u001b[0m\u001b[0;34m&\u001b[0m\u001b[0;34m/\u001b[0m\u001b[0mdev\u001b[0m\u001b[0;34m/\u001b[0m\u001b[0mnull\u001b[0m\u001b[0;34m;\u001b[0m \u001b[0mthen\u001b[0m\u001b[0;34m\u001b[0m\n",
       "\u001b[0;34m\u001b[0m        \u001b[0;31m# We have color support; assume it's compliant with Ecma-48\u001b[0m\u001b[0;34m\u001b[0m\n",
       "\u001b[0;34m\u001b[0m        \u001b[0;31m# (ISO/IEC-6429). (Lack of such support is extremely rare, and such\u001b[0m\u001b[0;34m\u001b[0m\n",
       "\u001b[0;34m\u001b[0m        \u001b[0;31m# a case would tend to support setf rather than setaf.)\u001b[0m\u001b[0;34m\u001b[0m\n",
       "\u001b[0;34m\u001b[0m        \u001b[0mcolor_prompt\u001b[0m\u001b[0;34m=\u001b[0m\u001b[0myes\u001b[0m\u001b[0;34m\u001b[0m\n",
       "\u001b[0;34m\u001b[0m    \u001b[0;32melse\u001b[0m\u001b[0;34m\u001b[0m\n",
       "\u001b[0;34m\u001b[0m        \u001b[0mcolor_prompt\u001b[0m\u001b[0;34m=\u001b[0m\u001b[0;34m\u001b[0m\n",
       "\u001b[0;34m\u001b[0m    \u001b[0mfi\u001b[0m\u001b[0;34m\u001b[0m\n",
       "\u001b[0;34m\u001b[0m\u001b[0mfi\u001b[0m\u001b[0;34m\u001b[0m\n",
       "\u001b[0;34m\u001b[0m\u001b[0;34m\u001b[0m\n",
       "\u001b[0;34m\u001b[0m\u001b[0;32mif\u001b[0m \u001b[0;34m[\u001b[0m \u001b[0;34m\"$color_prompt\"\u001b[0m \u001b[0;34m=\u001b[0m \u001b[0myes\u001b[0m \u001b[0;34m]\u001b[0m\u001b[0;34m;\u001b[0m \u001b[0mthen\u001b[0m\u001b[0;34m\u001b[0m\n",
       "\u001b[0;34m\u001b[0m    \u001b[0mPS1\u001b[0m\u001b[0;34m=\u001b[0m\u001b[0;34m'${debian_chroot:+($debian_chroot)}\\[\\033[01;32m\\]\\u@\\h\\[\\033[00m\\]:\\[\\033[01;34m\\]\\w\\[\\033[00m\\]\\$ '\u001b[0m\u001b[0;34m\u001b[0m\n",
       "\u001b[0;34m\u001b[0m\u001b[0;32melse\u001b[0m\u001b[0;34m\u001b[0m\n",
       "\u001b[0;34m\u001b[0m    \u001b[0;31m#PS1='${debian_chroot:+($debian_chroot)}\\u@\\h:\\w\\$ '\u001b[0m\u001b[0;34m\u001b[0m\n",
       "\u001b[0;34m\u001b[0m    \u001b[0mPS1\u001b[0m\u001b[0;34m=\u001b[0m\u001b[0;34m\"[ ${debian_chroot:+($debian_chroot)}\\u: \\w ]\\\\$ \"\u001b[0m\u001b[0;34m\u001b[0m\n",
       "\u001b[0;34m\u001b[0m    \u001b[0mPS2\u001b[0m\u001b[0;34m=\u001b[0m\u001b[0;34m\"&gt; \"\u001b[0m\u001b[0;34m\u001b[0m\n",
       "\u001b[0;34m\u001b[0m\u001b[0mfi\u001b[0m\u001b[0;34m\u001b[0m\n",
       "\u001b[0;34m\u001b[0m\u001b[0munset\u001b[0m \u001b[0mcolor_prompt\u001b[0m \u001b[0mforce_color_prompt\u001b[0m\u001b[0;34m\u001b[0m\n",
       "\u001b[0;34m\u001b[0m\u001b[0;34m\u001b[0m\n",
       "\u001b[0;34m\u001b[0m\u001b[0;31m# If this is an xterm set the title to user@host:dir\u001b[0m\u001b[0;34m\u001b[0m\n",
       "\u001b[0;34m\u001b[0m\u001b[0mcase\u001b[0m \u001b[0;34m\"$TERM\"\u001b[0m \u001b[0;32min\u001b[0m\u001b[0;34m\u001b[0m\n",
       "\u001b[0;34m\u001b[0m\u001b[0mxterm\u001b[0m\u001b[0;34m*\u001b[0m\u001b[0;34m|\u001b[0m\u001b[0mrxvt\u001b[0m\u001b[0;34m*\u001b[0m\u001b[0;34m)\u001b[0m\u001b[0;34m\u001b[0m\n",
       "\u001b[0;34m\u001b[0m    \u001b[0mPS1\u001b[0m\u001b[0;34m=\u001b[0m\u001b[0;34m\"\\[\\e]0;${debian_chroot:+($debian_chroot)}\\u@\\h: \\w\\a\\]$PS1\"\u001b[0m\u001b[0;34m\u001b[0m\n",
       "\u001b[0;34m\u001b[0m    \u001b[0;34m;\u001b[0m\u001b[0;34m;\u001b[0m\u001b[0;34m\u001b[0m\n",
       "\u001b[0;34m\u001b[0m\u001b[0;34m*\u001b[0m\u001b[0;34m)\u001b[0m\u001b[0;34m\u001b[0m\n",
       "\u001b[0;34m\u001b[0m    \u001b[0;34m;\u001b[0m\u001b[0;34m;\u001b[0m\u001b[0;34m\u001b[0m\n",
       "\u001b[0;34m\u001b[0m\u001b[0mesac\u001b[0m\u001b[0;34m\u001b[0m\n",
       "\u001b[0;34m\u001b[0m\u001b[0;34m\u001b[0m\n",
       "\u001b[0;34m\u001b[0m\u001b[0;31m# enable color support of ls and also add handy aliases\u001b[0m\u001b[0;34m\u001b[0m\n",
       "\u001b[0;34m\u001b[0m\u001b[0;32mif\u001b[0m \u001b[0;34m[\u001b[0m \u001b[0;34m-\u001b[0m\u001b[0mx\u001b[0m \u001b[0;34m/\u001b[0m\u001b[0musr\u001b[0m\u001b[0;34m/\u001b[0m\u001b[0mbin\u001b[0m\u001b[0;34m/\u001b[0m\u001b[0mdircolors\u001b[0m \u001b[0;34m]\u001b[0m\u001b[0;34m;\u001b[0m \u001b[0mthen\u001b[0m\u001b[0;34m\u001b[0m\n",
       "\u001b[0;34m\u001b[0m    \u001b[0mtest\u001b[0m \u001b[0;34m-\u001b[0m\u001b[0mr\u001b[0m \u001b[0;34m~\u001b[0m\u001b[0;34m/\u001b[0m\u001b[0;34m.\u001b[0m\u001b[0mdircolors\u001b[0m \u001b[0;34m&\u001b[0m\u001b[0;34m&\u001b[0m \u001b[0meval\u001b[0m \u001b[0;34m\"$(dircolors -b ~/.dircolors)\"\u001b[0m \u001b[0;34m|\u001b[0m\u001b[0;34m|\u001b[0m \u001b[0meval\u001b[0m \u001b[0;34m\"$(dircolors -b)\"\u001b[0m\u001b[0;34m\u001b[0m\n",
       "\u001b[0;34m\u001b[0m\u001b[0;34m\u001b[0m\n",
       "\u001b[0;34m\u001b[0m    \u001b[0malias\u001b[0m \u001b[0mls\u001b[0m\u001b[0;34m=\u001b[0m\u001b[0;34m'ls --color=auto'\u001b[0m\u001b[0;34m\u001b[0m\n",
       "\u001b[0;34m\u001b[0m    \u001b[0malias\u001b[0m \u001b[0mgrep\u001b[0m\u001b[0;34m=\u001b[0m\u001b[0;34m'grep --color=auto'\u001b[0m\u001b[0;34m\u001b[0m\n",
       "\u001b[0;34m\u001b[0m    \u001b[0malias\u001b[0m \u001b[0mfgrep\u001b[0m\u001b[0;34m=\u001b[0m\u001b[0;34m'fgrep --color=auto'\u001b[0m\u001b[0;34m\u001b[0m\n",
       "\u001b[0;34m\u001b[0m    \u001b[0malias\u001b[0m \u001b[0megrep\u001b[0m\u001b[0;34m=\u001b[0m\u001b[0;34m'egrep --color=auto'\u001b[0m\u001b[0;34m\u001b[0m\n",
       "\u001b[0;34m\u001b[0m\u001b[0mfi\u001b[0m\u001b[0;34m\u001b[0m\n",
       "\u001b[0;34m\u001b[0m\u001b[0;34m\u001b[0m\n",
       "\u001b[0;34m\u001b[0m\u001b[0;31m# colored GCC warnings and errors\u001b[0m\u001b[0;34m\u001b[0m\n",
       "\u001b[0;34m\u001b[0m\u001b[0;31m#export GCC_COLORS='error=01;31:warning=01;35:note=01;36:caret=01;32:locus=01:quote=01'\u001b[0m\u001b[0;34m\u001b[0m\n",
       "\u001b[0;34m\u001b[0m\u001b[0;34m\u001b[0m\n",
       "\u001b[0;34m\u001b[0m\u001b[0;34m\u001b[0m\n",
       "\u001b[0;34m\u001b[0m\u001b[0;31m# enable programmable completion features (you don't need to enable\u001b[0m\u001b[0;34m\u001b[0m\n",
       "\u001b[0;34m\u001b[0m\u001b[0;31m# this, if it's already enabled in /etc/bash.bashrc and /etc/profile\u001b[0m\u001b[0;34m\u001b[0m\n",
       "\u001b[0;34m\u001b[0m\u001b[0;31m# sources /etc/bash.bashrc).\u001b[0m\u001b[0;34m\u001b[0m\n",
       "\u001b[0;34m\u001b[0m\u001b[0;32mif\u001b[0m\u001b[0;31m \u001b[0m\u001b[0;31m!\u001b[0m \u001b[0mshopt\u001b[0m \u001b[0;34m-\u001b[0m\u001b[0moq\u001b[0m \u001b[0mposix\u001b[0m\u001b[0;34m;\u001b[0m \u001b[0mthen\u001b[0m\u001b[0;34m\u001b[0m\n",
       "\u001b[0;34m\u001b[0m  \u001b[0;32mif\u001b[0m \u001b[0;34m[\u001b[0m \u001b[0;34m-\u001b[0m\u001b[0mf\u001b[0m \u001b[0;34m/\u001b[0m\u001b[0musr\u001b[0m\u001b[0;34m/\u001b[0m\u001b[0mshare\u001b[0m\u001b[0;34m/\u001b[0m\u001b[0mbash\u001b[0m\u001b[0;34m-\u001b[0m\u001b[0mcompletion\u001b[0m\u001b[0;34m/\u001b[0m\u001b[0mbash_completion\u001b[0m \u001b[0;34m]\u001b[0m\u001b[0;34m;\u001b[0m \u001b[0mthen\u001b[0m\u001b[0;34m\u001b[0m\n",
       "\u001b[0;34m\u001b[0m    \u001b[0;34m.\u001b[0m \u001b[0;34m/\u001b[0m\u001b[0musr\u001b[0m\u001b[0;34m/\u001b[0m\u001b[0mshare\u001b[0m\u001b[0;34m/\u001b[0m\u001b[0mbash\u001b[0m\u001b[0;34m-\u001b[0m\u001b[0mcompletion\u001b[0m\u001b[0;34m/\u001b[0m\u001b[0mbash_completion\u001b[0m\u001b[0;34m\u001b[0m\n",
       "\u001b[0;34m\u001b[0m  \u001b[0;32melif\u001b[0m \u001b[0;34m[\u001b[0m \u001b[0;34m-\u001b[0m\u001b[0mf\u001b[0m \u001b[0;34m/\u001b[0m\u001b[0metc\u001b[0m\u001b[0;34m/\u001b[0m\u001b[0mbash_completion\u001b[0m \u001b[0;34m]\u001b[0m\u001b[0;34m;\u001b[0m \u001b[0mthen\u001b[0m\u001b[0;34m\u001b[0m\n",
       "\u001b[0;34m\u001b[0m    \u001b[0;34m.\u001b[0m \u001b[0;34m/\u001b[0m\u001b[0metc\u001b[0m\u001b[0;34m/\u001b[0m\u001b[0mbash_completion\u001b[0m\u001b[0;34m\u001b[0m\n",
       "\u001b[0;34m\u001b[0m  \u001b[0mfi\u001b[0m\u001b[0;34m\u001b[0m\n",
       "\u001b[0;34m\u001b[0m\u001b[0mfi\u001b[0m\u001b[0;34m\u001b[0m\n",
       "\u001b[0;34m\u001b[0m\u001b[0;34m\u001b[0m\n",
       "\u001b[0;34m\u001b[0m\u001b[0;31m# >>> conda initialize >>>\u001b[0m\u001b[0;34m\u001b[0m\n",
       "\u001b[0;34m\u001b[0m\u001b[0;31m# !! Contents within this block are managed by 'conda init' !!\u001b[0m\u001b[0;34m\u001b[0m\n",
       "\u001b[0;34m\u001b[0m\u001b[0m__conda_setup\u001b[0m\u001b[0;34m=\u001b[0m\u001b[0;34m\"$('/home/cat/miniconda3/bin/conda' 'shell.bash' 'hook' 2> /dev/null)\"\u001b[0m\u001b[0;34m\u001b[0m\n",
       "\u001b[0;34m\u001b[0m\u001b[0;32mif\u001b[0m \u001b[0;34m[\u001b[0m\u001b[0;31m \u001b[0m\u001b[0;31m$\u001b[0m\u001b[0;31m?\u001b[0m \u001b[0;34m-\u001b[0m\u001b[0meq\u001b[0m \u001b[0;36m0\u001b[0m \u001b[0;34m]\u001b[0m\u001b[0;34m;\u001b[0m \u001b[0mthen\u001b[0m\u001b[0;34m\u001b[0m\n",
       "\u001b[0;34m\u001b[0m    \u001b[0meval\u001b[0m \u001b[0;34m\"$__conda_setup\"\u001b[0m\u001b[0;34m\u001b[0m\n",
       "\u001b[0;34m\u001b[0m\u001b[0;32melse\u001b[0m\u001b[0;34m\u001b[0m\n",
       "\u001b[0;34m\u001b[0m    \u001b[0;32mif\u001b[0m \u001b[0;34m[\u001b[0m \u001b[0;34m-\u001b[0m\u001b[0mf\u001b[0m \u001b[0;34m\"/home/cat/miniconda3/etc/profile.d/conda.sh\"\u001b[0m \u001b[0;34m]\u001b[0m\u001b[0;34m;\u001b[0m \u001b[0mthen\u001b[0m\u001b[0;34m\u001b[0m\n",
       "\u001b[0;34m\u001b[0m        \u001b[0;34m.\u001b[0m \u001b[0;34m\"/home/cat/miniconda3/etc/profile.d/conda.sh\"\u001b[0m\u001b[0;34m\u001b[0m\n",
       "\u001b[0;34m\u001b[0m    \u001b[0;32melse\u001b[0m\u001b[0;34m\u001b[0m\n",
       "\u001b[0;34m\u001b[0m        \u001b[0mexport\u001b[0m \u001b[0mPATH\u001b[0m\u001b[0;34m=\u001b[0m\u001b[0;34m\"/home/cat/miniconda3/bin:$PATH\"\u001b[0m\u001b[0;34m\u001b[0m\n",
       "\u001b[0;34m\u001b[0m    \u001b[0mfi\u001b[0m\u001b[0;34m\u001b[0m\n",
       "\u001b[0;34m\u001b[0m\u001b[0mfi\u001b[0m\u001b[0;34m\u001b[0m\n",
       "\u001b[0;34m\u001b[0m\u001b[0munset\u001b[0m \u001b[0m__conda_setup\u001b[0m\u001b[0;34m\u001b[0m\n",
       "\u001b[0;34m\u001b[0m\u001b[0;31m# <<< conda initialize <<<\u001b[0m\u001b[0;34m\u001b[0m\n",
       "\u001b[0;34m\u001b[0m\u001b[0;34m\u001b[0m\n",
       "\u001b[0;34m\u001b[0m\u001b[0mexport\u001b[0m \u001b[0mPATH\u001b[0m\u001b[0;34m=\u001b[0m\u001b[0;34m\"$PATH:/home/cat/miniconda3/envs/mce/bin\"\u001b[0m\u001b[0;31m\n",
       "\n",
       "*** ERROR: EOF in multi-line statement\u001b[0m\n",
       "\u001b[0m\n"
      ]
     },
     "metadata": {},
     "output_type": "display_data"
    }
   ],
   "source": [
    "%pycat mybashrc"
   ]
  },
  {
   "cell_type": "markdown",
   "metadata": {
    "editable": true,
    "slideshow": {
     "slide_type": ""
    },
    "tags": []
   },
   "source": [
    "# 3. `.bash_aliases`\n",
    "\n",
    "#### This is a well-named file! All your aliases should be there (to simplify your life).\n",
    "#### If you choose this setup, the `.bashrc` should contain the following code, so that you can refer to aliases in your functions:\n",
    "```bash\n",
    "# You may want to put all your additions into a separate file like\n",
    "# ~/.bash_aliases, instead of adding them here directly.\n",
    "\n",
    "if [ -f ~/.bash_aliases ]; then\n",
    "    . ~/.bash_aliases\n",
    "fi\n",
    "\n",
    "# These functions, cdl & cda use aliases:\n",
    "cdl(){\n",
    "    cd $1; ll;\n",
    "}\n",
    "\n",
    "to(){\n",
    "    cd $1; la;\n",
    "}\n",
    "```\n",
    "Here, `ll` and `la` are one of the many aliases defined in my `.bash_aliases` file"
   ]
  },
  {
   "cell_type": "code",
   "execution_count": 2,
   "metadata": {
    "editable": true,
    "slideshow": {
     "slide_type": ""
    },
    "tags": []
   },
   "outputs": [
    {
     "data": {
      "text/plain": [
       "\u001b[0;31m## .bashrc_aliases\u001b[0m\u001b[0;34m\u001b[0m\n",
       "\u001b[0;34m\u001b[0m\u001b[0malias\u001b[0m \u001b[0mpath\u001b[0m\u001b[0;34m=\u001b[0m\u001b[0;34m'echo $PATH'\u001b[0m\u001b[0;34m\u001b[0m\n",
       "\u001b[0;34m\u001b[0m\u001b[0;34m\u001b[0m\n",
       "\u001b[0;34m\u001b[0m\u001b[0;31m## mistyping alias:\u001b[0m\u001b[0;34m\u001b[0m\n",
       "\u001b[0;34m\u001b[0m\u001b[0malias\u001b[0m \u001b[0mnn\u001b[0m\u001b[0;34m=\u001b[0m\u001b[0;34m'nano'\u001b[0m\u001b[0;34m\u001b[0m\n",
       "\u001b[0;34m\u001b[0m\u001b[0malias\u001b[0m \u001b[0mnnao\u001b[0m\u001b[0;34m=\u001b[0m\u001b[0;34m'nano'\u001b[0m\u001b[0;34m\u001b[0m\n",
       "\u001b[0;34m\u001b[0m\u001b[0malias\u001b[0m \u001b[0mqusb\u001b[0m\u001b[0;34m=\u001b[0m\u001b[0;34m'qsub'\u001b[0m\u001b[0;34m\u001b[0m\n",
       "\u001b[0;34m\u001b[0m\u001b[0;34m\u001b[0m\n",
       "\u001b[0;34m\u001b[0m\u001b[0;31m## file system and disk usage\u001b[0m\u001b[0;34m\u001b[0m\n",
       "\u001b[0;34m\u001b[0m\u001b[0malias\u001b[0m \u001b[0mdu\u001b[0m\u001b[0;34m=\u001b[0m\u001b[0;34m'du -chx | grep total'\u001b[0m\u001b[0;34m\u001b[0m\n",
       "\u001b[0;34m\u001b[0m\u001b[0malias\u001b[0m \u001b[0mdf\u001b[0m\u001b[0;34m=\u001b[0m\u001b[0;34m'df -kTh'\u001b[0m\u001b[0;34m\u001b[0m\n",
       "\u001b[0;34m\u001b[0m\u001b[0;34m\u001b[0m\n",
       "\u001b[0;34m\u001b[0m\u001b[0;31m## safe version or rm and mv commands: use the interactive version as the default one\u001b[0m\u001b[0;34m\u001b[0m\n",
       "\u001b[0;34m\u001b[0m\u001b[0malias\u001b[0m \u001b[0mrmi\u001b[0m\u001b[0;34m=\u001b[0m\u001b[0;34m'/bin/rm -i'\u001b[0m\u001b[0;34m\u001b[0m\n",
       "\u001b[0;34m\u001b[0m\u001b[0malias\u001b[0m \u001b[0mcpi\u001b[0m\u001b[0;34m=\u001b[0m\u001b[0;34m'/bin/cp -i'\u001b[0m\u001b[0;34m\u001b[0m\n",
       "\u001b[0;34m\u001b[0m\u001b[0;34m\u001b[0m\n",
       "\u001b[0;34m\u001b[0m\u001b[0;31m#alias rm='/bin/rm -i'\u001b[0m\u001b[0;34m\u001b[0m\n",
       "\u001b[0;34m\u001b[0m\u001b[0malias\u001b[0m \u001b[0mmvi\u001b[0m\u001b[0;34m=\u001b[0m\u001b[0;34m'/bin/mv -i'\u001b[0m\u001b[0;34m\u001b[0m\n",
       "\u001b[0;34m\u001b[0m\u001b[0;34m\u001b[0m\n",
       "\u001b[0;34m\u001b[0m\u001b[0;31m## navigation aliases:\u001b[0m\u001b[0;34m\u001b[0m\n",
       "\u001b[0;34m\u001b[0m\u001b[0malias\u001b[0m \u001b[0mup\u001b[0m\u001b[0;34m=\u001b[0m\u001b[0;34m'cd ../; lt'\u001b[0m\u001b[0;34m\u001b[0m\n",
       "\u001b[0;34m\u001b[0m\u001b[0malias\u001b[0m \u001b[0mup2\u001b[0m\u001b[0;34m=\u001b[0m\u001b[0;34m'cd ../../; lt'\u001b[0m\u001b[0;34m\u001b[0m\n",
       "\u001b[0;34m\u001b[0m\u001b[0malias\u001b[0m \u001b[0mup3\u001b[0m\u001b[0;34m=\u001b[0m\u001b[0;34m'cd ../../../; lt'\u001b[0m\u001b[0;34m\u001b[0m\n",
       "\u001b[0;34m\u001b[0m\u001b[0;34m\u001b[0m\n",
       "\u001b[0;34m\u001b[0m\u001b[0;31m## listing aliases, all with human readable filesize:\u001b[0m\u001b[0;34m\u001b[0m\n",
       "\u001b[0;34m\u001b[0m\u001b[0malias\u001b[0m \u001b[0mll\u001b[0m\u001b[0;34m=\u001b[0m\u001b[0;34m'ls -hFl --color; pwd'\u001b[0m\u001b[0;34m\u001b[0m\n",
       "\u001b[0;34m\u001b[0m\u001b[0malias\u001b[0m \u001b[0mlr\u001b[0m\u001b[0;34m=\u001b[0m\u001b[0;34m'ls -hFlr --color; pwd'\u001b[0m       \u001b[0;31m# list in descending order\u001b[0m\u001b[0;34m\u001b[0m\n",
       "\u001b[0;34m\u001b[0m\u001b[0malias\u001b[0m \u001b[0mlar\u001b[0m\u001b[0;34m=\u001b[0m\u001b[0;34m'ls -hFlar --color; pwd'\u001b[0m     \u001b[0;31m# show hidden + descending order\u001b[0m\u001b[0;34m\u001b[0m\n",
       "\u001b[0;34m\u001b[0m\u001b[0malias\u001b[0m \u001b[0mla\u001b[0m\u001b[0;34m=\u001b[0m\u001b[0;34m'ls -hFla --color; pwd'\u001b[0m       \u001b[0;31m# show hidden files\u001b[0m\u001b[0;34m\u001b[0m\n",
       "\u001b[0;34m\u001b[0m\u001b[0malias\u001b[0m \u001b[0mlx\u001b[0m\u001b[0;34m=\u001b[0m\u001b[0;34m'ls -hFlXB --color; pwd'\u001b[0m      \u001b[0;31m# sort by extension\u001b[0m\u001b[0;34m\u001b[0m\n",
       "\u001b[0;34m\u001b[0m\u001b[0malias\u001b[0m \u001b[0mlk\u001b[0m\u001b[0;34m=\u001b[0m\u001b[0;34m'ls -hFlS --color; pwd'\u001b[0m       \u001b[0;31m# sort by size\u001b[0m\u001b[0;34m\u001b[0m\n",
       "\u001b[0;34m\u001b[0m\u001b[0malias\u001b[0m \u001b[0mlkr\u001b[0m\u001b[0;34m=\u001b[0m\u001b[0;34m'ls -hFlSr --color; pwd'\u001b[0m     \u001b[0;31m# sort by size\u001b[0m\u001b[0;34m\u001b[0m\n",
       "\u001b[0;34m\u001b[0m\u001b[0malias\u001b[0m \u001b[0mlc\u001b[0m\u001b[0;34m=\u001b[0m\u001b[0;34m'ls -hFlcr --color; pwd'\u001b[0m      \u001b[0;31m# sort by change time\u001b[0m\u001b[0;34m\u001b[0m\n",
       "\u001b[0;34m\u001b[0m\u001b[0malias\u001b[0m \u001b[0mlu\u001b[0m\u001b[0;34m=\u001b[0m\u001b[0;34m'ls -hFlur --color; pwd'\u001b[0m      \u001b[0;31m# sort by last file access time\u001b[0m\u001b[0;34m\u001b[0m\n",
       "\u001b[0;34m\u001b[0m\u001b[0malias\u001b[0m \u001b[0mlt\u001b[0m\u001b[0;34m=\u001b[0m\u001b[0;34m'ls -hFltr --color; pwd'\u001b[0m      \u001b[0;31m# sort by date: newest at bottom\u001b[0m\u001b[0;34m\u001b[0m\n",
       "\u001b[0;34m\u001b[0m\u001b[0malias\u001b[0m \u001b[0mltt\u001b[0m\u001b[0;34m=\u001b[0m\u001b[0;34m'ls -hFlt --color; pwd'\u001b[0m      \u001b[0;31m# sort by date: newest on top\u001b[0m\u001b[0;34m\u001b[0m\n",
       "\u001b[0;34m\u001b[0m\u001b[0malias\u001b[0m \u001b[0mlm\u001b[0m\u001b[0;34m=\u001b[0m\u001b[0;34m'ls -hFla --color | more'\u001b[0m     \u001b[0;31m# pipe through 'more'\u001b[0m\u001b[0;34m\u001b[0m\n",
       "\u001b[0;34m\u001b[0m\u001b[0;34m\u001b[0m\n",
       "\u001b[0;34m\u001b[0m\u001b[0;31m## often used directories\u001b[0m\u001b[0;34m\u001b[0m\n",
       "\u001b[0;34m\u001b[0m\u001b[0malias\u001b[0m \u001b[0mhom\u001b[0m\u001b[0;34m=\u001b[0m\u001b[0;34m'cd ~; w; la'\u001b[0m\u001b[0;34m\u001b[0m\n",
       "\u001b[0;34m\u001b[0m\u001b[0malias\u001b[0m \u001b[0mmcc\u001b[0m\u001b[0;34m=\u001b[0m\u001b[0;34m'cd ~/projects/Stable-MCCE/; la'\u001b[0m\u001b[0;34m\u001b[0m\n",
       "\u001b[0;34m\u001b[0m\u001b[0malias\u001b[0m \u001b[0mmcdev\u001b[0m\u001b[0;34m=\u001b[0m\u001b[0;34m'cd ~/projects/mcce_dev/; la'\u001b[0m\u001b[0;34m\u001b[0m\n",
       "\u001b[0;34m\u001b[0m\u001b[0;34m\u001b[0m\n",
       "\u001b[0;34m\u001b[0m\u001b[0;31m## shorcut for exiting\u001b[0m\u001b[0;34m\u001b[0m\n",
       "\u001b[0;34m\u001b[0m\u001b[0malias\u001b[0m \u001b[0mxx\u001b[0m\u001b[0;34m=\u001b[0m\u001b[0;34m'logout'\u001b[0m\u001b[0;34m\u001b[0m\n",
       "\u001b[0;34m\u001b[0m\u001b[0;34m\u001b[0m\n",
       "\u001b[0;34m\u001b[0m\u001b[0;31m# Add an \"alert\" alias for long running commands.  Use like so:\u001b[0m\u001b[0;34m\u001b[0m\n",
       "\u001b[0;34m\u001b[0m\u001b[0;31m#   sleep 10; alert\u001b[0m\u001b[0;34m\u001b[0m\n",
       "\u001b[0;34m\u001b[0m\u001b[0malias\u001b[0m \u001b[0malert\u001b[0m\u001b[0;34m=\u001b[0m\u001b[0;34m'notify-send --urgency=low -i \"$([ $? = 0 ] && echo terminal || echo error)\" \"$(history|tail -n1|sed -e '\u001b[0m\u001b[0;31m\\\u001b[0m\u001b[0;34m''\u001b[0m\u001b[0ms\u001b[0m\u001b[0;34m/\u001b[0m\u001b[0;34m^\u001b[0m\u001b[0;31m\\\u001b[0m\u001b[0ms\u001b[0m\u001b[0;34m*\u001b[0m\u001b[0;34m[\u001b[0m\u001b[0;36m0\u001b[0m\u001b[0;34m-\u001b[0m\u001b[0;36m9\u001b[0m\u001b[0;34m]\u001b[0m\u001b[0;31m\\\u001b[0m\u001b[0;34m+\u001b[0m\u001b[0;31m\\\u001b[0m\u001b[0ms\u001b[0m\u001b[0;34m*\u001b[0m\u001b[0;34m//\u001b[0m\u001b[0;34m;\u001b[0m\u001b[0ms\u001b[0m\u001b[0;34m/\u001b[0m\u001b[0;34m[\u001b[0m\u001b[0;34m;\u001b[0m\u001b[0;34m&\u001b[0m\u001b[0;34m|\u001b[0m\u001b[0;34m]\u001b[0m\u001b[0;31m\\\u001b[0m\u001b[0ms\u001b[0m\u001b[0;34m*\u001b[0m\u001b[0malert\u001b[0m\u001b[0;31m$\u001b[0m\u001b[0;34m//\u001b[0m\u001b[0;34m'\\''\u001b[0m\u001b[0;34m)\u001b[0m\u001b[0;31m\"\u001b[0m\u001b[0;31m'\u001b[0m\u001b[0;31m\n",
       "\n",
       "*** ERROR: EOF in multi-line statement\u001b[0m\n",
       "\u001b[0m\n"
      ]
     },
     "metadata": {},
     "output_type": "display_data"
    }
   ],
   "source": [
    "%pycat mybash_aliases"
   ]
  },
  {
   "cell_type": "markdown",
   "metadata": {
    "editable": true,
    "slideshow": {
     "slide_type": ""
    },
    "tags": []
   },
   "source": [
    "### Some options for `ls`:\n",
    "\n",
    "__-F__: adds symbols to the end of each entry to indicate the type of the file. Here's what it does:\n",
    "\n",
    "Files: Regular files are displayed without any additional symbols.\n",
    "Directories: Directories are marked with a trailing /.\n",
    "Executable Files: Executable files are marked with a trailing *.\n",
    "Symbolic Links: Symbolic links are marked with a trailing @.\n",
    "Sockets: Sockets are marked with a trailing =.\n",
    "FIFOs (Named Pipes): FIFOs are marked with a trailing |.\n",
    "\n",
    "__-h__: makes the file sizes in the output more human-readable, using units like KB, MB, GB, etc."
   ]
  },
  {
   "cell_type": "markdown",
   "metadata": {
    "editable": true,
    "slideshow": {
     "slide_type": ""
    },
    "tags": []
   },
   "source": [
    "### Remember to source or \"dot\" `.bashrc` whenever you amend it or `.bash_aliases`:\n",
    "```\n",
    ". .bashrc\n",
    "```\n",
    "OR:\n",
    "```\n",
    "source .bashrc\n",
    "```"
   ]
  }
 ],
 "metadata": {
  "jupytext": {
   "formats": "ipynb,md"
  },
  "kernelspec": {
   "display_name": "Python 3 (ipykernel)",
   "language": "python",
   "name": "python3"
  },
  "language_info": {
   "codemirror_mode": {
    "name": "ipython",
    "version": 3
   },
   "file_extension": ".py",
   "mimetype": "text/x-python",
   "name": "python",
   "nbconvert_exporter": "python",
   "pygments_lexer": "ipython3",
   "version": "3.11.5"
  }
 },
 "nbformat": 4,
 "nbformat_minor": 4
}
