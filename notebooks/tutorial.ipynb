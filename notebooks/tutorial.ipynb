{
 "cells": [
  {
   "cell_type": "markdown",
   "metadata": {},
   "source": [
    "# TUTORIAL: Discovering microstates using `ms_sampling_to_pdbs` executable module\n",
    "### This tutorial demonstrates the programmatic usage of various functions when the module is imported.\n",
    "### For usage of the module as a command line interface, see the README.md file. \n",
    "## Note:\n",
    "### If your ms_out folder is zipped, you need to unzip it.\n",
    "---\n",
    "\n",
    "__RUN THESE FIRST 3 CELLS without modifications__:"
   ]
  },
  {
   "cell_type": "code",
   "execution_count": null,
   "metadata": {
    "jupyter": {
     "source_hidden": true
    }
   },
   "outputs": [],
   "source": [
    "import sys\n",
    "from pathlib import Path\n",
    "import time\n",
    "import numpy as np\n",
    "from pprint import pprint as pp\n",
    "import matplotlib as mpl\n",
    "from matplotlib import pyplot as plt\n",
    "plt.ion()\n",
    "#plt.style.use('seaborn-v0_8-muted')\n",
    "\n",
    "from IPython.display import Markdown\n",
    "# To get multiple outputs into 1 cell w/o using print:\n",
    "from IPython.core.interactiveshell import InteractiveShell\n",
    "InteractiveShell.ast_node_interactivity = \"all\"\n",
    "\n",
    "# autoreload extension\n",
    "from IPython import get_ipython\n",
    "\n",
    "ipython = get_ipython()\n",
    "if 'autoreload' not in ipython.extension_manager.loaded:\n",
    "    %load_ext autoreload\n",
    "%autoreload 2\n",
    "\n",
    "# -----------------------------------------\n",
    "# TWO USEFUL FUNCTIONS:\n",
    "\n",
    "def add_to_sys_path(this_path, up=False):\n",
    "    \"\"\"\n",
    "    Prepend this_path to sys.path.\n",
    "    If up=True, path refers to parent folder (1 level up).\n",
    "    \"\"\"\n",
    "    if up:\n",
    "        newp = Path(this_path).parent\n",
    "    else:\n",
    "        newp = Path(this_path)\n",
    "    src = newp.joinpath(\"src\")\n",
    "    if src.exists():\n",
    "        newp = str(src)\n",
    "    else:\n",
    "        newp = str(newp)\n",
    "    if newp not in sys.path:\n",
    "        sys.path.insert(1, newp)\n",
    "        print('Path added to sys.path: {}'.format(newp))\n",
    "\n",
    "\n",
    "# Filtered dir() for method discovery:\n",
    "def fdir(obj, start_with_str='_', exclude=True):\n",
    "    return [d for d in dir(obj) if not d.startswith(start_with_str) == exclude]\n"
   ]
  },
  {
   "cell_type": "code",
   "execution_count": null,
   "metadata": {},
   "outputs": [],
   "source": [
    "# Insert current src dir into sys.path so that modules in ../src can be imported:\n",
    "add_to_sys_path(Path.cwd(), up=True)"
   ]
  },
  {
   "cell_type": "code",
   "execution_count": null,
   "metadata": {},
   "outputs": [],
   "source": [
    "from functools import partial\n",
    "import ms_sampling_to_pdbs as sampling\n",
    "\n",
    "load_npz = partial(np.load, allow_pickle=True)\n",
    "save_npz = partial(np.savez, allow_pickle=True)"
   ]
  },
  {
   "cell_type": "markdown",
   "metadata": {},
   "source": [
    "---\n",
    "---\n",
    "# CONTENTS\n",
    "\n",
    "## Paths definitions\n",
    "## Test executable module\n",
    "## Info from header and MC files (there is no microstate data in the ms instance, yet)\n",
    "### _header_ file\n",
    "### MCx file\n",
    "## Obtaining the microstates data\n",
    "## What's in MCx.npz?\n",
    "## Create the \"Sampled Microstates State Matrix\" data (sms_data in .npz file)\n",
    "## What's in a smsmx_*.npz file?\n",
    "## Matrix from a random sampling\n",
    "### info contents\n",
    "### sel_energies (i.e. selection energies) contents\n",
    "### smsm: the matrix\n",
    "### Using the top 2 rows of the matrix\n",
    "## Matrix from a deterministic sampling\n",
    "### info contents\n",
    "### sel_energies (i.e. selection energies) contents\n",
    "### smsm: the matrix\n",
    "### Getting a microstste object from the matrix\n",
    "## Returning data when calling `sampling.get_smsm`\n",
    "## Create a pdb collection from smsm data: use `sampling.pdbs_from_smsm`\n",
    "## Inspect a pdb head\n",
    "---\n",
    "---"
   ]
  },
  {
   "cell_type": "markdown",
   "metadata": {},
   "source": [
    "---\n",
    "## Paths definitions"
   ]
  },
  {
   "cell_type": "code",
   "execution_count": null,
   "metadata": {},
   "outputs": [],
   "source": [
    "HERE = Path.cwd()  # do not change\n",
    "\n",
    "test_folder = \"granepura_GunnerLab/mcce_data\" # you can change this to any other mcce folder\n",
    "mcce_dir = HERE.parent.parent.joinpath(test_folder)  # do not change\n",
    "mcce_dir, mcce_dir.exists()"
   ]
  },
  {
   "cell_type": "code",
   "execution_count": null,
   "metadata": {},
   "outputs": [],
   "source": [
    "!ls -l {mcce_dir}"
   ]
  },
  {
   "cell_type": "code",
   "execution_count": null,
   "metadata": {},
   "outputs": [],
   "source": [
    "sampling.check_mcce_dir(mcce_dir)  # should run error-free"
   ]
  },
  {
   "cell_type": "code",
   "execution_count": null,
   "metadata": {},
   "outputs": [],
   "source": [
    "msout_dir = mcce_dir.joinpath(\"ms_out\")\n",
    "\n",
    "!ls -l {msout_dir}"
   ]
  },
  {
   "cell_type": "markdown",
   "metadata": {},
   "source": [
    "---\n",
    "## Test executable module"
   ]
  },
  {
   "cell_type": "code",
   "execution_count": null,
   "metadata": {},
   "outputs": [],
   "source": [
    "# Need to change pH, Eh according to the file(s) listed in msout_dir\n",
    "pH = 7\n",
    "Eh= 0\n",
    "overwrite = False\n",
    "\n",
    "ms = sampling.MS(mcce_dir, pH, Eh, overwrite_split_files=overwrite)\n",
    "print(ms)  # show how MS was instantiated"
   ]
  },
  {
   "cell_type": "code",
   "execution_count": null,
   "metadata": {},
   "outputs": [],
   "source": [
    "! ls -l {ms.msout_file_dir}"
   ]
  },
  {
   "cell_type": "markdown",
   "metadata": {},
   "source": [
    "---\n",
    "## Info from header and MC files (there is no microstate data in the ms instance, yet):"
   ]
  },
  {
   "cell_type": "code",
   "execution_count": null,
   "metadata": {},
   "outputs": [],
   "source": [
    "print(f\"{len(ms.fixed_residue_names) = }; {len(ms.fixed_iconfs) = };\\n{len(ms.free_residue_names) = }\\n\")\n",
    "print(f\"{ms.counts = }, should be 0: {ms.counts==0}\\n{ms.selected_MC = }, should be None: {ms.selected_MC is None}\")"
   ]
  },
  {
   "cell_type": "markdown",
   "metadata": {},
   "source": [
    "## header file:"
   ]
  },
  {
   "cell_type": "code",
   "execution_count": null,
   "metadata": {},
   "outputs": [],
   "source": [
    "hdr = ms.msout_file_dir.joinpath(\"header\")\n",
    "\n",
    "print(\"The 3rd line lists the fixed confs\\nThe 4th line lists the free residues confs\\n\")\n",
    "! head -n4 {hdr}"
   ]
  },
  {
   "cell_type": "markdown",
   "metadata": {},
   "source": [
    "## MC0 file:"
   ]
  },
  {
   "cell_type": "code",
   "execution_count": null,
   "metadata": {},
   "outputs": [],
   "source": [
    "mc0 = ms.msout_file_dir.joinpath(\"MC0\")\n",
    "\n",
    "print(\"The first line lists the free residues confs selected in the initial state of the MC0 run:\\n\")\n",
    "! head -n3 {mc0}"
   ]
  },
  {
   "cell_type": "markdown",
   "metadata": {},
   "source": [
    "---\n",
    "## Obtaining the microstates data:"
   ]
  },
  {
   "cell_type": "code",
   "execution_count": null,
   "metadata": {},
   "outputs": [],
   "source": [
    "# data for MC index = idx\n",
    "idx = 0\n",
    "ms.get_mc_data(idx)\n",
    "\n",
    "print(f\"{ms.counts = :,}; {ms.MC_RUNS = :,}\")\n",
    "print(f\"{len(ms.microstates) = :,}\")"
   ]
  },
  {
   "cell_type": "code",
   "execution_count": null,
   "metadata": {},
   "outputs": [],
   "source": [
    "# Notice the MCx.npz file created:\n",
    "!ls -l {ms.msout_file_dir}"
   ]
  },
  {
   "cell_type": "markdown",
   "metadata": {},
   "source": [
    "## What's in MC0.npz?"
   ]
  },
  {
   "cell_type": "code",
   "execution_count": null,
   "metadata": {},
   "outputs": [],
   "source": [
    "MC0 = load_npz(ms.msout_file_dir.joinpath(\"MC0.npz\"))\n",
    "# The files in a MCx.npz file can be accessed like a dictionnary\n",
    "MC0.files   # ignore 'allow_pickle'\n",
    "\n",
    "counts = MC0[\"counts\"]           # -> used to populate ms.counts\n",
    "microstates = MC0[\"microstates\"] # -> np.array used to populate ms.microstates after conversion to list\n",
    "print(f\"{counts = :,}, {len(microstates) = :,}\")\n",
    "\n",
    "# ms.microstates holds a list of Microstates objects:\n",
    "ms.microstates[:5]"
   ]
  },
  {
   "cell_type": "code",
   "execution_count": null,
   "metadata": {},
   "outputs": [],
   "source": [
    "# Here are the attibutes of the first microstate:\n",
    "mc0 = ms.microstates[0]\n",
    "print(f\"{mc0.E = :,.2f}, {mc0.count = :,}\\n{mc0.state() = }\")"
   ]
  },
  {
   "cell_type": "markdown",
   "metadata": {},
   "source": [
    "---\n",
    "## Create the \"Sampled Microstates State Matrix\" data (sms_data in .npz file)"
   ]
  },
  {
   "cell_type": "code",
   "execution_count": null,
   "metadata": {},
   "outputs": [],
   "source": [
    "print(sampling.get_smsm.__doc__)"
   ]
  },
  {
   "cell_type": "markdown",
   "metadata": {},
   "source": [
    "## What's in a smsmx_*.npz file?\n",
    "### info         :: info needed to recover the original microstate\n",
    "### sel_energies :: the selection energies (floats) of the selected microstates; saved separately to keep the matrix single typed (integers).\n",
    "### smsm         :: the state matrix\n"
   ]
  },
  {
   "cell_type": "markdown",
   "metadata": {},
   "source": [
    "---\n",
    "## Matrix from a random sampling:"
   ]
  },
  {
   "cell_type": "code",
   "execution_count": null,
   "metadata": {},
   "outputs": [],
   "source": [
    "n_sample_size = 3\n",
    "sample_kind = \"random\"\n",
    "\n",
    "# Here, `only_save`=True means create and save the file.\n",
    "# We're going to reload it shortly.\n",
    "sampling.get_smsm(ms, n_sample_size, sample_kind, only_save=True)\n",
    "\n",
    "# file created:\n",
    "smsm_r_file = sampling.get_output_filename(ms.selected_MC, sample_kind, \"\", False, size=n_sample_size)\n",
    "smsm_r_file"
   ]
  },
  {
   "cell_type": "code",
   "execution_count": null,
   "metadata": {},
   "outputs": [],
   "source": [
    "# Notice the smsmx_*.npz file created:\n",
    "!ls -l {ms.msout_file_dir}"
   ]
  },
  {
   "cell_type": "code",
   "execution_count": null,
   "metadata": {},
   "outputs": [],
   "source": [
    "smsm_r_data = load_npz(ms.msout_file_dir.joinpath(smsm_r_file))\n",
    "smsm_r_data.files  # ignore 'allow_pickle'"
   ]
  },
  {
   "cell_type": "markdown",
   "metadata": {},
   "source": [
    "### info contents:"
   ]
  },
  {
   "cell_type": "code",
   "execution_count": null,
   "metadata": {},
   "outputs": [],
   "source": [
    "info_r = smsm_r_data[\"info\"]\n",
    "len(info_r)\n",
    "info_r"
   ]
  },
  {
   "cell_type": "code",
   "execution_count": null,
   "metadata": {},
   "outputs": [],
   "source": [
    "# Here is a helper function to return a dict from the info:\n",
    "info_dict = sampling.smsm_data_info_to_dict(smsm_r_data[\"info\"])\n",
    "pp(info_dict)"
   ]
  },
  {
   "cell_type": "code",
   "execution_count": null,
   "metadata": {},
   "outputs": [],
   "source": [
    "# matrix shape:\n",
    "r, c = info_dict[\"smsm_shape\"]\n",
    "r, c\n",
    "\n",
    "# Check: the number of rows (r) should equal len(ms.free_residues +2) (more on the +2 shortly)\n",
    "r == len(ms.free_residues) + 2"
   ]
  },
  {
   "cell_type": "markdown",
   "metadata": {},
   "source": [
    "### sel_energies (i.e. selection energies) contents:"
   ]
  },
  {
   "cell_type": "code",
   "execution_count": null,
   "metadata": {},
   "outputs": [],
   "source": [
    "energies_r = smsm_r_data[\"sel_energies\"]\n",
    "energies_r.shape\n",
    "energies_r  # with ridiculous precision!"
   ]
  },
  {
   "cell_type": "markdown",
   "metadata": {},
   "source": [
    "### smsm: the matrix"
   ]
  },
  {
   "cell_type": "code",
   "execution_count": null,
   "metadata": {},
   "outputs": [],
   "source": [
    "smsm0r = smsm_r_data[\"smsm\"]  # a np array\n",
    "smsm0r.shape, smsm0r.dtype\n",
    "\n",
    "smsm0r"
   ]
  },
  {
   "cell_type": "markdown",
   "metadata": {},
   "source": [
    "---\n",
    "## Using the top 2 rows of the matrix:\n",
    "### First row: the selection index: depends on the kind of sampling\n",
    "### Second row: the microstate index of creation\n",
    "\n",
    "The original microstate object can be \"recover\" with this function:"
   ]
  },
  {
   "cell_type": "code",
   "execution_count": null,
   "metadata": {},
   "outputs": [],
   "source": [
    "col_index = 0\n",
    "\n",
    "original_ms = sampling.get_ms_from_smsm(ms, smsm_r_data, col_index)\n",
    "print(original_ms)\n",
    "\n",
    "# Check [1,col_index] == original_ms.idx:\n",
    "smsm0r[1,col_index] == original_ms.idx"
   ]
  },
  {
   "cell_type": "markdown",
   "metadata": {},
   "source": [
    "#### Note: when sampling kind is random, the original ms can be recovered directly from ms.microstates:"
   ]
  },
  {
   "cell_type": "code",
   "execution_count": null,
   "metadata": {},
   "outputs": [],
   "source": [
    "i = smsm0r[0,col_index]\n",
    "m = ms.microstates[i]\n",
    "print(m)"
   ]
  },
  {
   "cell_type": "markdown",
   "metadata": {},
   "source": [
    "---\n",
    "## Matrix from a deterministic sampling:"
   ]
  },
  {
   "cell_type": "code",
   "execution_count": null,
   "metadata": {},
   "outputs": [],
   "source": [
    "n_sample_size = 3\n",
    "sample_kind = \"deterministic\"\n",
    "ms_sort_by = \"energy\"\n",
    "\n",
    "# Here, `only_save`=True means create and save the file.\n",
    "# We're going to reload it shortly.\n",
    "sampling.get_smsm(ms, n_sample_size, sample_kind,ms_sort_by, only_save=True)\n",
    "\n",
    "# file created:\n",
    "smsm_d_file = sampling.get_output_filename(ms.selected_MC, sample_kind,  ms_sort_by, False, size=n_sample_size)\n",
    "smsm_d_file"
   ]
  },
  {
   "cell_type": "code",
   "execution_count": null,
   "metadata": {},
   "outputs": [],
   "source": [
    "!ls -l {ms.msout_file_dir}"
   ]
  },
  {
   "cell_type": "code",
   "execution_count": null,
   "metadata": {},
   "outputs": [],
   "source": [
    "smsm_d_data = load_npz(ms.msout_file_dir.joinpath(smsm_d_file))\n",
    "smsm_d_data.files  # ignore 'allow_pickle'"
   ]
  },
  {
   "cell_type": "markdown",
   "metadata": {},
   "source": [
    "### info contents:"
   ]
  },
  {
   "cell_type": "code",
   "execution_count": null,
   "metadata": {},
   "outputs": [],
   "source": [
    "info_d = smsm_d_data[\"info\"]\n",
    "\n",
    "info_dict_d = sampling.smsm_data_info_to_dict(smsm_d_data[\"info\"])\n",
    "pp(info_dict_d)"
   ]
  },
  {
   "cell_type": "markdown",
   "metadata": {},
   "source": [
    "### sel_energies (i.e. selection energies) contents:"
   ]
  },
  {
   "cell_type": "code",
   "execution_count": null,
   "metadata": {},
   "outputs": [],
   "source": [
    "energies_d = smsm_r_data[\"sel_energies\"]\n",
    "energies_d.shape\n",
    "energies_d"
   ]
  },
  {
   "cell_type": "markdown",
   "metadata": {},
   "source": [
    "### smsm: the matrix"
   ]
  },
  {
   "cell_type": "code",
   "execution_count": null,
   "metadata": {},
   "outputs": [],
   "source": [
    "smsm0d = smsm_d_data[\"smsm\"]\n",
    "smsm0d.shape, smsm0d.dtype\n",
    "\n",
    "smsm0d"
   ]
  },
  {
   "cell_type": "markdown",
   "metadata": {},
   "source": [
    "### Getting a microstate object from the matrix:"
   ]
  },
  {
   "cell_type": "code",
   "execution_count": null,
   "metadata": {},
   "outputs": [],
   "source": [
    "col_index = 0\n",
    "\n",
    "original_ms = sampling.get_ms_from_smsm(ms, smsm_d_data, col_index)\n",
    "print(original_ms)\n",
    "\n",
    "# Check [1,col_index] == original_ms.idx:\n",
    "smsm0d[1,col_index] == original_ms.idx"
   ]
  },
  {
   "cell_type": "markdown",
   "metadata": {},
   "source": [
    "### No direct access to a microstate from ms.microstates if sampling is deterministic:"
   ]
  },
  {
   "cell_type": "code",
   "execution_count": null,
   "metadata": {},
   "outputs": [],
   "source": [
    "i = smsm0d[0,col_index]\n",
    "m = ms.microstates[i]\n",
    "print(m)\n",
    "\n",
    "smsm0d[1,col_index] == m.idx"
   ]
  },
  {
   "cell_type": "markdown",
   "metadata": {},
   "source": [
    "---\n",
    "## Returning data when calling `sampling.get_smsm`\n",
    "### Simply omit the `only_save` argument (default is False)"
   ]
  },
  {
   "cell_type": "code",
   "execution_count": null,
   "metadata": {},
   "outputs": [],
   "source": [
    "n_sample_size = 3\n",
    "sample_kind =  \"deterministic\"\n",
    "ms_sort_by = \"energy\"\n",
    "save = True   # up to you\n",
    "\n",
    "info, selection_energies, smsm = sampling.get_smsm(ms, n_sample_size, sample_kind, ms_sort_by, save_to_npz=save)"
   ]
  },
  {
   "cell_type": "code",
   "execution_count": null,
   "metadata": {},
   "outputs": [],
   "source": [
    "info_dict = sampling.smsm_data_info_to_dict(info)\n",
    "pp(info_dict)"
   ]
  },
  {
   "cell_type": "markdown",
   "metadata": {},
   "source": [
    "---\n",
    "## Create a pdb collection from smsm data: use `sampling.pdbs_from_smsm`\n",
    "\n",
    "## Note:\n",
    "#### The `output_dir` can be set to anything: the actual output location wil be `output_dir/pdbs_from_ms`.\n",
    "#### Yet, it is recommend not to pass it at all (the default is None) then, the pdbs are created \"where they belong\", i.e. in `/ms_out/pH7eH0ms/pdbs_from_ms`.\n",
    "\n",
    "The default location can be accessed using the instance:\n",
    "```\n",
    "pdb_folder = ms.msout_file_dir.joinpath(\"pdbs_from_ms\")\n",
    "```"
   ]
  },
  {
   "cell_type": "code",
   "execution_count": null,
   "metadata": {
    "scrolled": true
   },
   "outputs": [],
   "source": [
    "n_sample_size = 3\n",
    "sample_kind =  \"deterministic\"\n",
    "ms_sort_by = \"count\" #\"energy\"\n",
    "save = True\n",
    "#output_dir = Path.cwd()   # default output location if commented\n",
    "\n",
    "sampling.pdbs_from_smsm(ms,\n",
    "                        n_sample_size,\n",
    "                        sample_kind,\n",
    "                        sort_by = ms_sort_by,\n",
    "                        sort_reverse = False,\n",
    "                        seed = None,\n",
    "                        output_pdb_format = \"standard\",\n",
    "                        #output_dir = output_dir,\n",
    "                        clear_pdbs_folder = False,\n",
    "                        list_files = True\n",
    "                       )\n"
   ]
  },
  {
   "cell_type": "code",
   "execution_count": null,
   "metadata": {},
   "outputs": [],
   "source": [
    "pdb_folder = ms.msout_file_dir.joinpath(\"pdbs_from_ms\")\n",
    "\n",
    "!ls -l {pdb_folder}"
   ]
  },
  {
   "cell_type": "code",
   "execution_count": null,
   "metadata": {},
   "outputs": [],
   "source": [
    "sel_index = 452162  # pickone that exists!\n",
    "\n",
    "pdb_name = sampling.get_output_filename(ms.selected_MC, sample_kind,  ms_sort_by, False, sel_index=sel_index, for_pdb=True)\n",
    "pdb_path = pdb_folder.joinpath(pdb_name)\n",
    "pdb_path"
   ]
  },
  {
   "cell_type": "markdown",
   "metadata": {},
   "source": [
    "---\n",
    "## Inspect a pdb head:"
   ]
  },
  {
   "cell_type": "code",
   "execution_count": null,
   "metadata": {},
   "outputs": [],
   "source": [
    "!head -n 50 {pdb_path}"
   ]
  },
  {
   "cell_type": "markdown",
   "metadata": {},
   "source": [
    "---\n",
    "---"
   ]
  }
 ],
 "metadata": {
  "jupytext": {
   "formats": "ipynb,md"
  },
  "kernelspec": {
   "display_name": "Python [conda env:mce]",
   "language": "python",
   "name": "conda-env-mce-py"
  },
  "language_info": {
   "codemirror_mode": {
    "name": "ipython",
    "version": 3
   },
   "file_extension": ".py",
   "mimetype": "text/x-python",
   "name": "python",
   "nbconvert_exporter": "python",
   "pygments_lexer": "ipython3",
   "version": "3.11.5"
  }
 },
 "nbformat": 4,
 "nbformat_minor": 4
}
