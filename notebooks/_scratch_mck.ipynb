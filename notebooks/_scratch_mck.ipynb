{
 "cells": [
  {
   "cell_type": "markdown",
   "metadata": {},
   "source": [
    "_Cell 1: from jupyterlab template_: run it"
   ]
  },
  {
   "cell_type": "code",
   "execution_count": 1,
   "metadata": {
    "jupyter": {
     "source_hidden": true
    }
   },
   "outputs": [],
   "source": [
    "import sys\n",
    "from pathlib import Path\n",
    "import time\n",
    "import numpy as np\n",
    "from pprint import pprint as pp\n",
    "import matplotlib as mpl\n",
    "from matplotlib import pyplot as plt\n",
    "plt.ion()\n",
    "#plt.style.use('seaborn-v0_8-muted')\n",
    "\n",
    "from IPython.display import Markdown\n",
    "# To get multiple outputs into 1 cell w/o using print:\n",
    "from IPython.core.interactiveshell import InteractiveShell\n",
    "InteractiveShell.ast_node_interactivity = \"all\"\n",
    "\n",
    "# autoreload extension\n",
    "from IPython import get_ipython\n",
    "\n",
    "ipython = get_ipython()\n",
    "if 'autoreload' not in ipython.extension_manager.loaded:\n",
    "    %load_ext autoreload\n",
    "%autoreload 2\n",
    "\n",
    "# -----------------------------------------\n",
    "# TWO USEFUL FUNCTIONS:\n",
    "\n",
    "def add_to_sys_path(this_path, up=False):\n",
    "    \"\"\"\n",
    "    Prepend this_path to sys.path.\n",
    "    If up=True, path refers to parent folder (1 level up).\n",
    "    \"\"\"\n",
    "    if up:\n",
    "        newp = Path(this_path).parent\n",
    "    else:\n",
    "        newp = Path(this_path)\n",
    "    src = newp.joinpath(\"src\")\n",
    "    if src.exists():\n",
    "        newp = str(src)\n",
    "    else:\n",
    "        newp = str(newp)\n",
    "    if newp not in sys.path:\n",
    "        sys.path.insert(1, newp)\n",
    "        print('Path added to sys.path: {}'.format(newp))\n",
    "\n",
    "\n",
    "# Filtered dir() for method discovery:\n",
    "def fdir(obj, start_with_str='_', exclude=True):\n",
    "    return [d for d in dir(obj) if not d.startswith(start_with_str) == exclude]\n"
   ]
  },
  {
   "cell_type": "markdown",
   "metadata": {},
   "source": [
    "_Cell 2: from jupyterlab template_: run it"
   ]
  },
  {
   "cell_type": "code",
   "execution_count": 250,
   "metadata": {},
   "outputs": [],
   "source": [
    "# Insert current src dir into sys.path so that modules in ../src can be imported:\n",
    "# CHANGE THIS IF NEEDED:\n",
    "\n",
    "add_to_sys_path(Path.cwd(), up=True)"
   ]
  },
  {
   "cell_type": "code",
   "execution_count": 255,
   "metadata": {},
   "outputs": [
    {
     "data": {
      "text/plain": [
       "PosixPath('/home/cat/projects/mcce_dev/data')"
      ]
     },
     "execution_count": 255,
     "metadata": {},
     "output_type": "execute_result"
    }
   ],
   "source": [
    "DATA = Path.cwd().parent.joinpath(\"data\")\n",
    "if DATA.exists():\n",
    "    DATA\n",
    "else:\n",
    "    print(f\"Not found: {DATA}\")"
   ]
  },
  {
   "cell_type": "code",
   "execution_count": 260,
   "metadata": {},
   "outputs": [
    {
     "data": {
      "text/plain": [
       "PosixPath('/home/cat/projects/mcce_dev/data/4lzt')"
      ]
     },
     "execution_count": 260,
     "metadata": {},
     "output_type": "execute_result"
    },
    {
     "name": "stdout",
     "output_type": "stream",
     "text": [
      "total 92052\n",
      "-rw-r--r-- 1 cat cat 46308419 Nov  2 17:03 pH6eH0ms.txt\n",
      "-rw-r--r-- 1 cat cat 47949730 Nov  2 17:03 pH7eH0ms.txt\n"
     ]
    }
   ],
   "source": [
    "mcce_dir = DATA.joinpath(\"4lzt\")\n",
    "mcce_dir\n",
    "msout_dir = mcce_dir.joinpath(\"ms_out\")\n",
    "!ls -l {msout_dir}\n",
    "\n",
    "runprm = mcce_dir.joinpath(\"run.prm.record\")\n",
    "runprm2 = runprm.relative_to(Path.cwd().parent)  # use when running from this nbk"
   ]
  },
  {
   "cell_type": "code",
   "execution_count": 274,
   "metadata": {},
   "outputs": [],
   "source": [
    "import ms_sampling_to_pdbs as sampling\n",
    "import subprocess"
   ]
  },
  {
   "cell_type": "code",
   "execution_count": 276,
   "metadata": {},
   "outputs": [],
   "source": [
    "#fdir(sampling)"
   ]
  },
  {
   "cell_type": "markdown",
   "metadata": {},
   "source": [
    "---\n",
    "# Test executable module"
   ]
  },
  {
   "cell_type": "code",
   "execution_count": 293,
   "metadata": {},
   "outputs": [
    {
     "name": "stdout",
     "output_type": "stream",
     "text": [
      "total 42672\n",
      "-rw-r--r-- 1 cat cat 7271487 Nov  3 17:32 MC0\n",
      "-rw-r--r-- 1 cat cat 7277473 Nov  3 17:32 MC1\n",
      "-rw-r--r-- 1 cat cat 7272764 Nov  3 17:32 MC2\n",
      "-rw-r--r-- 1 cat cat 7300876 Nov  3 17:32 MC3\n",
      "-rw-r--r-- 1 cat cat 7283815 Nov  3 17:32 MC4\n",
      "-rw-r--r-- 1 cat cat 7273831 Nov  3 17:32 MC5\n",
      "-rw-r--r-- 1 cat cat    1372 Nov  3 17:32 header\n"
     ]
    }
   ],
   "source": [
    "which = msout_dir\n",
    "which = msout_dir.joinpath(\"pH6eH0ms\")\n",
    "!ls -l {which}"
   ]
  },
  {
   "cell_type": "code",
   "execution_count": 281,
   "metadata": {},
   "outputs": [
    {
     "data": {
      "text/plain": [
       "PosixPath('/home/cat/projects/mcce_dev/data/4lzt')"
      ]
     },
     "execution_count": 281,
     "metadata": {},
     "output_type": "execute_result"
    }
   ],
   "source": [
    "mcce_dir = DATA.joinpath(\"4lzt\")\n",
    "mcce_dir\n",
    "pH = 6.0\n",
    "Eh= 0.0"
   ]
  },
  {
   "cell_type": "code",
   "execution_count": 349,
   "metadata": {},
   "outputs": [
    {
     "name": "stdout",
     "output_type": "stream",
     "text": [
      "Getting runprm data.\n",
      "Getting conformers data.\n",
      "msout_fpath: /home/cat/projects/mcce_dev/data/4lzt/ms_out/pH6eH0ms.txt\n",
      "msout_file_dir, created: False /home/cat/projects/mcce_dev/data/4lzt/ms_out/pH6eH0ms\n",
      "Getting header data.\n",
      "Getting MC data for: 0\n"
     ]
    }
   ],
   "source": [
    "ms = sampling.MS(mcce_dir,pH, Eh)"
   ]
  },
  {
   "cell_type": "code",
   "execution_count": 347,
   "metadata": {},
   "outputs": [],
   "source": [
    "#fdir(ms)"
   ]
  },
  {
   "cell_type": "code",
   "execution_count": 350,
   "metadata": {},
   "outputs": [
    {
     "name": "stdout",
     "output_type": "stream",
     "text": [
      "n_ires = len(ms.ires_by_iconf) =  274\n",
      "n_confs = len(ms.conformers) =  368\n",
      "n_fixed = len(ms.fixed_iconfs) =  65\n",
      "free_confs = n_confs - n_fixed =  303\n",
      "n_free = len(ms.free_residues) =  63\n",
      "ms.MC_RUNS = 6, ms.MC_NITER = 2,000\n",
      "ms.counts = 550,000\n",
      "ms.MC_NITER * ms.MC_RUNS * n_confs  = 4,416,000\n",
      "ms.MC_NITER * ms.MC_RUNS * free_confs = 3,636,000\n",
      "ms.MC_NITER * ms.MC_RUNS * n_ires = 3,288,000\n",
      "ms.MC_NITER * ms.MC_RUNS * n_fixed = 780,000\n",
      "ms.MC_NITER * ms.MC_RUNS * n_free = 756,000\n"
     ]
    }
   ],
   "source": [
    "n_ires = len(ms.ires_by_iconf)\n",
    "print(\"n_ires = len(ms.ires_by_iconf) = \", n_ires)\n",
    "n_confs = len(ms.conformers)\n",
    "print(\"n_confs = len(ms.conformers) = \", n_confs)\n",
    "n_fixed = len(ms.fixed_iconfs)\n",
    "print(\"n_fixed = len(ms.fixed_iconfs) = \", n_fixed)\n",
    "free_confs = n_confs - n_fixed\n",
    "print(\"free_confs = n_confs - n_fixed = \", free_confs)\n",
    "n_free = len(ms.free_residues)\n",
    "print(\"n_free = len(ms.free_residues) = \", n_free)\n",
    "\n",
    "print(f\"{ms.MC_RUNS = }, {ms.MC_NITER = :,}\")\n",
    "print(f\"{ms.counts = :,}\")\n",
    "\n",
    "print(f\"{ms.MC_NITER * ms.MC_RUNS * n_confs  = :,}\")\n",
    "print(f\"{ms.MC_NITER * ms.MC_RUNS * free_confs = :,}\")\n",
    "print(f\"{ms.MC_NITER * ms.MC_RUNS * n_ires = :,}\")\n",
    "print(f\"{ms.MC_NITER * ms.MC_RUNS * n_fixed = :,}\")\n",
    "print(f\"{ms.MC_NITER * ms.MC_RUNS * n_free = :,}\")"
   ]
  },
  {
   "cell_type": "code",
   "execution_count": 360,
   "metadata": {},
   "outputs": [
    {
     "data": {
      "text/plain": [
       "550000"
      ]
     },
     "execution_count": 360,
     "metadata": {},
     "output_type": "execute_result"
    },
    {
     "data": {
      "text/plain": [
       "550000.0"
      ]
     },
     "execution_count": 360,
     "metadata": {},
     "output_type": "execute_result"
    },
    {
     "data": {
      "text/plain": [
       "550000"
      ]
     },
     "execution_count": 360,
     "metadata": {},
     "output_type": "execute_result"
    },
    {
     "data": {
      "text/plain": [
       "550000"
      ]
     },
     "execution_count": 360,
     "metadata": {},
     "output_type": "execute_result"
    },
    {
     "data": {
      "text/plain": [
       "431705"
      ]
     },
     "execution_count": 360,
     "metadata": {},
     "output_type": "execute_result"
    },
    {
     "data": {
      "text/plain": [
       "431705"
      ]
     },
     "execution_count": 360,
     "metadata": {},
     "output_type": "execute_result"
    }
   ],
   "source": [
    "n_counts = 0.0\n",
    "ms_count_values = []\n",
    "\n",
    "ms_list = ms.sort_microstates(by=\"energy\")\n",
    "\n",
    "for mc in ms_list:\n",
    "    # n_counts += ms[1]\n",
    "    # ms_count_values.append(ms[1])\n",
    "    n_counts += mc.count\n",
    "    ms_count_values.append(mc.count)\n",
    "\n",
    "n_counts = ms.counts\n",
    "ms_cumsum = np.cumsum([mc.count for mc in ms_list])\n",
    "\n",
    "ms.counts\n",
    "n_counts\n",
    "ms_cumsum[-1]\n",
    "ms_cumsum2[-1]\n",
    "len(ms.microstates)\n",
    "len(ms_count_values)"
   ]
  },
  {
   "cell_type": "code",
   "execution_count": null,
   "metadata": {},
   "outputs": [],
   "source": [
    "def sample_microstates(\n",
    "    ms: MS,\n",
    "    size: int,\n",
    "    kind: str = \"deterministic\",\n",
    "    sort_by: str = \"energy\",\n",
    "    reverse: bool = False,\n",
    ") -> tuple:\n",
    "    \"\"\"\n",
    "    Implement a sampling of MS.microstates depending on `kind`.\n",
    "    Args:\n",
    "        ms (MS): An instance of the MS class.\n",
    "        size (int): sample size\n",
    "        kind (str, 'deterministic'): Sampling kind: one of ['deterministic', 'random'].\n",
    "            If 'deterministic', the microstates in ms_list are sorted then sampled at\n",
    "            regular intervals otherwise, the sampling is random. Case insensitive.\n",
    "        sort_by (str, \"energy\"): Only applies if kind is \"deterministic\".\n",
    "        reverse (bool, False): Only applies if kind is \"deterministic\".\n",
    "    Returns:\n",
    "        A 3-tuple: cumsum of MC.count in ms.microstates,\n",
    "                   array of indices for selection,\n",
    "                   ms_list?\n",
    "    \"\"\"\n",
    "\n",
    "    kind = kind.lower()\n",
    "    if kind not in [\"deterministic\", \"random\"]:\n",
    "        raise ValueError(\n",
    "            f\"Values for `kind` are 'deterministic' or 'random'; Given: {kind}\"\n",
    "        )\n",
    "    if kind == \"deterministic\":\n",
    "        if (sort_by is None) or (sort_by == \"energy\"):\n",
    "            sort_by = \"E\"\n",
    "        else:\n",
    "            sort_by = sort_by.lower()\n",
    "            if sort_by not in [\"energy\", \"count\"]:\n",
    "                raise ValueError(f\"Values for `sort_by` are 'energy' or 'count'; Given: {by}\")\n",
    "\n",
    "        ms_list = ms.sort_microstates(by=sort_by, reverse=reverse)\n",
    "    else:\n",
    "        ms_list = ms.microstates\n",
    "\n",
    "    ms_cumsum = np.cumsum([mc.count for mc in ms_list])\n",
    "\n",
    "    if kind == \"deterministic\":\n",
    "        X = ms.counts - size\n",
    "        Y = ms.counts / size\n",
    "        count_selection = np.arange(size, X, Y)\n",
    "    else:\n",
    "        rng = np.random.default_rng()\n",
    "        count_selection = rng.integers(low=1, high=n_counts + 1, size=size)\n",
    "\n",
    "    return ms_cumsum, count_selection, ms_list"
   ]
  },
  {
   "cell_type": "code",
   "execution_count": null,
   "metadata": {},
   "outputs": [],
   "source": []
  },
  {
   "cell_type": "code",
   "execution_count": null,
   "metadata": {},
   "outputs": [],
   "source": []
  },
  {
   "cell_type": "markdown",
   "metadata": {},
   "source": [
    "# Getters and Setters"
   ]
  },
  {
   "cell_type": "raw",
   "metadata": {
    "jupyter": {
     "source_hidden": true
    }
   },
   "source": [
    "# this works; __eq__ and _hash_ needed for lru_cache\n",
    "from functools import lru_cache\n",
    "\n",
    "class Point:\n",
    "\n",
    "    def __init__(self, x, y, MC = 0):\n",
    "        self.x = x\n",
    "        self.y = y\n",
    "        self.RUNS = 6\n",
    "        self._selected_MC = MC\n",
    "        self.do_something_with_MC()\n",
    "\n",
    "    @property\n",
    "    def selected_MC(self):\n",
    "        return self._selected_MC\n",
    "\n",
    "    @selected_MC.setter\n",
    "    def selected_MC(self, value):\n",
    "        if value >= self.RUNS:\n",
    "             print(f\"This value is beyond the range of MONTE_RUNS({RUNS}) used in this simulation: {value}.\")\n",
    "        else:\n",
    "            self._selected_MC = value\n",
    "            self.do_something_with_MC()\n",
    "\n",
    "    def __eq__(self, other):\n",
    "        return self.selected_MC == other.selected_MC\n",
    "\n",
    "    def __hash__(self):\n",
    "        return hash(self.selected_MC)\n",
    "\n",
    "    def __repr__(self):\n",
    "        return f\"Point({self.x=}, {self.y=}, {self.selected_MC=})\"\n",
    "\n",
    "    @lru_cache(maxsize=None)\n",
    "    def do_something_with_MC(self):\n",
    "        print(f\"do_something with {self.selected_MC=}\")\n",
    "\n",
    "\n",
    "print(\"init\")\n",
    "p = Point(1,2)\n",
    "p\n",
    "\n",
    "print(\"selected_MC -> 5\")\n",
    "p.selected_MC = 5\n",
    "p\n",
    "\n",
    "print(\"selected_MC -> 6\")\n",
    "p.selected_MC = 6\n",
    "p\n",
    "\n",
    "print(\"selected_MC -> 1\")\n",
    "p.selected_MC = 1\n",
    "p"
   ]
  },
  {
   "cell_type": "raw",
   "metadata": {
    "jupyter": {
     "source_hidden": true
    }
   },
   "source": [
    "# this works\n",
    "\n",
    "RUNS = 6\n",
    "\n",
    "class Point:\n",
    "    x_values = set()\n",
    "    new_x = False\n",
    "\n",
    "    def __init__(self, x, y):\n",
    "        self.x = x\n",
    "        self.y = y\n",
    "\n",
    "    def __getattr__(self, name: str):\n",
    "        return self.__dict__[f\"_{name}\"]\n",
    "\n",
    "    def __setattr__(self, name, value):\n",
    "        if name == \"x\":\n",
    "            if value in range(RUNS):\n",
    "                if value not in Point.x_values:\n",
    "                    Point.new_x = True\n",
    "                else:\n",
    "                    Point.new_x = False\n",
    "                Point.x_values.add(value)\n",
    "            else:\n",
    "                print(f\"This value is beyond the range of MONTE_RUNS({RUNS}) used in this simulation: {value}.\")\n",
    "\n",
    "        self.__dict__[f\"_{name}\"] = float(value)\n",
    "\n",
    "    def __repr__(self):\n",
    "        return f\"Point({self.x=}, {self.y=})\"\n",
    "\n",
    "\n",
    "p = Point(1,2)\n",
    "\n",
    "p.x, p.y\n",
    "p.x_values\n",
    "p.__dict__\n",
    "\n",
    "p.x = 6\n",
    "p.y = 10\n",
    "\n",
    "p.x, p.y\n",
    "p.x_values\n",
    "p.__dict__"
   ]
  },
  {
   "cell_type": "raw",
   "metadata": {
    "jupyter": {
     "source_hidden": true
    }
   },
   "source": [
    "# this works too but unwielding: must call a get_/set_x fn for every assignment\n",
    "\n",
    "class Person:\n",
    "    def __init__(self, name, birth_date):\n",
    "        self._name = name\n",
    "        self._birth_date = birth_date\n",
    "        self._changes = []\n",
    "\n",
    "    def get_name(self):\n",
    "        return self._name\n",
    "\n",
    "    def set_name(self, value):\n",
    "        if self._name != value:\n",
    "            self._name = value\n",
    "            self._changes.append((\"name\",value))\n",
    "            self.do_this(self._name)\n",
    "\n",
    "    def get_changes(self):\n",
    "        return self._changes\n",
    "\n",
    "    def get_birth_date(self):\n",
    "        return self._birth_date\n",
    "\n",
    "    def set_birth_date(self, value, force=False):\n",
    "        if self._birth_date != value:\n",
    "            if not force:\n",
    "                raise AttributeError(\"can't set birth_date\")\n",
    "            self._birth_date = value\n",
    "            self._changes.append((\"birth_date\",value))\n",
    "            self.do_this(self._birth_date)\n",
    "\n",
    "    def do_this(self, attrname):\n",
    "        print(f\"I'm doing this for {attrname}\")\n",
    "\n",
    "class Employee(Person):\n",
    "    def get_name(self):\n",
    "        return super().get_name().upper()\n",
    "\n",
    "    def get_birth_date(self):\n",
    "        return super().get_birth_date()\n",
    "\n",
    "    def get_changes(self):\n",
    "        return super()._changes\n",
    "\n",
    "# examples\n",
    "\n",
    "jane = Person(\"Jane Doe\", \"2000-11-29\")\n",
    "jane.get_name()\n",
    "jane.get_birth_date()\n",
    "\n",
    "jane.set_birth_date(\"2000-10-29\", force=True)\n",
    "jane.get_birth_date()\n",
    "jane.get_changes()\n",
    "\n",
    "jane.set_name(\"Jane Poe\")\n",
    "jane.get_name()\n",
    "jane.get_changes()\n",
    "\n",
    "jane.set_birth_date(\"2000-10-29\", force=True)\n",
    "jane.get_birth_date()\n",
    "jane.get_changes()"
   ]
  },
  {
   "cell_type": "markdown",
   "metadata": {},
   "source": [
    "---\n",
    "\n",
    "---\n",
    "\n",
    "# MCCE - MS Sampling (using test data in ../tests/data/)\n",
    "---"
   ]
  },
  {
   "cell_type": "code",
   "execution_count": 3,
   "metadata": {},
   "outputs": [],
   "source": [
    "import base\n",
    "import mcce_io as io\n",
    "import ms_sampling as sampling"
   ]
  },
  {
   "cell_type": "code",
   "execution_count": 4,
   "metadata": {},
   "outputs": [
    {
     "data": {
      "text/plain": [
       "PosixPath('/home/cat/projects/MCCE_Scikit/tests/data')"
      ]
     },
     "execution_count": 4,
     "metadata": {},
     "output_type": "execute_result"
    }
   ],
   "source": [
    "DATA = Path.cwd().parent.joinpath(\"tests/data\")\n",
    "DATA"
   ]
  },
  {
   "cell_type": "code",
   "execution_count": 5,
   "metadata": {},
   "outputs": [
    {
     "name": "stdout",
     "output_type": "stream",
     "text": [
      "head3.lst  ms_out  run.prm.record  step2_out.pdb\n"
     ]
    }
   ],
   "source": [
    "!ls {DATA}"
   ]
  },
  {
   "cell_type": "code",
   "execution_count": 6,
   "metadata": {},
   "outputs": [
    {
     "data": {
      "text/plain": [
       "PosixPath('/home/cat/projects/MCCE_Scikit/tests/data')"
      ]
     },
     "execution_count": 6,
     "metadata": {},
     "output_type": "execute_result"
    },
    {
     "data": {
      "text/plain": [
       "(PosixPath('/home/cat/projects/MCCE_Scikit/tests/data/ms_out'), True)"
      ]
     },
     "execution_count": 6,
     "metadata": {},
     "output_type": "execute_result"
    }
   ],
   "source": [
    "# filepaths of inputs used by MS class:\n",
    "h3_path = DATA.joinpath(\"head3.lst\")\n",
    "mcce_output_path = h3_path.parent\n",
    "mcce_output_path\n",
    "\n",
    "step2_path = mcce_output_path.joinpath(\"step2_out.pdb\")\n",
    "msout_path = mcce_output_path.joinpath(\"ms_out\")\n",
    "msout_path, msout_path.is_dir()"
   ]
  },
  {
   "cell_type": "code",
   "execution_count": 26,
   "metadata": {},
   "outputs": [
    {
     "data": {
      "text/plain": [
       "True"
      ]
     },
     "execution_count": 26,
     "metadata": {},
     "output_type": "execute_result"
    }
   ],
   "source": [
    "opath = None\n",
    "(not opath) or opath is None"
   ]
  },
  {
   "cell_type": "code",
   "execution_count": 7,
   "metadata": {},
   "outputs": [
    {
     "data": {
      "text/plain": [
       "PosixPath('/home/cat/projects/MCCE_Scikit/tests/data/ms_out/pH5eH0ms.txt')"
      ]
     },
     "execution_count": 7,
     "metadata": {},
     "output_type": "execute_result"
    },
    {
     "data": {
      "text/plain": [
       "PosixPath('/home/cat/projects/MCCE_Scikit/tests/data/ms_out/pH5eH0ms')"
      ]
     },
     "execution_count": 7,
     "metadata": {},
     "output_type": "execute_result"
    }
   ],
   "source": [
    "# filepaths of outputs:\n",
    "\n",
    "pH = 5.0\n",
    "Eh= 0.0\n",
    "msout_file = io.get_msout_filename(mcce_output_path, pH, Eh)\n",
    "msout_file\n",
    "\n",
    "msout_file_dir = msout_file.parent.joinpath(msout_file.stem)\n",
    "msout_file_dir"
   ]
  },
  {
   "cell_type": "code",
   "execution_count": 8,
   "metadata": {},
   "outputs": [
    {
     "name": "stdout",
     "output_type": "stream",
     "text": [
      "The ms_out file is already split into header and MCi files. Set `overwrite` to True to replace them.\n",
      "io.divide_msout_file() took 0.00 mins\n"
     ]
    }
   ],
   "source": [
    "start_time = time.time()\n",
    "\n",
    "io.split_msout_file(mcce_output_path, pH, Eh)\n",
    "\n",
    "end_time = time.time()\n",
    "print(\"io.divide_msout_file() took {:.2f} mins\".format((end_time - start_time)/60))"
   ]
  },
  {
   "cell_type": "code",
   "execution_count": 9,
   "metadata": {},
   "outputs": [
    {
     "name": "stdout",
     "output_type": "stream",
     "text": [
      "MC0  MC1  MC2  MC3  MC4  MC5  header  pdbs_from_ms\n"
     ]
    }
   ],
   "source": [
    "!ls {msout_file_dir}"
   ]
  },
  {
   "cell_type": "code",
   "execution_count": 10,
   "metadata": {},
   "outputs": [],
   "source": [
    "pdbs_dir = msout_file_dir.joinpath(\"pdbs_from_ms\")"
   ]
  },
  {
   "cell_type": "code",
   "execution_count": 11,
   "metadata": {},
   "outputs": [
    {
     "name": "stdout",
     "output_type": "stream",
     "text": [
      "mc0_ms1.pdb  mc0_ms114217.pdb  mc0_ms230849.pdb  mc0_ms349302.pdb\n"
     ]
    }
   ],
   "source": [
    "!ls {pdbs_dir}"
   ]
  },
  {
   "cell_type": "raw",
   "metadata": {},
   "source": [
    "io.clear_folder(pdbs_dir)\n",
    "!ls {pdbs_dir}"
   ]
  },
  {
   "cell_type": "markdown",
   "metadata": {},
   "source": [
    "# base.MC class"
   ]
  },
  {
   "cell_type": "code",
   "execution_count": 12,
   "metadata": {},
   "outputs": [
    {
     "name": "stdout",
     "output_type": "stream",
     "text": [
      "Uses split ms_out files.\n",
      "MS.init\n",
      "\n",
      "        Parameters:\n",
      "            mcce_output_path (str): A MCCE simulation output folder.\n",
      "            pH (int or float): A pH point.\n",
      "            Eh (int or float): A Eh point.\n",
      "            selected_MC (int): The index of an MC run; one of `range(constants.MONTERUNS)`.\n",
      "            overwrite_split_files (bool): whether to redo the splitting of msout_file.\n",
      "        \n"
     ]
    }
   ],
   "source": [
    "print(base.MS.__doc__)\n",
    "print(base.MS.__init__.__doc__)"
   ]
  },
  {
   "cell_type": "code",
   "execution_count": 14,
   "metadata": {},
   "outputs": [
    {
     "name": "stdout",
     "output_type": "stream",
     "text": [
      "Loading of base.MS instance took 0.14 mins or 8.56 seconds\n",
      "MS(\"/home/cat/projects/MCCE_Scikit/tests/data\", 5.0, 0.0, selected_MC=0, overwrite_split_files=False)\n"
     ]
    }
   ],
   "source": [
    "# create instance\n",
    "start_time = time.time()\n",
    "\n",
    "ms = base.MS(mcce_output_path, pH, Eh)\n",
    "\n",
    "d = time.time() - start_time\n",
    "print(f\"Loading of base.MS instance took {d/60:.2f} mins or {d:.2f} seconds\")\n",
    "print(ms)"
   ]
  },
  {
   "cell_type": "code",
   "execution_count": 15,
   "metadata": {},
   "outputs": [
    {
     "data": {
      "text/plain": [
       "['Eh',\n",
       " 'T',\n",
       " 'confnames_by_iconfs',\n",
       " 'conformers',\n",
       " 'counts',\n",
       " 'fixed_crg',\n",
       " 'fixed_iconfs',\n",
       " 'fixed_ne',\n",
       " 'fixed_nh',\n",
       " 'fixed_residue_names',\n",
       " 'fname',\n",
       " 'free_residue_names',\n",
       " 'free_residues',\n",
       " 'get_occ',\n",
       " 'iconf_by_confname',\n",
       " 'ires_by_iconf',\n",
       " 'mcce_out',\n",
       " 'method',\n",
       " 'microstates',\n",
       " 'msout_file_dir',\n",
       " 'overwrite_split_files',\n",
       " 'pH',\n",
       " 'select_by_conformer',\n",
       " 'select_by_energy',\n",
       " 'selected_MC']"
      ]
     },
     "execution_count": 15,
     "metadata": {},
     "output_type": "execute_result"
    }
   ],
   "source": [
    "# Public vars in MC:\n",
    "fdir(ms)"
   ]
  },
  {
   "cell_type": "code",
   "execution_count": 16,
   "metadata": {},
   "outputs": [
    {
     "name": "stdout",
     "output_type": "stream",
     "text": [
      "ms.counts : 600,000\n"
     ]
    }
   ],
   "source": [
    "print(f\"ms.counts : {ms.counts:,}\")"
   ]
  },
  {
   "cell_type": "markdown",
   "metadata": {},
   "source": [
    "# ms_sampling module"
   ]
  },
  {
   "cell_type": "code",
   "execution_count": 17,
   "metadata": {},
   "outputs": [
    {
     "data": {
      "text/plain": [
       "['Path',\n",
       " 'base',\n",
       " 'datetime',\n",
       " 'get_pdb_remark',\n",
       " 'get_selected_confs',\n",
       " 'io',\n",
       " 'np',\n",
       " 'pdbs_from_ms_samples',\n",
       " 'sample_microstates',\n",
       " 'sampling',\n",
       " 'sort_microstate_list']"
      ]
     },
     "execution_count": 17,
     "metadata": {},
     "output_type": "execute_result"
    }
   ],
   "source": [
    "fdir(sampling)"
   ]
  },
  {
   "cell_type": "code",
   "execution_count": 20,
   "metadata": {},
   "outputs": [
    {
     "data": {
      "text/plain": [
       "0"
      ]
     },
     "execution_count": 20,
     "metadata": {},
     "output_type": "execute_result"
    }
   ],
   "source": [
    "n_sample_size = 4\n",
    "ms_sort_by = \"energy\"\n",
    "output_dir = msout_file_dir\n",
    "mc_run = ms.selected_MC  # part of pdb name\n",
    "mc_run"
   ]
  },
  {
   "cell_type": "raw",
   "metadata": {
    "jupyter": {
     "source_hidden": true
    }
   },
   "source": [
    "# check on diff out with diff sort roder: ok\n",
    "ms_sort_by = \"energy\"\n",
    "e_sorted_ms_list = sampling.sort_microstate_list(ms.microstates, by=ms_sort_by)\n",
    "e_ms_cumsum, e_count_selection = sampling.sample_microstates(n_sample_size, e_sorted_ms_list)\n",
    "len(e_ms_cumsum), len(e_count_selection)\n",
    "e_count_selection\n",
    "assert max(e_ms_cumsum) == ms.counts\n",
    "\n",
    "\n",
    "ms_sort_by = \"count\"\n",
    "c_sorted_ms_list = sampling.sort_microstate_list(ms.microstates, by=ms_sort_by)\n",
    "c_ms_cumsum, c_count_selection = sampling.sample_microstates(n_sample_size, c_sorted_ms_list)\n",
    "len(c_ms_cumsum), len(c_count_selection)\n",
    "c_count_selection\n",
    "\n",
    "\n",
    "e_ms_cumsum[:5]\n",
    "e_sorted_ms_list[:5]\n",
    "c_ms_cumsum[:5]\n",
    "c_sorted_ms_list[:5]\n",
    "\n",
    "def check_confs_byorder(sorted_ms_list, count_selection, ms_cumsum):\n",
    "    for c in count_selection[:3]:\n",
    "        print(\"c:\",c)\n",
    "        ms_index = np.where((ms_cumsum - c) > 0)[0][0]\n",
    "        ms_selection = sorted_ms_list[ms_index]\n",
    "        print(ms_selection[0])\n",
    "        print(ms_selection[2]())\n",
    "        confs_for_pdb = sampling.get_selected_confs(ms, ms_selection)\n",
    "        print(confs_for_pdb[:5])\n",
    "        print(\"call io.ms_to_pdb\")\n",
    "\n",
    "\n",
    "check_confs_byorder(e_sorted_ms_list, e_count_selection, e_ms_cumsum)\n",
    "check_confs_byorder(c_sorted_ms_list, c_count_selection, c_ms_cumsum)"
   ]
  },
  {
   "cell_type": "code",
   "execution_count": 23,
   "metadata": {},
   "outputs": [
    {
     "name": "stdout",
     "output_type": "stream",
     "text": [
      "Creating n=4 MCCE_PDB files in /home/cat/projects/MCCE_Scikit/tests/data/ms_out/pH5eH0ms from (n) microstates sorted by 'energy'.\n",
      " NOTE: the output pdb will be free of any water molecules in step2_out.pdb.\n",
      "PDB files creation over.\n",
      "Files in /home/cat/projects/MCCE_Scikit/tests/data/ms_out/pH5eH0ms/pdbs_from_ms:\n",
      "\n",
      "\t /home/cat/projects/MCCE_Scikit/tests/data/ms_out/pH5eH0ms/pdbs_from_ms/mc0_ms230849.pdb\n",
      "\t /home/cat/projects/MCCE_Scikit/tests/data/ms_out/pH5eH0ms/pdbs_from_ms/mc0_ms114217.pdb\n",
      "\t /home/cat/projects/MCCE_Scikit/tests/data/ms_out/pH5eH0ms/pdbs_from_ms/mc0_ms1.pdb\n",
      "\t /home/cat/projects/MCCE_Scikit/tests/data/ms_out/pH5eH0ms/pdbs_from_ms/mc0_ms349302.pdb\n",
      "`sampling.pdbs_from_ms_samples` with sample size=4 took 0.01 mins or 0.90 seconds\n"
     ]
    }
   ],
   "source": [
    "# create pdbs from samples ms\n",
    "start_time = time.time()\n",
    "\n",
    "sampling.pdbs_from_ms_samples(ms,\n",
    "                              mcce_output_path,\n",
    "                              n_sample_size,\n",
    "                              ms_sort_by,\n",
    "                              output_dir,\n",
    "                              list_files=True)\n",
    "\n",
    "d = time.time() - start_time\n",
    "print(f\"`sampling.pdbs_from_ms_samples` with sample size={n_sample_size:,} took {d/60:.2f} mins or {d:.2f} seconds\")"
   ]
  },
  {
   "cell_type": "code",
   "execution_count": 22,
   "metadata": {},
   "outputs": [
    {
     "name": "stdout",
     "output_type": "stream",
     "text": [
      "\n",
      "REMARK 250\n",
      "REMARK 250 EXPERIMENTAL DETAILS\n",
      "REMARK 250   EXPERIMENT TYPE               : MCCE simulation\n",
      "REMARK 250   DATE OF DATA COLLECTION       : 26-Oct-23\n",
      "REMARK 250   REMARK: DATE OF DATA COLLECTION is the date this pdb was created.\n",
      "REMARK 250 EXPERIMENTAL CONDITIONS\n",
      "REMARK 250   TEMPERATURE                   : 298.15 (K)\n",
      "REMARK 250   PH                            : 5.00\n",
      "REMARK 250   EH                            : 0.00\n",
      "REMARK 250   METHOD                        : MONTERUNS\n",
      "REMARK 250   SELECTED MONTERUN             : 0\n",
      "REMARK 250   SELECTED MICROSTATE INDEX     : 1\n",
      "REMARK 250   SELECTED MICROSTATE ENERGY    : 202.89 (kcal/mol)\n",
      "REMARK 250\n",
      "ATOM      1  CA  NTR A0001_001   2.696   5.785  12.711   2.000       0.001      01O000M000 \n",
      "ATOM      2  HA  NTR A0001_001   3.149   5.444  11.801   0.000       0.000      01O000M000 \n",
      "ATOM      3  N   NTR A0001_001   2.812   4.829  13.856   1.500      -0.003      01O000M000 \n",
      "ATOM      4  H   NTR A0001_001   2.419   3.912  13.784   1.000       0.001      01O000M000 \n",
      "ATOM      5  H2  NTR A0001_001   3.283   5.107  14.693   1.000       0.001      01O000M000 \n"
     ]
    }
   ],
   "source": [
    "!head -n 20 ../tests/data/ms_out/pH5eH0ms/pdbs_from_ms/mc0_ms1.pdb"
   ]
  },
  {
   "cell_type": "code",
   "execution_count": null,
   "metadata": {},
   "outputs": [],
   "source": []
  }
 ],
 "metadata": {
  "jupytext": {
   "formats": "ipynb,md"
  },
  "kernelspec": {
   "display_name": "Python [conda env:mce]",
   "language": "python",
   "name": "conda-env-mce-py"
  },
  "language_info": {
   "codemirror_mode": {
    "name": "ipython",
    "version": 3
   },
   "file_extension": ".py",
   "mimetype": "text/x-python",
   "name": "python",
   "nbconvert_exporter": "python",
   "pygments_lexer": "ipython3",
   "version": "3.11.5"
  }
 },
 "nbformat": 4,
 "nbformat_minor": 4
}
