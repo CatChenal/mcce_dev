{
 "cells": [
  {
   "cell_type": "code",
   "execution_count": 2,
   "metadata": {
    "jupyter": {
     "source_hidden": true
    }
   },
   "outputs": [
    {
     "data": {
      "text/plain": [
       "<contextlib.ExitStack at 0x7f45c76aad50>"
      ]
     },
     "execution_count": 2,
     "metadata": {},
     "output_type": "execute_result"
    },
    {
     "name": "stdout",
     "output_type": "stream",
     "text": [
      "The autoreload extension is already loaded. To reload it, use:\n",
      "  %reload_ext autoreload\n"
     ]
    }
   ],
   "source": [
    "import sys\n",
    "from pathlib import Path\n",
    "import time\n",
    "import numpy as np\n",
    "from pprint import pprint as pp\n",
    "import matplotlib as mpl\n",
    "from matplotlib import pyplot as plt\n",
    "plt.ion()\n",
    "#plt.style.use('seaborn-v0_8-muted')\n",
    "\n",
    "from IPython.display import Markdown\n",
    "# To get multiple outputs into 1 cell w/o using print:\n",
    "from IPython.core.interactiveshell import InteractiveShell\n",
    "InteractiveShell.ast_node_interactivity = \"all\"\n",
    "\n",
    "# autoreload extension\n",
    "from IPython import get_ipython\n",
    "\n",
    "ipython = get_ipython()\n",
    "if 'autoreload' not in ipython.extension_manager.loaded:\n",
    "    %load_ext autoreload\n",
    "%autoreload 2\n",
    "\n",
    "# -----------------------------------------\n",
    "# TWO USEFUL FUNCTIONS:\n",
    "\n",
    "def add_to_sys_path(this_path, up=False):\n",
    "    \"\"\"\n",
    "    Prepend this_path to sys.path.\n",
    "    If up=True, path refers to parent folder (1 level up).\n",
    "    \"\"\"\n",
    "    if up:\n",
    "        newp = Path(this_path).parent\n",
    "    else:\n",
    "        newp = Path(this_path)\n",
    "    src = newp.joinpath(\"src\")\n",
    "    if src.exists():\n",
    "        newp = str(src)\n",
    "    else:\n",
    "        newp = str(newp)\n",
    "    if newp not in sys.path:\n",
    "        sys.path.insert(1, newp)\n",
    "        print('Path added to sys.path: {}'.format(newp))\n",
    "\n",
    "\n",
    "# Filtered dir() for method discovery:\n",
    "def fdir(obj, start_with_str='_', exclude=True):\n",
    "    return [d for d in dir(obj) if not d.startswith(start_with_str) == exclude]\n"
   ]
  },
  {
   "cell_type": "code",
   "execution_count": 3,
   "metadata": {
    "jupyter": {
     "source_hidden": true
    }
   },
   "outputs": [
    {
     "name": "stdout",
     "output_type": "stream",
     "text": [
      "Path added to sys.path: /home/cat/projects/mcce_dev/src\n"
     ]
    }
   ],
   "source": [
    "# Insert current src dir into sys.path so that modules in ../src can be imported:\n",
    "# CHANGE THIS IF NEEDED:\n",
    "\n",
    "add_to_sys_path(Path.cwd(), up=True)"
   ]
  },
  {
   "cell_type": "markdown",
   "metadata": {},
   "source": [
    "---\n",
    "# Test executable module"
   ]
  },
  {
   "cell_type": "code",
   "execution_count": 7,
   "metadata": {},
   "outputs": [],
   "source": [
    "from functools import partial\n",
    "import subprocess\n",
    "\n",
    "import ms_sampling_to_pdbs as sampling\n",
    "\n",
    "load_npz = partial(np.load, allow_pickle=True)\n",
    "save_npz = partial(np.savez, allow_pickle=True)"
   ]
  },
  {
   "cell_type": "code",
   "execution_count": 8,
   "metadata": {},
   "outputs": [
    {
     "data": {
      "text/plain": [
       "(PosixPath('/home/cat/projects/granepura_GunnerLab/mcce_data'), True)"
      ]
     },
     "execution_count": 8,
     "metadata": {},
     "output_type": "execute_result"
    }
   ],
   "source": [
    "HERE = Path.cwd()  # do not change\n",
    "\n",
    "test_folder = \"granepura_GunnerLab/mcce_data\" # you can change this to any other mcce folder\n",
    "mcce_dir = HERE.parent.parent.joinpath(test_folder)  # do not change\n",
    "mcce_dir, mcce_dir.exists()"
   ]
  },
  {
   "cell_type": "raw",
   "metadata": {
    "jupyter": {
     "source_hidden": true
    }
   },
   "source": [
    "mcce_dir = DATA.joinpath(\"4lzt\")\n",
    "mcce_dir\n",
    "mcce_dir = Path(\"../data/4lzt\").resolve()\n",
    "mcce_dir\n",
    "\n",
    "nametxt = mcce_dir.joinpath(\"name.txt\")\n",
    "runprm = mcce_dir.joinpath(\"run.prm.record\")\n",
    "runprm2 = runprm.relative_to(Path.cwd().parent)  # use when running subprocesses from this nbk\n",
    "\n",
    "msout_dir = mcce_dir.joinpath(\"ms_out\")\n",
    "!ls -l {msout_dir}"
   ]
  },
  {
   "cell_type": "raw",
   "metadata": {},
   "source": [
    "Markdown(filename=\"../README.md\")"
   ]
  },
  {
   "cell_type": "raw",
   "metadata": {
    "jupyter": {
     "source_hidden": true
    }
   },
   "source": [
    "TEST_DIR = Path.cwd().parent.joinpath(\"tests\")\n",
    "TEST_DIR\n",
    "\n",
    "test_runprm = TEST_DIR.joinpath(\"run.prm.record\")"
   ]
  },
  {
   "cell_type": "code",
   "execution_count": 11,
   "metadata": {},
   "outputs": [
    {
     "name": "stdout",
     "output_type": "stream",
     "text": [
      "\tGetting runprm data.\n",
      "\tGetting conformers data.\n",
      "\tGetting header data.\n"
     ]
    },
    {
     "data": {
      "text/plain": [
       "(298.15, 6)"
      ]
     },
     "execution_count": 11,
     "metadata": {},
     "output_type": "execute_result"
    }
   ],
   "source": [
    "pH = 7.0\n",
    "Eh= 0.0\n",
    "overwrite = False\n",
    "\n",
    "ms = sampling.MS(mcce_dir,pH, Eh, overwrite_split_files = overwrite)\n",
    "ms.T, ms.MC_RUNS"
   ]
  },
  {
   "cell_type": "code",
   "execution_count": 12,
   "metadata": {},
   "outputs": [
    {
     "name": "stdout",
     "output_type": "stream",
     "text": [
      "\tGetting MC data from .npz file for MC0\n",
      "ms.counts = 1,500,000; ms.MC_RUNS = 6\n",
      "len(ms.microstates) = 515,400\n"
     ]
    }
   ],
   "source": [
    "ms.get_mc_data(0)\n",
    "print(f\"{ms.counts = :,}; {ms.MC_RUNS = :,}\")\n",
    "\n",
    "print(f\"{len(ms.microstates) = :,}\")"
   ]
  },
  {
   "cell_type": "code",
   "execution_count": 13,
   "metadata": {},
   "outputs": [
    {
     "name": "stdout",
     "output_type": "stream",
     "text": [
      "total 231068\n",
      "-rw-r--r-- 1 cat cat   9742123 Nov 16 17:44 MC0\n",
      "-rw-r--r-- 1 cat cat 178231770 Nov 16 17:45 MC0.npz\n",
      "-rw-r--r-- 1 cat cat   9725008 Nov 16 17:44 MC1\n",
      "-rw-r--r-- 1 cat cat   9705947 Nov 16 17:44 MC2\n",
      "-rw-r--r-- 1 cat cat   9722617 Nov 16 17:44 MC3\n",
      "-rw-r--r-- 1 cat cat   9708327 Nov 16 17:44 MC4\n",
      "-rw-r--r-- 1 cat cat   9727680 Nov 16 17:44 MC5\n",
      "-rw-r--r-- 1 cat cat      4440 Nov 16 17:44 header\n",
      "drwxr-xr-x 2 cat cat      4096 Nov 16 19:15 pdbs_from_ms\n",
      "-rw-r--r-- 1 cat cat      5002 Nov 16 19:15 smsm0_3_dc.npz\n",
      "-rw-r--r-- 1 cat cat      5003 Nov 16 19:21 smsm0_3_de.npz\n",
      "-rw-r--r-- 1 cat cat      4973 Nov 16 19:21 smsm0_3_r.npz\n"
     ]
    }
   ],
   "source": [
    "#which = msout_dir.joinpath(\"pH6eH0ms\")\n",
    "!ls -l {ms.msout_file_dir}"
   ]
  },
  {
   "cell_type": "code",
   "execution_count": 14,
   "metadata": {
    "scrolled": true
   },
   "outputs": [
    {
     "name": "stdout",
     "output_type": "stream",
     "text": [
      "MS('/home/cat/projects/granepura_GunnerLab/mcce_data', 7.0, 0.0, overwrite_split_files=False)\n"
     ]
    },
    {
     "data": {
      "text/plain": [
       "PosixPath('/home/cat/projects/granepura_GunnerLab/mcce_data')"
      ]
     },
     "execution_count": 14,
     "metadata": {},
     "output_type": "execute_result"
    },
    {
     "data": {
      "text/plain": [
       "PosixPath('/home/cat/projects/granepura_GunnerLab/mcce_data/ms_out/pH7eH0ms')"
      ]
     },
     "execution_count": 14,
     "metadata": {},
     "output_type": "execute_result"
    },
    {
     "data": {
      "text/plain": [
       "PosixPath('/home/cat/projects/granepura_GunnerLab/mcce_data/ms_out/pH7eH0ms.txt')"
      ]
     },
     "execution_count": 14,
     "metadata": {},
     "output_type": "execute_result"
    },
    {
     "data": {
      "text/plain": [
       "'pH7eH0ms.txt'"
      ]
     },
     "execution_count": 14,
     "metadata": {},
     "output_type": "execute_result"
    }
   ],
   "source": [
    "print(ms)\n",
    "ms.mcce_out\n",
    "ms.msout_file_dir\n",
    "ms.msout_fpath\n",
    "ms.msout_fpath.name"
   ]
  },
  {
   "cell_type": "code",
   "execution_count": null,
   "metadata": {},
   "outputs": [],
   "source": []
  },
  {
   "cell_type": "markdown",
   "metadata": {},
   "source": [
    "# Check output of  sampling"
   ]
  },
  {
   "cell_type": "raw",
   "metadata": {
    "jupyter": {
     "source_hidden": true
    }
   },
   "source": [
    "#ok\n",
    "\n",
    "mc_run = ms.selected_MC  # part of pdb name\n",
    "mc_run\n",
    "\n",
    "n_sample_size = 4\n",
    "sample_kind = \"deterministic\"\n",
    "ms_sort_by = \"energy\"\n",
    "output_pdb_format = \"mcce\"  # not implemented, no effect\n",
    "\n",
    "if ms.sampled_cumsum is None:\n",
    "    ms.get_sampling_params(n_sample_size,\n",
    "                           kind=sample_kind,\n",
    "                           sort_by=ms_sort_by\n",
    "                           )\n",
    "\n",
    "if ms.sampled_ms is None:\n",
    "    ms_list = ms.microstates\n",
    "else:\n",
    "    ms_list = ms.sampled_ms\n",
    "\n",
    "#...................................................\n",
    "step2_path = ms.mcce_out.joinpath(\"step2_out.pdb\")\n",
    "pdb_out_folder = Path.cwd()\n",
    "if pdb_out_folder.name != \"pdbs_from_ms\":\n",
    "    pdb_out_folder = pdb_out_folder.joinpath(\"pdbs_from_ms\")\n",
    "\n",
    "if not pdb_out_folder.exists():\n",
    "    Path.mkdir(pdb_out_folder)\n",
    "#...................................................\n",
    "\n",
    "for c in ms.sampled_count_selection:\n",
    "    ms_index = np.where((ms.sampled_cumsum - c) > 0)[0][0]\n",
    "    ms_selection = ms_list[ms_index]\n",
    "\n",
    "    confs_for_pdb = ms.get_selected_confs(ms_selection)\n",
    "\n",
    "    # gather initial data for REMARK section of pdb:\n",
    "    remark_data = ms.get_pdb_remark(ms_index)\n",
    "    # write the pdb in the folder\n",
    "    sampling.ms_to_pdb(confs_for_pdb, ms_index, mc_run,\n",
    "                       remark_data, step2_path,\n",
    "                       pdb_out_folder, output_pdb_format)\n",
    "\n",
    "confs_for_pdb[:6]"
   ]
  },
  {
   "cell_type": "raw",
   "metadata": {
    "jupyter": {
     "source_hidden": true
    }
   },
   "source": [
    "                if not steps_done[\"free\"]:\n",
    "                    n_res, fres = line.split(\":\")\n",
    "                    self.free_residues = [\n",
    "                        [int(n) for n in grp.strip().split()]\n",
    "                        for grp in fres.strip(\" ;\\n\").split(\";\")\n",
    "                    ]\n",
    "                    if len(self.free_residues) != int(n_res):\n",
    "                        msg = \"Mismatch between the number of free residues indicator\"\n",
    "                        msg = (\n",
    "                            msg\n",
    "                            + \" and the number of residues listed on the same line.\\n\"\n",
    "                        )\n",
    "                        raise ValueError(msg + f\"\\t{line}\")\n",
    "\n",
    "                    self.free_residue_names = [\n",
    "                        self.conformers[g[0]].resid for g in self.free_residues\n",
    "                    ]\n",
    "                    for i, res in enumerate(self.free_residues):\n",
    "                        for iconf in res:\n",
    "                            self.ires_by_iconf[iconf] = i\n",
    "                    steps_done[\"fee\"] = True"
   ]
  },
  {
   "cell_type": "raw",
   "metadata": {
    "jupyter": {
     "source_hidden": true
    }
   },
   "source": [
    "# from jj_ms_analysis.py\n",
    "\n",
    "def convert_to_subset_ms(self, res_of_interest):\n",
    "    \"\"\"What does this do?\n",
    "    \"\"\"\n",
    "    iconfs_of_interest = []\n",
    "\n",
    "    for ires, res in enumerate(res_of_interest):\n",
    "        if res in self.free_residue_names:\n",
    "            conf_select = self.free_residues[ires]\n",
    "        else:  # this reside is fixed on one or more conformers\n",
    "            i_fixed = fixed_resnames.index(res)\n",
    "            conf_select = [self.fixedconfs[i_fixed]]\n",
    "\n",
    "        iconfs_of_interest.append(conf_select)  # a list of list\n",
    "\n",
    "    # prepare a list of free residues for grouping microstates\n",
    "    i_free_res_of_interest = [self.ires_by_iconf[iconfs[0]]\n",
    "                             for iconfs in iconfs_of_interest\n",
    "                             if len(iconfs) > 1\n",
    "                             ]\n",
    "    subset_ms_by_id = {}\n",
    "    for ms in self.microstates:\n",
    "        current_sub_state = [ms.state()[i] for i in i_free_res_of_interest]\n",
    "        sub_stateid = zlib.compress(\n",
    "            \" \".join([str(x) for x in current_sub_state]).encode()\n",
    "        )\n",
    "        sub_ms = Subset_Microstate(sub_stateid, ms.E * ms.count, ms.count)\n",
    "\n",
    "        if sub_stateid in subset_ms_by_id:\n",
    "            subset_ms_by_id[sub_stateid].count += sub_ms.count\n",
    "            subset_ms_by_id[sub_stateid].total_E += sub_ms.total_E\n",
    "        else:\n",
    "            subset_ms_by_id[\n",
    "                sub_stateid\n",
    "            ] = sub_ms  # create a new key value pair to store this ministate\n",
    "\n",
    "    subset_microstates = []\n",
    "    for sub_stateid in subset_ms_by_id:\n",
    "        sub_ms = subset_ms_by_id[sub_stateid]\n",
    "        sub_ms.E = sub_ms.average_E = sub_ms.total_E / sub_ms.count\n",
    "        subset_microstates.append(sub_ms)\n",
    "\n",
    "    return subset_microstates"
   ]
  },
  {
   "cell_type": "raw",
   "metadata": {},
   "source": [
    "h3 = mcce_dir.joinpath(\"head3.lst\")\n",
    "s2 = mcce_dir.joinpath(\"step2_out.pdb\")\n",
    "!head -n 20 {h3}"
   ]
  },
  {
   "cell_type": "raw",
   "metadata": {},
   "source": [
    "!head -n 200 {s2} | tail -n 20"
   ]
  },
  {
   "cell_type": "raw",
   "metadata": {
    "jupyter": {
     "source_hidden": true
    }
   },
   "source": [
    "    for ires, res in enumerate(res_of_interest):\n",
    "        if res in self.free_residue_names:\n",
    "            conf_select = self.free_residues[ires]\n",
    "        else:  # this reside is fixed on one or more conformers\n",
    "            i_fixed = fixed_resnames.index(res)\n",
    "            conf_select = [self.fixedconfs[i_fixed]]\n",
    "\n",
    "        iconfs_of_interest.append(conf_select)  # a list of list\n",
    "\n",
    "    # prepare a list of free residues for grouping microstates\n",
    "    i_free_res_of_interest = [self.ires_by_iconf[iconfs[0]]\n",
    "                             for iconfs in iconfs_of_interest\n",
    "                             if len(iconfs) > 1\n",
    "                             ]"
   ]
  },
  {
   "cell_type": "raw",
   "metadata": {
    "jupyter": {
     "source_hidden": true
    }
   },
   "source": [
    "mc_run = ms.selected_MC  # part of pdb name\n",
    "mc_run\n",
    "\n",
    "n_sample_size = 4\n",
    "sample_kind = \"deterministic\"\n",
    "ms_sort_by = \"energy\"\n",
    "\n",
    "if ms.sampled_cumsum is None:\n",
    "    ms.get_sampling_params(n_sample_size,\n",
    "                           kind=sample_kind,\n",
    "                           sort_by=ms_sort_by\n",
    "                           )\n",
    "\n",
    "if ms.sampled_ms is None:\n",
    "    ms_list = ms.microstates\n",
    "else:\n",
    "    ms_list = ms.sampled_ms\n",
    "\n",
    "\n",
    "all_confs = ms.get_selected_confs(ms.microstates[0])\n",
    "for i, c in enumerate(all_confs):\n",
    "    if i >=8:\n",
    "        break\n",
    "    print(c[0], c[1])\n",
    "\n",
    "ms.free_residue_names[:4]\n",
    "ms.free_residues[:4]\n",
    "\n",
    "#len(ms.ires_by_iconf) #273\n",
    "for i, kv in enumerate(ms.ires_by_iconf.items()):\n",
    "    if i >= 8:\n",
    "        break\n",
    "    print(kv)"
   ]
  },
  {
   "cell_type": "raw",
   "metadata": {
    "jupyter": {
     "source_hidden": true
    }
   },
   "source": [
    "def get_ms_from_smsm(smsm_data: np.ndarray, sel_index: int):\n",
    "    \"\"\"\n",
    "    Retrive a column from the smsm matrix as a Microstate object.\n",
    "    Args:\n",
    "        smsm_data (np.ndarray): data from npz file.\n",
    "    \"\"\"\n",
    "\n",
    "    sampling_info = smsm_data[\"info\"][0].split(\", \")\n",
    "    if \"deterministic\" in sampling_info[1]:\n",
    "        lst = [info.split(\"=\")[1] for info in sampling_info]\n",
    "        sort_by = lst[2][1:-1]\n",
    "        if lst[3] == \"False\":\n",
    "            reverse = False\n",
    "        else:\n",
    "            reverse = True\n",
    "        ms_list = ms.sort_microstates(by=sort_by, reverse=reverse)\n",
    "    else:\n",
    "        ms_list = ms.microstates\n",
    "\n",
    "    smsm = smsm_data[\"smsm\"]\n",
    "    col_index = smsm[0,:].tolist().index(sel_index)\n",
    "\n",
    "    return ms_list[smsm[0,col_index]]\n",
    "\n",
    "\n",
    "def get_smsm(ms,\n",
    "             n_sample_size: int,\n",
    "             sample_kind: str,\n",
    "             sort_by: Union[str, None] = None,\n",
    "             reverse = False,\n",
    "             seed = None,\n",
    "             save_to_npz = False) -> np.ndarray:\n",
    "    \"\"\"\n",
    "    Return the Sampled Microstates State Matrix (smsm) for free residues as part of a tuple:\n",
    "    (info, selection_energies, smsm). If `save_to_npz` is True, the same tuple is saved into\n",
    "    a numpy `.npz` file containing these three items.\n",
    "    \"\"\"\n",
    "\n",
    "    print(f\"Sampling microstates (kind: {sample_kind}) for MC{ms.selected_MC}.\")\n",
    "\n",
    "    ms_list, ms_indices, info = ms.get_sampling_params(n_sample_size,\n",
    "                                                         kind = sample_kind,\n",
    "                                                         sort_by = sort_by,\n",
    "                                                         reverse = reverse,\n",
    "                                                         seed = seed\n",
    "                                                         )\n",
    "    k = sample_kind[0].lower()\n",
    "    s = sort_by[0].lower()\n",
    "    if sample_kind.lower() == \"random\":\n",
    "        s = \"\"\n",
    "        ms_list = ms.microstates\n",
    "\n",
    "    selection_energies = []\n",
    "    top_rows = 2\n",
    "    smsm = np.ones((len(ms.free_residues) + top_rows, n_sample_size), dtype=int) * -1\n",
    "\n",
    "    for i, x in enumerate(ms_indices):\n",
    "        sampled_ms = ms_list[x]\n",
    "        selected_iconfs = ms.get_selected_confs(sampled_ms,\n",
    "                                                output_val=\"iconf\",\n",
    "                                                include_fixed = False)\n",
    "        smsm[0, i] = x                 # row 0 :: ms selection index\n",
    "        smsm[1, i] = sampled_ms.idx    # row 1 :: selected_ms.idx\n",
    "        selection_energies.append(sampled_ms.E)\n",
    "\n",
    "        for r, iconf in enumerate(selected_iconfs, start=2):\n",
    "            smsm[r, i] = iconf\n",
    "\n",
    "    info.append(f\"{smsm.shape}\")\n",
    "    info.append(datetime.today().strftime(\"%d-%b-%y %H:%M:%S\"))\n",
    "    if save_to_npz:\n",
    "        npz_file = ms.msout_file_dir.joinpath(f\"smsm{ms.selected_MC}_{k}{s}.npz\")\n",
    "        info.append(npz_file)\n",
    "\n",
    "        if npz_file.exists():\n",
    "            npz_file.unlink()\n",
    "\n",
    "        save_npz(npz_file, info = info, sel_energies = selection_energies, smsm=smsm)\n",
    "\n",
    "    return  info, selection_energies, smsm"
   ]
  },
  {
   "cell_type": "code",
   "execution_count": 17,
   "metadata": {},
   "outputs": [
    {
     "data": {
      "text/plain": [
       "['META0001_',\n",
       " 'TYRA0004_',\n",
       " 'ASNA0006_',\n",
       " 'GLUA0008_',\n",
       " 'THRA0010_',\n",
       " 'TYRA0011_',\n",
       " 'TRPA0013_',\n",
       " 'ARGA0019_',\n",
       " 'ASNA0022_',\n",
       " 'SERA0024_']"
      ]
     },
     "execution_count": 17,
     "metadata": {},
     "output_type": "execute_result"
    }
   ],
   "source": [
    "ms.free_residue_names[:10]"
   ]
  },
  {
   "cell_type": "code",
   "execution_count": 27,
   "metadata": {},
   "outputs": [
    {
     "name": "stdout",
     "output_type": "stream",
     "text": [
      "\tSampling microstates (kind: deterministic) for MC0.\n"
     ]
    },
    {
     "data": {
      "text/plain": [
       "[\"size=4, kind='deterministic', sort_by='energy', reverse=False, seed=None\",\n",
       " 'MC=0',\n",
       " '(145, 4)',\n",
       " '20-Nov-23 15:38:37',\n",
       " PosixPath('/home/cat/projects/granepura_GunnerLab/mcce_data/ms_out/pH7eH0ms/smsm0_4_de.npz')]"
      ]
     },
     "execution_count": 27,
     "metadata": {},
     "output_type": "execute_result"
    }
   ],
   "source": [
    "n_sample_size = 4\n",
    "sample_kind =  \"deterministic\"\n",
    "ms_sort_by = \"energy\"\n",
    "save = True\n",
    "\n",
    "info, selection_energies, smsm = sampling.get_smsm(ms, n_sample_size, sample_kind, ms_sort_by, save_to_npz=save)\n",
    "info"
   ]
  },
  {
   "cell_type": "code",
   "execution_count": 29,
   "metadata": {},
   "outputs": [],
   "source": [
    "fname = sampling.get_output_filename(ms.selected_MC,\n",
    "                                     sample_kind,\n",
    "                                     ms_sort_by,\n",
    "                                     False,\n",
    "                                     size=n_sample_size)\n",
    "d_npz_file = ms.msout_file_dir.joinpath(fname)\n",
    "smsm_data = load_npz(d_npz_file)\n",
    "info_dict = sampling.smsm_data_info_to_dict(smsm_data[\"info\"])\n",
    "info_dict"
   ]
  },
  {
   "cell_type": "code",
   "execution_count": 77,
   "metadata": {},
   "outputs": [
    {
     "data": {
      "text/plain": [
       "14"
      ]
     },
     "execution_count": 77,
     "metadata": {},
     "output_type": "execute_result"
    },
    {
     "data": {
      "text/plain": [
       "'467.14'"
      ]
     },
     "execution_count": 77,
     "metadata": {},
     "output_type": "execute_result"
    },
    {
     "data": {
      "text/plain": [
       "'467.14'"
      ]
     },
     "execution_count": 77,
     "metadata": {},
     "output_type": "execute_result"
    }
   ],
   "source": [
    "len(\"MET01A0001_002\")\n",
    "xx = 467.14\n",
    "repr(xx)\n",
    "sx = f\"{xx:,.2f}\"\n",
    "sx"
   ]
  },
  {
   "cell_type": "code",
   "execution_count": 83,
   "metadata": {},
   "outputs": [
    {
     "name": "stdout",
     "output_type": "stream",
     "text": [
      "META0001_ | MET01A0001_002 MET01A0001_007 MET01A0001_007 MET01A0001_002\n",
      "TYRA0004_ | TYR01A0004_001 TYR01A0004_001 TYR01A0004_001 TYR01A0004_001\n",
      "ASNA0006_ | ASN01A0006_001 ASN01A0006_001 ASN01A0006_001 ASN01A0006_001\n",
      "GLUA0008_ | GLU-1A0008_010 GLU-1A0008_010 GLU-1A0008_010 GLU-1A0008_010\n",
      "THRA0010_ | THR01A0010_001 THR01A0010_001 THR01A0010_002 THR01A0010_002\n",
      "TYRA0011_ | TYR01A0011_004 TYR01A0011_003 TYR01A0011_010 TYR01A0011_003\n",
      "TRPA0013_ | TRP01A0013_005 TRP01A0013_004 TRP01A0013_003 TRP01A0013_007\n"
     ]
    }
   ],
   "source": [
    "sel_indices = smsm_data[\"selection_indices\"]\n",
    "sel_energies = smsm_data[\"selection_energies\"]\n",
    "res_names = smsm_data[\"residue_names\"]\n",
    "smsm = smsm_data[\"smsm\"]\n",
    "\n",
    "#hdr = f\"RESIDUE   | \" + \"\".join([f\"{x:<15}\" for x in sel_indices])\n",
    "#hdr = f\"RESIDUE   | \" + \" \".join([f\"{x:>14,.2f}\" for x in sel_energies])\n",
    "#print(hdr)\n",
    "#print(\"_\" * len(hdr))\n",
    "\n",
    "for r in range(smsm.shape[0]):\n",
    "    rc = smsm[r,:]\n",
    "    row_confs = ms.confnames_by_iconfs(rc.tolist())\n",
    "\n",
    "    print(f\"{res_names[r]} |\", *row_confs)\n",
    "    if r > 5:\n",
    "       break\n"
   ]
  },
  {
   "cell_type": "code",
   "execution_count": 85,
   "metadata": {},
   "outputs": [
    {
     "data": {
      "text/plain": [
       "array([[ 1,  6,  6,  1],\n",
       "       [20, 20, 20, 20],\n",
       "       [24, 24, 24, 24],\n",
       "       [36, 36, 36, 36],\n",
       "       [38, 38, 39, 39]])"
      ]
     },
     "execution_count": 85,
     "metadata": {},
     "output_type": "execute_result"
    },
    {
     "data": {
      "text/plain": [
       "array(['META0001_', 'TYRA0004_', 'ASNA0006_', 'GLUA0008_', 'THRA0010_'],\n",
       "      dtype='<U9')"
      ]
     },
     "execution_count": 85,
     "metadata": {},
     "output_type": "execute_result"
    }
   ],
   "source": [
    "smsm[:5,:5]\n",
    "res_names[:5]"
   ]
  },
  {
   "cell_type": "markdown",
   "metadata": {},
   "source": [
    "# RESUME HERE"
   ]
  },
  {
   "cell_type": "code",
   "execution_count": null,
   "metadata": {},
   "outputs": [],
   "source": [
    "def smsm_to_full_confids(smsm_data):\n",
    "    \"\"\"Convert smsm matrix numbers (iconfs) to confIDs and add the\n",
    "    fixed residues in each selected state.\n",
    "    \"\"\"\n",
    "\n",
    "    sel_indices = smsm_data[\"selection_indices\"]\n",
    "    sel_energies = smsm_data[\"selection_energies\"]\n",
    "    res_names = smsm_data[\"residue_names\"]\n",
    "    smsm = smsm_data[\"smsm\"]\n",
    "\n",
    "    #hdr = f\"RESIDUE   | \" + \"\".join([f\"{x:<15}\" for x in sel_indices])\n",
    "    #hdr = f\"RESIDUE   | \" + \" \".join([f\"{x:>14,.2f}\" for x in sel_energies])\n",
    "    #print(hdr)\n",
    "    #print(\"_\" * len(hdr))\n",
    "\n",
    "    for r in range(smsm.shape[0]):\n",
    "        rc = smsm[r,:]\n",
    "        row_confs = ms.confnames_by_iconfs(rc.tolist())\n",
    "        print(f\"{res_names[r]} |\", *row_confs)\n",
    "\n",
    "    \n",
    "    for i, c in enumerate(range(smsm.shape[1])):\n",
    "        rc = smsm[:,i]\n",
    "    \n",
    "        # add fixed res\n",
    "        all_iconfs = sorted(ms.fixed_iconfs + rc)\n",
    "        selected_confs = ms.confnames_by_iconfs(all_iconfs)\n",
    "        print(f\"{len(selected_confs)= }\")\n",
    "    \n",
    "    \n",
    "        if c == 0:\n",
    "            break\n",
    "        # write pdb with one_pdb_confs; ms_index from smsm row 1\n",
    "        #ms_to_pdb(selected_confs: list, ms_index: int, mc_run: int, remark_data: str, step2_path: str, output_folder: str)\n"
   ]
  },
  {
   "cell_type": "raw",
   "metadata": {},
   "source": [
    "# selected MC run:\n",
    "MC = int(info[1].split(\"=\")[1])\n",
    "\n",
    "# part of the info related to sampling:\n",
    "info_0 = info[0].split(\", \")\n",
    "print(info_0)\n",
    "\n",
    "size = int(info_0[0].split(\"=\")[1])\n",
    "kind = info_0[1].split(\"=\")[1][1:-1]\n",
    "by = info_0[2].split('=')[1][1:-1]\n",
    "reverse = False if info_0[3].split(\"=\")[1].startswith(\"F\") else True\n",
    "\n",
    "reverse\n",
    "\n",
    "if v := info_0[4].split(\"=\")[1] == \"None\":\n",
    "    seed = None\n",
    "else:\n",
    "    seed = int(v)\n",
    "print(v, seed)"
   ]
  },
  {
   "cell_type": "code",
   "execution_count": 108,
   "metadata": {},
   "outputs": [
    {
     "name": "stdout",
     "output_type": "stream",
     "text": [
      "total 108480\n",
      "-rw-r--r-- 1 cat cat 74656121 Nov 13 14:14 MC0.npz\n",
      "-rw-r--r-- 1 cat cat  7277473 Nov 13 14:14 MC1\n",
      "-rw-r--r-- 1 cat cat  7272764 Nov 13 14:14 MC2\n",
      "-rw-r--r-- 1 cat cat  7300876 Nov 13 14:14 MC3\n",
      "-rw-r--r-- 1 cat cat  7283815 Nov 13 14:14 MC4\n",
      "-rw-r--r-- 1 cat cat  7273831 Nov 13 14:14 MC5\n",
      "-rw-r--r-- 1 cat cat     1372 Nov 13 14:14 header\n",
      "-rw-r--r-- 1 cat cat     3555 Nov 13 18:07 smsm0_de.npz\n"
     ]
    }
   ],
   "source": [
    "!ls -l {ms.msout_file_dir}"
   ]
  },
  {
   "cell_type": "code",
   "execution_count": 109,
   "metadata": {},
   "outputs": [
    {
     "name": "stdout",
     "output_type": "stream",
     "text": [
      "Creating n=4 MCCE_PDB files in /home/cat/projects/mcce_dev/notebooks from (n) microstates sorted by 'energy'.\n",
      "\n",
      "PDB files creation over.\n",
      "Files in /home/cat/projects/mcce_dev/notebooks/pdbs_from_ms:\n",
      "\n",
      "\t /home/cat/projects/mcce_dev/notebooks/pdbs_from_ms/mc0_ms104828.pdb\n",
      "\t /home/cat/projects/mcce_dev/notebooks/pdbs_from_ms/mc0_ms211882.pdb\n",
      "\t /home/cat/projects/mcce_dev/notebooks/pdbs_from_ms/mc1_ms211972.pdb\n",
      "\t /home/cat/projects/mcce_dev/notebooks/pdbs_from_ms/mc2_ms3.pdb\n",
      "\t /home/cat/projects/mcce_dev/notebooks/pdbs_from_ms/mc2_ms211759.pdb\n",
      "\t /home/cat/projects/mcce_dev/notebooks/pdbs_from_ms/mc0_ms320499.pdb\n",
      "\t /home/cat/projects/mcce_dev/notebooks/pdbs_from_ms/mc2_ms104929.pdb\n",
      "\t /home/cat/projects/mcce_dev/notebooks/pdbs_from_ms/mc0_ms4.pdb\n",
      "\t /home/cat/projects/mcce_dev/notebooks/pdbs_from_ms/mc2_ms320467.pdb\n",
      "\t /home/cat/projects/mcce_dev/notebooks/pdbs_from_ms/mc2_ms4.pdb\n",
      "\t /home/cat/projects/mcce_dev/notebooks/pdbs_from_ms/mc2_ms211972.pdb\n",
      "\t /home/cat/projects/mcce_dev/notebooks/pdbs_from_ms/mc2_ms104793.pdb\n",
      "\t /home/cat/projects/mcce_dev/notebooks/pdbs_from_ms/mc1_ms320678.pdb\n",
      "\t /home/cat/projects/mcce_dev/notebooks/pdbs_from_ms/mc1_ms4.pdb\n",
      "\t /home/cat/projects/mcce_dev/notebooks/pdbs_from_ms/mc1_ms104929.pdb\n",
      "\t /home/cat/projects/mcce_dev/notebooks/pdbs_from_ms/mc2_ms320678.pdb\n"
     ]
    }
   ],
   "source": [
    "n_sample_size = 4\n",
    "sample_kind =  \"deterministic\"\n",
    "ms_sort_by = \"energy\"\n",
    "save = True\n",
    "out_dir = Path.cwd()\n",
    "\n",
    "sampling.pdbs_from_smsm(ms,\n",
    "                        n_sample_size,\n",
    "                        sample_kind,\n",
    "                        sort_by = ms_sort_by,\n",
    "                        sort_reverse = False,\n",
    "                        seed = None,\n",
    "                        output_pdb_format = \"standard\",\n",
    "                        output_dir = out_dir,\n",
    "                        clear_pdbs_folder = False,\n",
    "                        list_files = True\n",
    "                       )\n"
   ]
  },
  {
   "cell_type": "code",
   "execution_count": 112,
   "metadata": {},
   "outputs": [
    {
     "name": "stdout",
     "output_type": "stream",
     "text": [
      "\n",
      "REMARK 250\n",
      "REMARK 250 EXPERIMENTAL DETAILS\n",
      "REMARK 250   EXPERIMENT TYPE               : MCCE simulation\n",
      "REMARK 250   DATE OF DATA COLLECTION       : 13-Nov-23\n",
      "REMARK 250   REMARK: Date of data collection is the date this pdb was created.\n",
      "REMARK 250 SAMPLING DETAILS\n",
      "REMARK 250   SAMPLING PARAMETERS           : size=4, kind='deterministic', sort_by='energy', reverse=False\n",
      "REMARK 250   MATRIX FILE NAME              : [..]/4lzt/ms_out/pH6eH0ms/smsm0_de.npz\n",
      "REMARK 250   MATRIX SHAPE                  : (65, 4)\n",
      "REMARK 250   MATRIX CREATION DATE          : 13-Nov-23 18:07:39\n",
      "REMARK 250   MICROSTATE SELECTION INDEX    : 104,828\n",
      "REMARK 250   MICROSTATE CREATION INDEX     : 104,828\n",
      "REMARK 250   SELECTED MICROSTATE ENERGY    : 195.46 (kcal/mol)\n",
      "REMARK 250 EXPERIMENTAL CONDITIONS\n",
      "REMARK 250   TEMPERATURE                   : 298.15 (K)\n",
      "REMARK 250   PH                            : 6.00\n",
      "REMARK 250   EH                            : 0.00\n",
      "REMARK 250   METHOD                        : MONTERUNS\n",
      "REMARK 250   MONTERUN INDEX                : MC=0\n",
      "REMARK 250\n",
      "ATOM      1  CA  NTR A0001_001   2.696   5.785  12.711   2.000       0.001      01O000M000\n",
      "ATOM      2  HA  NTR A0001_001   3.149   5.444  11.801   0.000       0.000      01O000M000\n",
      "ATOM      3  N   NTR A0001_001   2.812   4.829  13.856   1.500      -0.003      01O000M000\n",
      "ATOM      4  H   NTR A0001_001   2.419   3.912  13.784   1.000       0.001      01O000M000\n",
      "ATOM      5  H2  NTR A0001_001   3.283   5.107  14.693   1.000       0.001      01O000M000\n",
      "ATOM     12  C   LYS A0001_000   3.389   7.073  13.137   1.700       0.550      BK____M000\n",
      "ATOM     13  O   LYS A0001_000   3.213   7.476  14.285   1.400      -0.550      BK____M000\n",
      "ATOM     14  CB  LYS A0001_001   1.180   5.987  12.487   2.000       0.000      01O000M000\n",
      "ATOM     15  HB2 LYS A0001_001   0.724   6.255  13.419   0.000       0.000      01O000M000\n",
      "ATOM     16  HB3 LYS A0001_001   0.754   5.066  12.142   0.000       0.000      01O000M000\n",
      "ATOM     17  CG  LYS A0001_001   0.889   7.082  11.460   2.000       0.000      01O000M000\n",
      "ATOM     18  HG2 LYS A0001_001   1.442   6.885  10.563   0.000       0.000      01O000M000\n",
      "ATOM     19  HG3 LYS A0001_001   1.193   8.031  11.856   0.000       0.000      01O000M000\n",
      "ATOM     20  CD  LYS A0001_001  -0.594   7.121  11.139   2.000       0.000      01O000M000\n",
      "ATOM     21  HD2 LYS A0001_001  -1.131   7.330  12.043   0.000       0.000      01O000M000\n",
      "ATOM     22  HD3 LYS A0001_001  -0.887   6.157  10.774   0.000       0.000      01O000M000\n",
      "ATOM     23  CE  LYS A0001_001  -0.975   8.165  10.101   2.000       0.000      01O000M000\n",
      "ATOM     24  HE2 LYS A0001_001  -0.356   8.031   9.236   0.000       0.000      01O000M000\n",
      "ATOM     25  HE3 LYS A0001_001  -0.796   9.139  10.511   0.000       0.000      01O000M000\n",
      "ATOM     26  NZ  LYS A0001_001  -2.393   8.077   9.689   1.500      -0.780      01O000M000\n",
      "ATOM     27  HZ1 LYS A0001_001  -3.119   8.190  10.368   1.000       0.390      01O000M000\n",
      "ATOM     28  HZ2 LYS A0001_001  -2.626   7.905   8.732   1.000       0.390      01O000M000\n",
      "ATOM     45  N   VAL A0002_000   4.060   7.689  12.193   1.500      -0.350      BK____M000\n",
      "ATOM     46  H   VAL A0002_000   4.220   7.233  11.317   1.000       0.250      BK____M000\n",
      "ATOM     47  CA  VAL A0002_000   4.573   9.034  12.415   2.000       0.100      BK____M000\n",
      "ATOM     48  HA  VAL A0002_000   4.492   9.283  13.455   0.000       0.000      BK____M000\n",
      "ATOM     49  C   VAL A0002_000   3.749   9.984  11.588   1.700       0.550      BK____M000\n",
      "ATOM     50  O   VAL A0002_000   3.730   9.865  10.342   1.400      -0.550      BK____M000\n",
      "ATOM     51  CB  VAL A0002_001   6.068   9.142  12.067   2.000       0.000      01O000M000\n"
     ]
    }
   ],
   "source": [
    "# Inspect a pdb head:\n",
    "\n",
    "!head -n 50 ./pdbs_from_ms/mc0_ms104828.pdb"
   ]
  },
  {
   "cell_type": "raw",
   "metadata": {},
   "source": [
    "assert len(ms.fixed_residue_names) == len(ms.fixed_iconfs)\n",
    "\n",
    "for i, (res,conf) in enumerate(zip(ms.fixed_residue_names,ms.fixed_iconfs)):\n",
    "    print(i, res, conf)\n",
    "    if i > 10:\n",
    "        break\n",
    "\n",
    "for i, (res,confs) in enumerate(zip(ms.free_residue_names, ms.free_residues)):\n",
    "    print(i, res, confs)\n",
    "    if i > 10:\n",
    "        break"
   ]
  },
  {
   "cell_type": "code",
   "execution_count": null,
   "metadata": {},
   "outputs": [],
   "source": []
  },
  {
   "cell_type": "code",
   "execution_count": null,
   "metadata": {},
   "outputs": [],
   "source": []
  },
  {
   "cell_type": "code",
   "execution_count": null,
   "metadata": {},
   "outputs": [],
   "source": []
  },
  {
   "cell_type": "markdown",
   "metadata": {},
   "source": [
    "---\n",
    "# TODO? PDB conversions"
   ]
  },
  {
   "cell_type": "markdown",
   "metadata": {},
   "source": [
    "## name.txt\n",
    "> Rename rule file contains rules to format atom names and residue names.\n",
    " The purpose is to unify residue names to 3-char mcce names\n",
    " and break some big cofactors into small ones.\n",
    " Each line has two fields separated by at least one space. Each field\n",
    " is 14 characters long, matching the atom, residue name, chainID and\n",
    " sequence number field of a pdb line. The first string will be\n",
    " replaced by the second string.\n",
    " Symbol \"*\" in the first string is a wildcard that matchs any character.\n",
    " It means \"do not replace\" in the second string.\n",
    " The replace is accumulative in the order of appearing in this file.\n",
    "\n",
    "\n",
    "The first 3 lines:\n",
    "```python\n",
    "0123456789012  01234567890123\n",
    "***** *******  *****_********\n",
    "****** *****   ******_*******\n",
    "******* ***  > *******_****\n",
    "```\n",
    "mean: replace a space in position 5, 6 or 7 by \"_\".\n",
    "\n",
    "**"
   ]
  },
  {
   "cell_type": "code",
   "execution_count": 149,
   "metadata": {},
   "outputs": [
    {
     "data": {
      "text/plain": [
       "PosixPath('/home/cat/projects/mcce_dev/data/4lzt/name.txt')"
      ]
     },
     "execution_count": 149,
     "metadata": {},
     "output_type": "execute_result"
    },
    {
     "data": {
      "text/plain": [
       "PosixPath('data/4lzt/name.txt')"
      ]
     },
     "execution_count": 149,
     "metadata": {},
     "output_type": "execute_result"
    }
   ],
   "source": [
    "nametxt = mcce_dir.joinpath(\"name.txt\")\n",
    "nametxt\n",
    "\n",
    "# use when running subprocesses from this nbk\n",
    "nametxt2 = nametxt.relative_to(Path.cwd().parent)\n",
    "nametxt2"
   ]
  },
  {
   "cell_type": "code",
   "execution_count": 93,
   "metadata": {},
   "outputs": [],
   "source": [
    "import re\n",
    "from collections import defaultdict\n",
    "\n",
    "\n",
    "regex = r'^\\*{5,8}\\s\\*{5,}\\s\\s'\n",
    "split_tag = \"*@@\"\n",
    "\n",
    "mcce_to_pdb_name_dict = defaultdict(list)\n",
    "with open(nametxt) as f:\n",
    "    for i, line in enumerate(f):\n",
    "        if (line.startswith(\"#\")\n",
    "            or line.startswith(\" D\")\n",
    "            or re.match(regex, line)\n",
    "           ):\n",
    "            continue\n",
    "        if len(line) <29:\n",
    "            continue\n",
    "\n",
    "        line = line[:30].replace(\"*  \", split_tag)\n",
    "        from_str, to_str = line.split(split_tag)[:2]\n",
    "        mcce_to_pdb_name_dict[to_str].append(from_str)\n"
   ]
  },
  {
   "cell_type": "code",
   "execution_count": 92,
   "metadata": {},
   "outputs": [],
   "source": [
    "#pp(mcce_to_pdb_name_dict)"
   ]
  },
  {
   "cell_type": "code",
   "execution_count": 90,
   "metadata": {},
   "outputs": [
    {
     "data": {
      "text/plain": [
       "(30, 30)"
      ]
     },
     "execution_count": 90,
     "metadata": {},
     "output_type": "execute_result"
    }
   ],
   "source": [
    "s = \"***** NA******  *****_NA******\"\n",
    "x = \"012345678901234567890123456789\"\n",
    "len(s), len(x)"
   ]
  },
  {
   "cell_type": "raw",
   "metadata": {},
   "source": [
    "gr_data = subprocess.check_output(\n",
    "                f\"grep -E 'Gehan' ../{nametxt2}\",  # | sed -e 's/(//g; s/MONTE_//g; s/)//g'\",\n",
    "                stderr=subprocess.STDOUT,\n",
    "                shell=True,).decode().splitlines()\n",
    "\n",
    "gr_data"
   ]
  },
  {
   "cell_type": "raw",
   "metadata": {},
   "source": [
    "# in pymccelib.py\n",
    "\n",
    "# env = Env()\n",
    "def pdb2mcce(self, pdb):\n",
    "        \"\"\"Convert pdb to mcce pdb\"\"\"\n",
    "        atom_exceptions = [\" H2 \", \" OXT\", \" HXT\"]\n",
    "        mccelines = []\n",
    "        lines = [x for x in open(pdb).readlines() if x[:6] == \"ATOM  \" or x[:6] == \"HETATM\"]\n",
    "\n",
    "        icount = 0\n",
    "        previous_resid = ()\n",
    "        possible_confs = []\n",
    "        for line in lines:\n",
    "            # pdb line\n",
    "            atomname = line[12:16]\n",
    "            resname = line[17:20]\n",
    "            chainid = line[21]\n",
    "            seqnum = int(line[22:26])\n",
    "            icode = line[26]\n",
    "            xyz = line[30:54]\n",
    "\n",
    "            current_resid = (resname, chainid, seqnum, icode)\n",
    "            # mcce line, need to add conf_number, radius, charge, conf_type, conf_history\n",
    "            if current_resid != previous_resid:\n",
    "                possible_confs = [x.strip() for x in env.tpl[(\"CONFLIST\", resname)].split(\",\")]\n",
    "                logging.info(\"Identified a new residue %s: %s\" % (resname, \", \".join(possible_confs)))\n",
    "                previous_resid = current_resid\n",
    "            Found = False\n",
    "            for confname in possible_confs:\n",
    "                if atomname in env.atomnames[confname]:\n",
    "                    conf_type = confname[3:5]\n",
    "                    conf_number = possible_confs.index(confname)\n",
    "                    cname = confname\n",
    "                    Found = True\n",
    "                    break\n",
    "            if not Found:\n",
    "                # this atom is not found in all conformers\n",
    "                if atomname not in atom_exceptions:\n",
    "                    print(\"Atom \\\"%s\\\" in pdb file %s can not be assigned to any conformer\" % (atomname, pdb))\n",
    "                continue\n",
    "\n",
    "            key = (\"RADIUS\", cname, atomname)\n",
    "            if key in env.tpl:\n",
    "                radius_str = env.tpl[key]\n",
    "                rad, _, _ = radius_str.split(\",\")\n",
    "                rad = float(rad)\n",
    "            else:\n",
    "                rad = 0.0\n",
    "\n",
    "            key = (\"CHARGE\", cname, atomname)\n",
    "            if key in env.tpl:\n",
    "                charge_str = env.tpl[key]\n",
    "                crg = float(charge_str)\n",
    "            else:\n",
    "                crg = 0.0\n",
    "\n",
    "            conf_history = \"________\"\n",
    "            newline = \"ATOM  %5d %4s %s %c%4d%c%03d%s%8.3f    %8.3f      %s%s\\n\" % \\\n",
    "                      (icount, atomname, resname, chainid, seqnum, icode, conf_number, xyz, rad, crg, conf_type, conf_history)\n",
    "            mccelines.append(newline)\n",
    "            icount += 1\n",
    "\n",
    "        return mccelines\n"
   ]
  }
 ],
 "metadata": {
  "jupytext": {
   "formats": "ipynb,md"
  },
  "kernelspec": {
   "display_name": "Python [conda env:mce]",
   "language": "python",
   "name": "conda-env-mce-py"
  },
  "language_info": {
   "codemirror_mode": {
    "name": "ipython",
    "version": 3
   },
   "file_extension": ".py",
   "mimetype": "text/x-python",
   "name": "python",
   "nbconvert_exporter": "python",
   "pygments_lexer": "ipython3",
   "version": "3.11.5"
  }
 },
 "nbformat": 4,
 "nbformat_minor": 4
}
