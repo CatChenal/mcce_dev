{
 "cells": [
  {
   "cell_type": "markdown",
   "metadata": {},
   "source": [
    "I ran the following code against my 4lzt output folder\n",
    "to verify that NITER * num_free * RUNS = MC.counts, but could not.\n",
    "\n",
    " * Note: jj_ms_analysis is the module from your demo without the hard coded paths.\n",
    "---"
   ]
  },
  {
   "cell_type": "code",
   "execution_count": 1,
   "metadata": {
    "lines_to_next_cell": 0,
    "scrolled": true,
    "tags": []
   },
   "outputs": [
    {
     "name": "stdout",
     "output_type": "stream",
     "text": [
      "Path added to sys.path: /home/cat/projects/mcce_dev/src\n"
     ]
    }
   ],
   "source": [
    "from pathlib import Path\n",
    "import jj_ms_analysis as jjms\n",
    "import subprocess\n",
    "\n",
    "\n",
    "# may need to change this:\n",
    "\n",
    "#DIR_DATA = Path.cwd()\n",
    "mcce_dir = DIR_DATA.joinpath(\"4lzt\")\n",
    "\n",
    "fname = mcce_dir.joinpath(\"ms_out/pH6eH0ms.txt\")\n",
    "\n",
    "jjmc = jjms.MC(mcce_dir)\n",
    "jjmc.readms(fname)"
   ]
  },
  {
   "cell_type": "markdown",
   "metadata": {},
   "source": [
    "Output:\n",
    "```\n",
    "Reading MC:0\n",
    "Reading MC:1\n",
    "Reading MC:2\n",
    "Reading MC:3\n",
    "Reading MC:4\n",
    "Reading MC:5\n",
    "```"
   ]
  },
  {
   "cell_type": "code",
   "execution_count": 2,
   "metadata": {
    "lines_to_next_cell": 0
   },
   "outputs": [
    {
     "data": {
      "text/plain": [
       "PosixPath('/home/cat/projects/mcce_dev/data')"
      ]
     },
     "execution_count": 2,
     "metadata": {},
     "output_type": "execute_result"
    }
   ],
   "source": [
    "runprm = mcce_dir.joinpath(\"run.prm.record\")\n",
    "runprm2 = runprm.relative_to(Path.cwd().parent)\n",
    "\n",
    "prmdata = subprocess.check_output(f\"grep -E 'MONTE_T)|MONTE_FLIPS|MONTE_RUNS|MONTE_NITER' ../{runprm2}| sed -e 's/(//g; s/MONTE_//g; s/)//g'\",\n",
    "                                  stderr=subprocess.STDOUT,\n",
    "                                  shell=True\n",
    "                                  ).decode().splitlines()\n",
    "\n",
    "T = float(prmdata[0].split()[0])\n",
    "FLIPS = int(prmdata[1].split()[0])\n",
    "RUNS =  int(prmdata[2].split()[0])\n",
    "NITER = int(prmdata[3].split()[0])\n",
    "\n",
    "counts = 0\n",
    "for mc in jjmc.microstates:\n",
    "    counts += mc.count\n",
    "print(f\"Via iterative sum: {counts = :,}, {jjmc.counts = :,}\")\n",
    "\n",
    "print(f\"{counts/6=:,.0f}\")\n",
    "\n",
    "jjmc_free = len(jjmc.free_residues)\n",
    "\n",
    "# MS.counts should be MONTE_NITER x number of free conformers x MC runs.\n",
    "jjmc_calc = NITER * jjmc_free * RUNS\n",
    "\n",
    "print(f\"NITER({NITER}) * jjmc_free({jjmc_free}) * RUNS({RUNS}) = {jjmc_calc = :,}\")"
   ]
  },
  {
   "cell_type": "markdown",
   "metadata": {},
   "source": [
    "Output:\n",
    "```\n",
    "Via iterative sum: counts = 3,300,000, jjmc.counts = 3,300,000\n",
    "counts/6=550,000\n",
    "NITER(2000) * jjmc_free(63) * RUNS(6) = jjmc_calc = 756,000\n",
    "```"
   ]
  }
 ],
 "metadata": {
  "kernelspec": {
   "display_name": "Python [conda env:mce]",
   "language": "python",
   "name": "conda-env-mce-py"
  },
  "language_info": {
   "codemirror_mode": {
    "name": "ipython",
    "version": 3
   },
   "file_extension": ".py",
   "mimetype": "text/x-python",
   "name": "python",
   "nbconvert_exporter": "python",
   "pygments_lexer": "ipython3",
   "version": "3.11.5"
  }
 },
 "nbformat": 4,
 "nbformat_minor": 4
}
