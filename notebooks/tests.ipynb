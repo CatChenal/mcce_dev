{
 "cells": [
  {
   "cell_type": "markdown",
   "metadata": {},
   "source": [
    "First cell contains common imports and helper functions."
   ]
  },
  {
   "cell_type": "code",
   "execution_count": 1,
   "metadata": {
    "jupyter": {
     "source_hidden": true
    }
   },
   "outputs": [
    {
     "name": "stdout",
     "output_type": "stream",
     "text": [
      "Path added to sys.path: /home/cat/projects/mcce_dev/src\n"
     ]
    }
   ],
   "source": [
    "import sys\n",
    "from pathlib import Path\n",
    "import time\n",
    "import numpy as np\n",
    "from pprint import pprint as pp\n",
    "import matplotlib as mpl\n",
    "from matplotlib import pyplot as plt\n",
    "plt.ion()\n",
    "#plt.style.use('seaborn-v0_8-muted')\n",
    "\n",
    "from IPython.display import Markdown\n",
    "# To get multiple outputs into 1 cell w/o using print:\n",
    "from IPython.core.interactiveshell import InteractiveShell\n",
    "InteractiveShell.ast_node_interactivity = \"all\"\n",
    "\n",
    "%load_ext autoreload\n",
    "%autoreload 2\n",
    "\n",
    "# -----------------------------------------\n",
    "# TWO USEFUL FUNCTIONS:\n",
    "\n",
    "def add_to_sys_path(this_path, up=False):\n",
    "    \"\"\"\n",
    "    Prepend this_path to sys.path.\n",
    "    If up=True, path refers to parent folder (1 level up).\n",
    "    \"\"\"\n",
    "    if up:\n",
    "        newp = Path(this_path).parent\n",
    "    else:\n",
    "        newp = Path(this_path)\n",
    "    src = newp.joinpath(\"src\")\n",
    "    if src.exists():\n",
    "        newp = str(src)\n",
    "    else:\n",
    "        newp = str(newp)\n",
    "    if newp not in sys.path:\n",
    "        sys.path.insert(1, newp)\n",
    "        print('Path added to sys.path: {}'.format(newp))\n",
    "\n",
    "\n",
    "# Filtered dir() for method discovery:\n",
    "def fdir(obj, start_with_str='_', exclude=True):\n",
    "    return [d for d in dir(obj) if not d.startswith(start_with_str) == exclude]\n",
    "\n",
    "\n",
    "# Insert current src dir into sys.path so that modules in ../src can be imported:\n",
    "# CHANGE THIS IF NEEDED:\n",
    "add_to_sys_path(Path.cwd(), up=True)"
   ]
  },
  {
   "cell_type": "raw",
   "metadata": {},
   "source": [
    "DATA = Path.cwd().parent.joinpath(\"data\", \"4lzt\")\n",
    "DATA\n",
    "pKfile = \"pK.out\"\n",
    "pKpath = DATA.joinpath(pKfile)\n",
    "pKpath.exists()"
   ]
  },
  {
   "cell_type": "code",
   "execution_count": 11,
   "metadata": {},
   "outputs": [
    {
     "data": {
      "text/plain": [
       "('', 'x')"
      ]
     },
     "execution_count": 11,
     "metadata": {},
     "output_type": "execute_result"
    },
    {
     "data": {
      "text/plain": [
       "('.py', 'x.py', 'x')"
      ]
     },
     "execution_count": 11,
     "metadata": {},
     "output_type": "execute_result"
    },
    {
     "data": {
      "text/plain": [
       "PosixPath('x.py')"
      ]
     },
     "execution_count": 11,
     "metadata": {},
     "output_type": "execute_result"
    },
    {
     "data": {
      "text/plain": [
       "PosixPath('.')"
      ]
     },
     "execution_count": 11,
     "metadata": {},
     "output_type": "execute_result"
    }
   ],
   "source": [
    "m1 = Path(\"x\")\n",
    "m2 = Path(\"x.py\")\n",
    "\n",
    "m1.suffix, m1.name\n",
    "m2.suffix, m2.name, m2.stem\n",
    "\n",
    "#update.name? nope, reset\n",
    "m1 = Path(m1.name + \".py\")\n",
    "m1\n",
    "\n",
    "Path(\"\")"
   ]
  },
  {
   "cell_type": "raw",
   "metadata": {},
   "source": [
    "# fetch_pdb from biopandas:\n",
    "\n",
    "import sys\n",
    "from urllib.error import HTTPError, URLError\n",
    "from urllib.request import urlopen\n",
    "\n",
    "   def _fetch_pdb(pdb_code):\n",
    "        \"\"\"Load PDB file from rcsb.org.\"\"\"\n",
    "        txt = None\n",
    "        url = f\"https://files.rcsb.org/download/{pdb_code.lower()}.pdb\"\n",
    "        try:\n",
    "            response = urlopen(url)\n",
    "            txt = response.read()\n",
    "            txt = (\n",
    "                txt.decode(\"utf-8\") if sys.version_info[0] >= 3 else txt.encode(\"ascii\")\n",
    "            )\n",
    "        except HTTPError as e:\n",
    "            print(f\"HTTP Error {e.code}\")\n",
    "        except URLError as e:\n",
    "            print(f\"URL Error {e.args}\")\n",
    "        return url, txt"
   ]
  },
  {
   "cell_type": "code",
   "execution_count": 9,
   "metadata": {},
   "outputs": [],
   "source": [
    "import pandas as pd"
   ]
  },
  {
   "cell_type": "code",
   "execution_count": 12,
   "metadata": {},
   "outputs": [
    {
     "name": "stdout",
     "output_type": "stream",
     "text": [
      "  pH             pKa/Em  n(slope) 1000*chi2      vdw0    vdw1    tors    ebkb    dsol   offset  pHpK0   EhEm0    -TS   residues   total\n",
      "NTR+A0001_        <6.0                           0.00    0.00    0.00    0.00   16.42   -0.95   -2.00    0.00    0.00    0.00     13.47\n",
      "LYS+A0001_        <6.0                           0.00    0.00    0.00    0.00   13.42    0.29   -4.40    0.00    0.00    0.00      9.31\n",
      "ARG+A0005_        <6.0                           0.00    0.00    0.00    0.00    8.53    0.00   -6.50    0.00    0.57    0.00      2.60\n",
      "GLU-A0007_        >7.0                           0.00    0.00    0.00    0.00   12.54   -0.22   -2.25    0.00    0.60    0.00     10.67\n",
      "LYS+A0013_        <6.0                           0.00    0.00    0.00    0.00   13.42    0.29   -4.40    0.00    0.00    0.00      9.31\n",
      "ARG+A0014_        <6.0                           0.00    0.00    0.00    0.00    8.57    0.00   -6.50    0.00    0.45    0.00      2.51\n",
      "HIS+A0015_        <6.0                           0.00    0.00    0.00    0.00    8.87   -0.73   -0.98    0.00    0.30    0.00      7.46\n",
      "ASP-A0018_        >7.0                           0.00    0.00    0.00    0.00   12.60   -0.62   -2.25    0.00    0.60    0.00     10.32\n",
      "TYR-A0020_        >7.0                           0.00    0.00    0.00    0.00   12.46   -0.37    3.20    0.00    0.30    0.00     15.60\n",
      "ARG+A0021_        <6.0                           0.00    0.00    0.00    0.00    8.57    0.00   -6.50    0.00    0.45    0.00      2.51\n",
      "TYR-A0023_        >7.0                           0.00    0.00    0.00    0.00   12.46   -0.37    3.20    0.00    0.30    0.00     15.60\n",
      "LYS+A0033_        <6.0                           0.00    0.00    0.00    0.00   13.42    0.29   -4.40    0.00    0.00    0.00      9.31\n",
      "GLU-A0035_        >7.0                           0.00    0.00    0.00    0.00   12.54   -0.22   -2.25    0.00    0.60    0.00     10.67\n",
      "ARG+A0045_        <6.0                           0.00    0.00    0.00    0.00    8.57    0.00   -6.50    0.00    0.45    0.00      2.51\n",
      "ASP-A0048_        >7.0                           0.00    0.00    0.00    0.00   12.60   -0.62   -2.25    0.00    0.60    0.00     10.32\n",
      "ASP-A0052_        >7.0                           0.00    0.00    0.00    0.00   12.60   -0.62   -2.25    0.00    0.60    0.00     10.32\n",
      "TYR-A0053_        >7.0                           0.00    0.00    0.00    0.00   12.46   -0.37    3.20    0.00    0.30    0.00     15.60\n",
      "ARG+A0061_        <6.0                           0.00    0.00    0.00    0.00    8.54    0.00   -6.50    0.00    0.58    0.00      2.61\n",
      "ASP-A0066_        >7.0                           0.00    0.00    0.00    0.00   12.60   -0.62   -2.25    0.00    0.60    0.00     10.32\n",
      "ARG+A0068_        <6.0                           0.00    0.00    0.00    0.00    8.51    0.00   -6.50    0.00    0.67    0.00      2.68\n",
      "ARG+A0073_        <6.0                           0.00    0.00    0.00    0.00    8.57    0.00   -6.50    0.00    0.45    0.00      2.51\n",
      "ASP-A0087_        >7.0                           0.00    0.00    0.00    0.00   12.60   -0.62   -2.25    0.00    0.60    0.00     10.32\n",
      "LYS+A0096_        <6.0                           0.00    0.00    0.00    0.00   13.42    0.29   -4.40    0.00    0.00    0.00      9.31\n",
      "LYS+A0097_        <6.0                           0.00    0.00    0.00    0.00   13.42    0.29   -4.40    0.00    0.00    0.00      9.31\n",
      "ASP-A0101_        >7.0                           0.00    0.00    0.00    0.00   12.60   -0.62   -2.25    0.00    0.60    0.00     10.32\n",
      "ARG+A0112_        <6.0                           0.00    0.00    0.00    0.00    8.54    0.00   -6.50    0.00    0.58    0.00      2.61\n",
      "ARG+A0114_        <6.0                           0.00    0.00    0.00    0.00    8.57    0.00   -6.50    0.00    0.45    0.00      2.51\n",
      "LYS+A0116_        <6.0                           0.00    0.00    0.00    0.00   13.42    0.29   -4.40    0.00    0.00    0.00      9.31\n",
      "ASP-A0119_        >7.0                           0.00    0.00    0.00    0.00   12.60   -0.62   -2.25    0.00    0.60    0.00     10.32\n",
      "ARG+A0125_        <6.0                           0.00    0.00    0.00    0.00    8.54    0.00   -6.50    0.00    0.58    0.00      2.61\n",
      "ARG+A0128_        <6.0                           0.00    0.00    0.00    0.00    8.57    0.00   -6.50    0.00    0.45    0.00      2.51\n",
      "CTR-A0129_        >7.0                           0.00    0.00    0.00    0.00   13.49    0.00   -3.25    0.00    0.60    0.00     10.84\n"
     ]
    }
   ],
   "source": [
    "!cat {pKpath}"
   ]
  },
  {
   "cell_type": "code",
   "execution_count": 11,
   "metadata": {},
   "outputs": [
    {
     "ename": "ParserError",
     "evalue": "Error tokenizing data. C error: Expected 74 fields in line 3, saw 76\n",
     "output_type": "error",
     "traceback": [
      "\u001b[0;31m---------------------------------------------------------------------------\u001b[0m",
      "\u001b[0;31mParserError\u001b[0m                               Traceback (most recent call last)",
      "Cell \u001b[0;32mIn[11], line 1\u001b[0m\n\u001b[0;32m----> 1\u001b[0m pk_df \u001b[38;5;241m=\u001b[39m \u001b[43mpd\u001b[49m\u001b[38;5;241;43m.\u001b[39;49m\u001b[43mread_table\u001b[49m\u001b[43m(\u001b[49m\u001b[43mpKpath\u001b[49m\u001b[43m,\u001b[49m\u001b[43m \u001b[49m\u001b[43msep\u001b[49m\u001b[38;5;241;43m=\u001b[39;49m\u001b[38;5;124;43m\"\u001b[39;49m\u001b[38;5;124;43m \u001b[39;49m\u001b[38;5;124;43m\"\u001b[39;49m\u001b[43m,\u001b[49m\u001b[43m \u001b[49m\u001b[43mheader\u001b[49m\u001b[38;5;241;43m=\u001b[39;49m\u001b[38;5;241;43m0\u001b[39;49m\u001b[43m,\u001b[49m\u001b[43m)\u001b[49m\n",
      "File \u001b[0;32m~/miniconda3/envs/mce/lib/python3.11/site-packages/pandas/io/parsers/readers.py:1282\u001b[0m, in \u001b[0;36mread_table\u001b[0;34m(filepath_or_buffer, sep, delimiter, header, names, index_col, usecols, dtype, engine, converters, true_values, false_values, skipinitialspace, skiprows, skipfooter, nrows, na_values, keep_default_na, na_filter, verbose, skip_blank_lines, parse_dates, infer_datetime_format, keep_date_col, date_parser, date_format, dayfirst, cache_dates, iterator, chunksize, compression, thousands, decimal, lineterminator, quotechar, quoting, doublequote, escapechar, comment, encoding, encoding_errors, dialect, on_bad_lines, delim_whitespace, low_memory, memory_map, float_precision, storage_options, dtype_backend)\u001b[0m\n\u001b[1;32m   1269\u001b[0m kwds_defaults \u001b[38;5;241m=\u001b[39m _refine_defaults_read(\n\u001b[1;32m   1270\u001b[0m     dialect,\n\u001b[1;32m   1271\u001b[0m     delimiter,\n\u001b[0;32m   (...)\u001b[0m\n\u001b[1;32m   1278\u001b[0m     dtype_backend\u001b[38;5;241m=\u001b[39mdtype_backend,\n\u001b[1;32m   1279\u001b[0m )\n\u001b[1;32m   1280\u001b[0m kwds\u001b[38;5;241m.\u001b[39mupdate(kwds_defaults)\n\u001b[0;32m-> 1282\u001b[0m \u001b[38;5;28;01mreturn\u001b[39;00m \u001b[43m_read\u001b[49m\u001b[43m(\u001b[49m\u001b[43mfilepath_or_buffer\u001b[49m\u001b[43m,\u001b[49m\u001b[43m \u001b[49m\u001b[43mkwds\u001b[49m\u001b[43m)\u001b[49m\n",
      "File \u001b[0;32m~/miniconda3/envs/mce/lib/python3.11/site-packages/pandas/io/parsers/readers.py:617\u001b[0m, in \u001b[0;36m_read\u001b[0;34m(filepath_or_buffer, kwds)\u001b[0m\n\u001b[1;32m    614\u001b[0m     \u001b[38;5;28;01mreturn\u001b[39;00m parser\n\u001b[1;32m    616\u001b[0m \u001b[38;5;28;01mwith\u001b[39;00m parser:\n\u001b[0;32m--> 617\u001b[0m     \u001b[38;5;28;01mreturn\u001b[39;00m \u001b[43mparser\u001b[49m\u001b[38;5;241;43m.\u001b[39;49m\u001b[43mread\u001b[49m\u001b[43m(\u001b[49m\u001b[43mnrows\u001b[49m\u001b[43m)\u001b[49m\n",
      "File \u001b[0;32m~/miniconda3/envs/mce/lib/python3.11/site-packages/pandas/io/parsers/readers.py:1748\u001b[0m, in \u001b[0;36mTextFileReader.read\u001b[0;34m(self, nrows)\u001b[0m\n\u001b[1;32m   1741\u001b[0m nrows \u001b[38;5;241m=\u001b[39m validate_integer(\u001b[38;5;124m\"\u001b[39m\u001b[38;5;124mnrows\u001b[39m\u001b[38;5;124m\"\u001b[39m, nrows)\n\u001b[1;32m   1742\u001b[0m \u001b[38;5;28;01mtry\u001b[39;00m:\n\u001b[1;32m   1743\u001b[0m     \u001b[38;5;66;03m# error: \"ParserBase\" has no attribute \"read\"\u001b[39;00m\n\u001b[1;32m   1744\u001b[0m     (\n\u001b[1;32m   1745\u001b[0m         index,\n\u001b[1;32m   1746\u001b[0m         columns,\n\u001b[1;32m   1747\u001b[0m         col_dict,\n\u001b[0;32m-> 1748\u001b[0m     ) \u001b[38;5;241m=\u001b[39m \u001b[38;5;28;43mself\u001b[39;49m\u001b[38;5;241;43m.\u001b[39;49m\u001b[43m_engine\u001b[49m\u001b[38;5;241;43m.\u001b[39;49m\u001b[43mread\u001b[49m\u001b[43m(\u001b[49m\u001b[43m  \u001b[49m\u001b[38;5;66;43;03m# type: ignore[attr-defined]\u001b[39;49;00m\n\u001b[1;32m   1749\u001b[0m \u001b[43m        \u001b[49m\u001b[43mnrows\u001b[49m\n\u001b[1;32m   1750\u001b[0m \u001b[43m    \u001b[49m\u001b[43m)\u001b[49m\n\u001b[1;32m   1751\u001b[0m \u001b[38;5;28;01mexcept\u001b[39;00m \u001b[38;5;167;01mException\u001b[39;00m:\n\u001b[1;32m   1752\u001b[0m     \u001b[38;5;28mself\u001b[39m\u001b[38;5;241m.\u001b[39mclose()\n",
      "File \u001b[0;32m~/miniconda3/envs/mce/lib/python3.11/site-packages/pandas/io/parsers/c_parser_wrapper.py:234\u001b[0m, in \u001b[0;36mCParserWrapper.read\u001b[0;34m(self, nrows)\u001b[0m\n\u001b[1;32m    232\u001b[0m \u001b[38;5;28;01mtry\u001b[39;00m:\n\u001b[1;32m    233\u001b[0m     \u001b[38;5;28;01mif\u001b[39;00m \u001b[38;5;28mself\u001b[39m\u001b[38;5;241m.\u001b[39mlow_memory:\n\u001b[0;32m--> 234\u001b[0m         chunks \u001b[38;5;241m=\u001b[39m \u001b[38;5;28;43mself\u001b[39;49m\u001b[38;5;241;43m.\u001b[39;49m\u001b[43m_reader\u001b[49m\u001b[38;5;241;43m.\u001b[39;49m\u001b[43mread_low_memory\u001b[49m\u001b[43m(\u001b[49m\u001b[43mnrows\u001b[49m\u001b[43m)\u001b[49m\n\u001b[1;32m    235\u001b[0m         \u001b[38;5;66;03m# destructive to chunks\u001b[39;00m\n\u001b[1;32m    236\u001b[0m         data \u001b[38;5;241m=\u001b[39m _concatenate_chunks(chunks)\n",
      "File \u001b[0;32mparsers.pyx:843\u001b[0m, in \u001b[0;36mpandas._libs.parsers.TextReader.read_low_memory\u001b[0;34m()\u001b[0m\n",
      "File \u001b[0;32mparsers.pyx:904\u001b[0m, in \u001b[0;36mpandas._libs.parsers.TextReader._read_rows\u001b[0;34m()\u001b[0m\n",
      "File \u001b[0;32mparsers.pyx:879\u001b[0m, in \u001b[0;36mpandas._libs.parsers.TextReader._tokenize_rows\u001b[0;34m()\u001b[0m\n",
      "File \u001b[0;32mparsers.pyx:890\u001b[0m, in \u001b[0;36mpandas._libs.parsers.TextReader._check_tokenize_status\u001b[0;34m()\u001b[0m\n",
      "File \u001b[0;32mparsers.pyx:2058\u001b[0m, in \u001b[0;36mpandas._libs.parsers.raise_parser_error\u001b[0;34m()\u001b[0m\n",
      "\u001b[0;31mParserError\u001b[0m: Error tokenizing data. C error: Expected 74 fields in line 3, saw 76\n"
     ]
    }
   ],
   "source": [
    "pk_df = pd.read_table(pKpath, sep=\" \", header=0,)"
   ]
  },
  {
   "cell_type": "code",
   "execution_count": null,
   "metadata": {},
   "outputs": [],
   "source": [
    "pk_df"
   ]
  },
  {
   "cell_type": "code",
   "execution_count": 10,
   "metadata": {},
   "outputs": [
    {
     "data": {
      "text/plain": [
       "\u001b[0;31mSignature:\u001b[0m\n",
       "\u001b[0mpd\u001b[0m\u001b[0;34m.\u001b[0m\u001b[0mread_table\u001b[0m\u001b[0;34m(\u001b[0m\u001b[0;34m\u001b[0m\n",
       "\u001b[0;34m\u001b[0m    \u001b[0mfilepath_or_buffer\u001b[0m\u001b[0;34m:\u001b[0m \u001b[0;34m'FilePath | ReadCsvBuffer[bytes] | ReadCsvBuffer[str]'\u001b[0m\u001b[0;34m,\u001b[0m\u001b[0;34m\u001b[0m\n",
       "\u001b[0;34m\u001b[0m    \u001b[0;34m*\u001b[0m\u001b[0;34m,\u001b[0m\u001b[0;34m\u001b[0m\n",
       "\u001b[0;34m\u001b[0m    \u001b[0msep\u001b[0m\u001b[0;34m:\u001b[0m \u001b[0;34m'str | None | lib.NoDefault'\u001b[0m \u001b[0;34m=\u001b[0m \u001b[0;34m<\u001b[0m\u001b[0mno_default\u001b[0m\u001b[0;34m>\u001b[0m\u001b[0;34m,\u001b[0m\u001b[0;34m\u001b[0m\n",
       "\u001b[0;34m\u001b[0m    \u001b[0mdelimiter\u001b[0m\u001b[0;34m:\u001b[0m \u001b[0;34m'str | None | lib.NoDefault'\u001b[0m \u001b[0;34m=\u001b[0m \u001b[0;32mNone\u001b[0m\u001b[0;34m,\u001b[0m\u001b[0;34m\u001b[0m\n",
       "\u001b[0;34m\u001b[0m    \u001b[0mheader\u001b[0m\u001b[0;34m:\u001b[0m \u001b[0;34m\"int | Sequence[int] | None | Literal['infer']\"\u001b[0m \u001b[0;34m=\u001b[0m \u001b[0;34m'infer'\u001b[0m\u001b[0;34m,\u001b[0m\u001b[0;34m\u001b[0m\n",
       "\u001b[0;34m\u001b[0m    \u001b[0mnames\u001b[0m\u001b[0;34m:\u001b[0m \u001b[0;34m'Sequence[Hashable] | None | lib.NoDefault'\u001b[0m \u001b[0;34m=\u001b[0m \u001b[0;34m<\u001b[0m\u001b[0mno_default\u001b[0m\u001b[0;34m>\u001b[0m\u001b[0;34m,\u001b[0m\u001b[0;34m\u001b[0m\n",
       "\u001b[0;34m\u001b[0m    \u001b[0mindex_col\u001b[0m\u001b[0;34m:\u001b[0m \u001b[0;34m'IndexLabel | Literal[False] | None'\u001b[0m \u001b[0;34m=\u001b[0m \u001b[0;32mNone\u001b[0m\u001b[0;34m,\u001b[0m\u001b[0;34m\u001b[0m\n",
       "\u001b[0;34m\u001b[0m    \u001b[0musecols\u001b[0m\u001b[0;34m:\u001b[0m \u001b[0;34m'list[HashableT] | Callable[[Hashable], bool] | None'\u001b[0m \u001b[0;34m=\u001b[0m \u001b[0;32mNone\u001b[0m\u001b[0;34m,\u001b[0m\u001b[0;34m\u001b[0m\n",
       "\u001b[0;34m\u001b[0m    \u001b[0mdtype\u001b[0m\u001b[0;34m:\u001b[0m \u001b[0;34m'DtypeArg | None'\u001b[0m \u001b[0;34m=\u001b[0m \u001b[0;32mNone\u001b[0m\u001b[0;34m,\u001b[0m\u001b[0;34m\u001b[0m\n",
       "\u001b[0;34m\u001b[0m    \u001b[0mengine\u001b[0m\u001b[0;34m:\u001b[0m \u001b[0;34m'CSVEngine | None'\u001b[0m \u001b[0;34m=\u001b[0m \u001b[0;32mNone\u001b[0m\u001b[0;34m,\u001b[0m\u001b[0;34m\u001b[0m\n",
       "\u001b[0;34m\u001b[0m    \u001b[0mconverters\u001b[0m\u001b[0;34m:\u001b[0m \u001b[0;34m'Mapping[Hashable, Callable] | None'\u001b[0m \u001b[0;34m=\u001b[0m \u001b[0;32mNone\u001b[0m\u001b[0;34m,\u001b[0m\u001b[0;34m\u001b[0m\n",
       "\u001b[0;34m\u001b[0m    \u001b[0mtrue_values\u001b[0m\u001b[0;34m:\u001b[0m \u001b[0;34m'list | None'\u001b[0m \u001b[0;34m=\u001b[0m \u001b[0;32mNone\u001b[0m\u001b[0;34m,\u001b[0m\u001b[0;34m\u001b[0m\n",
       "\u001b[0;34m\u001b[0m    \u001b[0mfalse_values\u001b[0m\u001b[0;34m:\u001b[0m \u001b[0;34m'list | None'\u001b[0m \u001b[0;34m=\u001b[0m \u001b[0;32mNone\u001b[0m\u001b[0;34m,\u001b[0m\u001b[0;34m\u001b[0m\n",
       "\u001b[0;34m\u001b[0m    \u001b[0mskipinitialspace\u001b[0m\u001b[0;34m:\u001b[0m \u001b[0;34m'bool'\u001b[0m \u001b[0;34m=\u001b[0m \u001b[0;32mFalse\u001b[0m\u001b[0;34m,\u001b[0m\u001b[0;34m\u001b[0m\n",
       "\u001b[0;34m\u001b[0m    \u001b[0mskiprows\u001b[0m\u001b[0;34m:\u001b[0m \u001b[0;34m'list[int] | int | Callable[[Hashable], bool] | None'\u001b[0m \u001b[0;34m=\u001b[0m \u001b[0;32mNone\u001b[0m\u001b[0;34m,\u001b[0m\u001b[0;34m\u001b[0m\n",
       "\u001b[0;34m\u001b[0m    \u001b[0mskipfooter\u001b[0m\u001b[0;34m:\u001b[0m \u001b[0;34m'int'\u001b[0m \u001b[0;34m=\u001b[0m \u001b[0;36m0\u001b[0m\u001b[0;34m,\u001b[0m\u001b[0;34m\u001b[0m\n",
       "\u001b[0;34m\u001b[0m    \u001b[0mnrows\u001b[0m\u001b[0;34m:\u001b[0m \u001b[0;34m'int | None'\u001b[0m \u001b[0;34m=\u001b[0m \u001b[0;32mNone\u001b[0m\u001b[0;34m,\u001b[0m\u001b[0;34m\u001b[0m\n",
       "\u001b[0;34m\u001b[0m    \u001b[0mna_values\u001b[0m\u001b[0;34m:\u001b[0m \u001b[0;34m'Sequence[str] | Mapping[str, Sequence[str]] | None'\u001b[0m \u001b[0;34m=\u001b[0m \u001b[0;32mNone\u001b[0m\u001b[0;34m,\u001b[0m\u001b[0;34m\u001b[0m\n",
       "\u001b[0;34m\u001b[0m    \u001b[0mkeep_default_na\u001b[0m\u001b[0;34m:\u001b[0m \u001b[0;34m'bool'\u001b[0m \u001b[0;34m=\u001b[0m \u001b[0;32mTrue\u001b[0m\u001b[0;34m,\u001b[0m\u001b[0;34m\u001b[0m\n",
       "\u001b[0;34m\u001b[0m    \u001b[0mna_filter\u001b[0m\u001b[0;34m:\u001b[0m \u001b[0;34m'bool'\u001b[0m \u001b[0;34m=\u001b[0m \u001b[0;32mTrue\u001b[0m\u001b[0;34m,\u001b[0m\u001b[0;34m\u001b[0m\n",
       "\u001b[0;34m\u001b[0m    \u001b[0mverbose\u001b[0m\u001b[0;34m:\u001b[0m \u001b[0;34m'bool'\u001b[0m \u001b[0;34m=\u001b[0m \u001b[0;32mFalse\u001b[0m\u001b[0;34m,\u001b[0m\u001b[0;34m\u001b[0m\n",
       "\u001b[0;34m\u001b[0m    \u001b[0mskip_blank_lines\u001b[0m\u001b[0;34m:\u001b[0m \u001b[0;34m'bool'\u001b[0m \u001b[0;34m=\u001b[0m \u001b[0;32mTrue\u001b[0m\u001b[0;34m,\u001b[0m\u001b[0;34m\u001b[0m\n",
       "\u001b[0;34m\u001b[0m    \u001b[0mparse_dates\u001b[0m\u001b[0;34m:\u001b[0m \u001b[0;34m'bool | Sequence[Hashable]'\u001b[0m \u001b[0;34m=\u001b[0m \u001b[0;32mFalse\u001b[0m\u001b[0;34m,\u001b[0m\u001b[0;34m\u001b[0m\n",
       "\u001b[0;34m\u001b[0m    \u001b[0minfer_datetime_format\u001b[0m\u001b[0;34m:\u001b[0m \u001b[0;34m'bool | lib.NoDefault'\u001b[0m \u001b[0;34m=\u001b[0m \u001b[0;34m<\u001b[0m\u001b[0mno_default\u001b[0m\u001b[0;34m>\u001b[0m\u001b[0;34m,\u001b[0m\u001b[0;34m\u001b[0m\n",
       "\u001b[0;34m\u001b[0m    \u001b[0mkeep_date_col\u001b[0m\u001b[0;34m:\u001b[0m \u001b[0;34m'bool'\u001b[0m \u001b[0;34m=\u001b[0m \u001b[0;32mFalse\u001b[0m\u001b[0;34m,\u001b[0m\u001b[0;34m\u001b[0m\n",
       "\u001b[0;34m\u001b[0m    \u001b[0mdate_parser\u001b[0m\u001b[0;34m:\u001b[0m \u001b[0;34m'Callable | lib.NoDefault'\u001b[0m \u001b[0;34m=\u001b[0m \u001b[0;34m<\u001b[0m\u001b[0mno_default\u001b[0m\u001b[0;34m>\u001b[0m\u001b[0;34m,\u001b[0m\u001b[0;34m\u001b[0m\n",
       "\u001b[0;34m\u001b[0m    \u001b[0mdate_format\u001b[0m\u001b[0;34m:\u001b[0m \u001b[0;34m'str | None'\u001b[0m \u001b[0;34m=\u001b[0m \u001b[0;32mNone\u001b[0m\u001b[0;34m,\u001b[0m\u001b[0;34m\u001b[0m\n",
       "\u001b[0;34m\u001b[0m    \u001b[0mdayfirst\u001b[0m\u001b[0;34m:\u001b[0m \u001b[0;34m'bool'\u001b[0m \u001b[0;34m=\u001b[0m \u001b[0;32mFalse\u001b[0m\u001b[0;34m,\u001b[0m\u001b[0;34m\u001b[0m\n",
       "\u001b[0;34m\u001b[0m    \u001b[0mcache_dates\u001b[0m\u001b[0;34m:\u001b[0m \u001b[0;34m'bool'\u001b[0m \u001b[0;34m=\u001b[0m \u001b[0;32mTrue\u001b[0m\u001b[0;34m,\u001b[0m\u001b[0;34m\u001b[0m\n",
       "\u001b[0;34m\u001b[0m    \u001b[0miterator\u001b[0m\u001b[0;34m:\u001b[0m \u001b[0;34m'bool'\u001b[0m \u001b[0;34m=\u001b[0m \u001b[0;32mFalse\u001b[0m\u001b[0;34m,\u001b[0m\u001b[0;34m\u001b[0m\n",
       "\u001b[0;34m\u001b[0m    \u001b[0mchunksize\u001b[0m\u001b[0;34m:\u001b[0m \u001b[0;34m'int | None'\u001b[0m \u001b[0;34m=\u001b[0m \u001b[0;32mNone\u001b[0m\u001b[0;34m,\u001b[0m\u001b[0;34m\u001b[0m\n",
       "\u001b[0;34m\u001b[0m    \u001b[0mcompression\u001b[0m\u001b[0;34m:\u001b[0m \u001b[0;34m'CompressionOptions'\u001b[0m \u001b[0;34m=\u001b[0m \u001b[0;34m'infer'\u001b[0m\u001b[0;34m,\u001b[0m\u001b[0;34m\u001b[0m\n",
       "\u001b[0;34m\u001b[0m    \u001b[0mthousands\u001b[0m\u001b[0;34m:\u001b[0m \u001b[0;34m'str | None'\u001b[0m \u001b[0;34m=\u001b[0m \u001b[0;32mNone\u001b[0m\u001b[0;34m,\u001b[0m\u001b[0;34m\u001b[0m\n",
       "\u001b[0;34m\u001b[0m    \u001b[0mdecimal\u001b[0m\u001b[0;34m:\u001b[0m \u001b[0;34m'str'\u001b[0m \u001b[0;34m=\u001b[0m \u001b[0;34m'.'\u001b[0m\u001b[0;34m,\u001b[0m\u001b[0;34m\u001b[0m\n",
       "\u001b[0;34m\u001b[0m    \u001b[0mlineterminator\u001b[0m\u001b[0;34m:\u001b[0m \u001b[0;34m'str | None'\u001b[0m \u001b[0;34m=\u001b[0m \u001b[0;32mNone\u001b[0m\u001b[0;34m,\u001b[0m\u001b[0;34m\u001b[0m\n",
       "\u001b[0;34m\u001b[0m    \u001b[0mquotechar\u001b[0m\u001b[0;34m:\u001b[0m \u001b[0;34m'str'\u001b[0m \u001b[0;34m=\u001b[0m \u001b[0;34m'\"'\u001b[0m\u001b[0;34m,\u001b[0m\u001b[0;34m\u001b[0m\n",
       "\u001b[0;34m\u001b[0m    \u001b[0mquoting\u001b[0m\u001b[0;34m:\u001b[0m \u001b[0;34m'int'\u001b[0m \u001b[0;34m=\u001b[0m \u001b[0;36m0\u001b[0m\u001b[0;34m,\u001b[0m\u001b[0;34m\u001b[0m\n",
       "\u001b[0;34m\u001b[0m    \u001b[0mdoublequote\u001b[0m\u001b[0;34m:\u001b[0m \u001b[0;34m'bool'\u001b[0m \u001b[0;34m=\u001b[0m \u001b[0;32mTrue\u001b[0m\u001b[0;34m,\u001b[0m\u001b[0;34m\u001b[0m\n",
       "\u001b[0;34m\u001b[0m    \u001b[0mescapechar\u001b[0m\u001b[0;34m:\u001b[0m \u001b[0;34m'str | None'\u001b[0m \u001b[0;34m=\u001b[0m \u001b[0;32mNone\u001b[0m\u001b[0;34m,\u001b[0m\u001b[0;34m\u001b[0m\n",
       "\u001b[0;34m\u001b[0m    \u001b[0mcomment\u001b[0m\u001b[0;34m:\u001b[0m \u001b[0;34m'str | None'\u001b[0m \u001b[0;34m=\u001b[0m \u001b[0;32mNone\u001b[0m\u001b[0;34m,\u001b[0m\u001b[0;34m\u001b[0m\n",
       "\u001b[0;34m\u001b[0m    \u001b[0mencoding\u001b[0m\u001b[0;34m:\u001b[0m \u001b[0;34m'str | None'\u001b[0m \u001b[0;34m=\u001b[0m \u001b[0;32mNone\u001b[0m\u001b[0;34m,\u001b[0m\u001b[0;34m\u001b[0m\n",
       "\u001b[0;34m\u001b[0m    \u001b[0mencoding_errors\u001b[0m\u001b[0;34m:\u001b[0m \u001b[0;34m'str | None'\u001b[0m \u001b[0;34m=\u001b[0m \u001b[0;34m'strict'\u001b[0m\u001b[0;34m,\u001b[0m\u001b[0;34m\u001b[0m\n",
       "\u001b[0;34m\u001b[0m    \u001b[0mdialect\u001b[0m\u001b[0;34m:\u001b[0m \u001b[0;34m'str | csv.Dialect | None'\u001b[0m \u001b[0;34m=\u001b[0m \u001b[0;32mNone\u001b[0m\u001b[0;34m,\u001b[0m\u001b[0;34m\u001b[0m\n",
       "\u001b[0;34m\u001b[0m    \u001b[0mon_bad_lines\u001b[0m\u001b[0;34m:\u001b[0m \u001b[0;34m'str'\u001b[0m \u001b[0;34m=\u001b[0m \u001b[0;34m'error'\u001b[0m\u001b[0;34m,\u001b[0m\u001b[0;34m\u001b[0m\n",
       "\u001b[0;34m\u001b[0m    \u001b[0mdelim_whitespace\u001b[0m\u001b[0;34m:\u001b[0m \u001b[0;34m'bool'\u001b[0m \u001b[0;34m=\u001b[0m \u001b[0;32mFalse\u001b[0m\u001b[0;34m,\u001b[0m\u001b[0;34m\u001b[0m\n",
       "\u001b[0;34m\u001b[0m    \u001b[0mlow_memory\u001b[0m\u001b[0;34m:\u001b[0m \u001b[0;34m'bool'\u001b[0m \u001b[0;34m=\u001b[0m \u001b[0;32mTrue\u001b[0m\u001b[0;34m,\u001b[0m\u001b[0;34m\u001b[0m\n",
       "\u001b[0;34m\u001b[0m    \u001b[0mmemory_map\u001b[0m\u001b[0;34m:\u001b[0m \u001b[0;34m'bool'\u001b[0m \u001b[0;34m=\u001b[0m \u001b[0;32mFalse\u001b[0m\u001b[0;34m,\u001b[0m\u001b[0;34m\u001b[0m\n",
       "\u001b[0;34m\u001b[0m    \u001b[0mfloat_precision\u001b[0m\u001b[0;34m:\u001b[0m \u001b[0;34m'str | None'\u001b[0m \u001b[0;34m=\u001b[0m \u001b[0;32mNone\u001b[0m\u001b[0;34m,\u001b[0m\u001b[0;34m\u001b[0m\n",
       "\u001b[0;34m\u001b[0m    \u001b[0mstorage_options\u001b[0m\u001b[0;34m:\u001b[0m \u001b[0;34m'StorageOptions | None'\u001b[0m \u001b[0;34m=\u001b[0m \u001b[0;32mNone\u001b[0m\u001b[0;34m,\u001b[0m\u001b[0;34m\u001b[0m\n",
       "\u001b[0;34m\u001b[0m    \u001b[0mdtype_backend\u001b[0m\u001b[0;34m:\u001b[0m \u001b[0;34m'DtypeBackend | lib.NoDefault'\u001b[0m \u001b[0;34m=\u001b[0m \u001b[0;34m<\u001b[0m\u001b[0mno_default\u001b[0m\u001b[0;34m>\u001b[0m\u001b[0;34m,\u001b[0m\u001b[0;34m\u001b[0m\n",
       "\u001b[0;34m\u001b[0m\u001b[0;34m)\u001b[0m \u001b[0;34m->\u001b[0m \u001b[0;34m'DataFrame | TextFileReader'\u001b[0m\u001b[0;34m\u001b[0m\u001b[0;34m\u001b[0m\u001b[0m\n",
       "\u001b[0;31mDocstring:\u001b[0m\n",
       "Read general delimited file into DataFrame.\n",
       "\n",
       "Also supports optionally iterating or breaking of the file\n",
       "into chunks.\n",
       "\n",
       "Additional help can be found in the online docs for\n",
       "`IO Tools <https://pandas.pydata.org/pandas-docs/stable/user_guide/io.html>`_.\n",
       "\n",
       "Parameters\n",
       "----------\n",
       "filepath_or_buffer : str, path object or file-like object\n",
       "    Any valid string path is acceptable. The string could be a URL. Valid\n",
       "    URL schemes include http, ftp, s3, gs, and file. For file URLs, a host is\n",
       "    expected. A local file could be: file://localhost/path/to/table.csv.\n",
       "\n",
       "    If you want to pass in a path object, pandas accepts any ``os.PathLike``.\n",
       "\n",
       "    By file-like object, we refer to objects with a ``read()`` method, such as\n",
       "    a file handle (e.g. via builtin ``open`` function) or ``StringIO``.\n",
       "sep : str, default '\\\\t' (tab-stop)\n",
       "    Character or regex pattern to treat as the delimiter. If ``sep=None``, the\n",
       "    C engine cannot automatically detect\n",
       "    the separator, but the Python parsing engine can, meaning the latter will\n",
       "    be used and automatically detect the separator from only the first valid\n",
       "    row of the file by Python's builtin sniffer tool, ``csv.Sniffer``.\n",
       "    In addition, separators longer than 1 character and different from\n",
       "    ``'\\s+'`` will be interpreted as regular expressions and will also force\n",
       "    the use of the Python parsing engine. Note that regex delimiters are prone\n",
       "    to ignoring quoted data. Regex example: ``'\\r\\t'``.\n",
       "delimiter : str, optional\n",
       "    Alias for ``sep``.\n",
       "header : int, Sequence of int, 'infer' or None, default 'infer'\n",
       "    Row number(s) containing column labels and marking the start of the\n",
       "    data (zero-indexed). Default behavior is to infer the column names: if no ``names``\n",
       "    are passed the behavior is identical to ``header=0`` and column\n",
       "    names are inferred from the first line of the file, if column\n",
       "    names are passed explicitly to ``names`` then the behavior is identical to\n",
       "    ``header=None``. Explicitly pass ``header=0`` to be able to\n",
       "    replace existing names. The header can be a list of integers that\n",
       "    specify row locations for a :class:`~pandas.MultiIndex` on the columns\n",
       "    e.g. ``[0, 1, 3]``. Intervening rows that are not specified will be\n",
       "    skipped (e.g. 2 in this example is skipped). Note that this\n",
       "    parameter ignores commented lines and empty lines if\n",
       "    ``skip_blank_lines=True``, so ``header=0`` denotes the first line of\n",
       "    data rather than the first line of the file.\n",
       "names : Sequence of Hashable, optional\n",
       "    Sequence of column labels to apply. If the file contains a header row,\n",
       "    then you should explicitly pass ``header=0`` to override the column names.\n",
       "    Duplicates in this list are not allowed.\n",
       "index_col : Hashable, Sequence of Hashable or False, optional\n",
       "  Column(s) to use as row label(s), denoted either by column labels or column\n",
       "  indices.  If a sequence of labels or indices is given, :class:`~pandas.MultiIndex`\n",
       "  will be formed for the row labels.\n",
       "\n",
       "  Note: ``index_col=False`` can be used to force pandas to *not* use the first\n",
       "  column as the index, e.g., when you have a malformed file with delimiters at\n",
       "  the end of each line.\n",
       "usecols : list of Hashable or Callable, optional\n",
       "    Subset of columns to select, denoted either by column labels or column indices.\n",
       "    If list-like, all elements must either\n",
       "    be positional (i.e. integer indices into the document columns) or strings\n",
       "    that correspond to column names provided either by the user in ``names`` or\n",
       "    inferred from the document header row(s). If ``names`` are given, the document\n",
       "    header row(s) are not taken into account. For example, a valid list-like\n",
       "    ``usecols`` parameter would be ``[0, 1, 2]`` or ``['foo', 'bar', 'baz']``.\n",
       "    Element order is ignored, so ``usecols=[0, 1]`` is the same as ``[1, 0]``.\n",
       "    To instantiate a :class:`~pandas.DataFrame` from ``data`` with element order\n",
       "    preserved use ``pd.read_csv(data, usecols=['foo', 'bar'])[['foo', 'bar']]``\n",
       "    for columns in ``['foo', 'bar']`` order or\n",
       "    ``pd.read_csv(data, usecols=['foo', 'bar'])[['bar', 'foo']]``\n",
       "    for ``['bar', 'foo']`` order.\n",
       "\n",
       "    If callable, the callable function will be evaluated against the column\n",
       "    names, returning names where the callable function evaluates to ``True``. An\n",
       "    example of a valid callable argument would be ``lambda x: x.upper() in\n",
       "    ['AAA', 'BBB', 'DDD']``. Using this parameter results in much faster\n",
       "    parsing time and lower memory usage.\n",
       "dtype : dtype or dict of {Hashable : dtype}, optional\n",
       "    Data type(s) to apply to either the whole dataset or individual columns.\n",
       "    E.g., ``{'a': np.float64, 'b': np.int32, 'c': 'Int64'}``\n",
       "    Use ``str`` or ``object`` together with suitable ``na_values`` settings\n",
       "    to preserve and not interpret ``dtype``.\n",
       "    If ``converters`` are specified, they will be applied INSTEAD\n",
       "    of ``dtype`` conversion.\n",
       "\n",
       "    .. versionadded:: 1.5.0\n",
       "\n",
       "        Support for ``defaultdict`` was added. Specify a ``defaultdict`` as input where\n",
       "        the default determines the ``dtype`` of the columns which are not explicitly\n",
       "        listed.\n",
       "engine : {'c', 'python', 'pyarrow'}, optional\n",
       "    Parser engine to use. The C and pyarrow engines are faster, while the python engine\n",
       "    is currently more feature-complete. Multithreading is currently only supported by\n",
       "    the pyarrow engine.\n",
       "\n",
       "    .. versionadded:: 1.4.0\n",
       "\n",
       "        The 'pyarrow' engine was added as an *experimental* engine, and some features\n",
       "        are unsupported, or may not work correctly, with this engine.\n",
       "converters : dict of {Hashable : Callable}, optional\n",
       "    Functions for converting values in specified columns. Keys can either\n",
       "    be column labels or column indices.\n",
       "true_values : list, optional\n",
       "    Values to consider as ``True`` in addition to case-insensitive variants of 'True'.\n",
       "false_values : list, optional\n",
       "    Values to consider as ``False`` in addition to case-insensitive variants of 'False'.\n",
       "skipinitialspace : bool, default False\n",
       "    Skip spaces after delimiter.\n",
       "skiprows : int, list of int or Callable, optional\n",
       "    Line numbers to skip (0-indexed) or number of lines to skip (``int``)\n",
       "    at the start of the file.\n",
       "\n",
       "    If callable, the callable function will be evaluated against the row\n",
       "    indices, returning ``True`` if the row should be skipped and ``False`` otherwise.\n",
       "    An example of a valid callable argument would be ``lambda x: x in [0, 2]``.\n",
       "skipfooter : int, default 0\n",
       "    Number of lines at bottom of file to skip (Unsupported with ``engine='c'``).\n",
       "nrows : int, optional\n",
       "    Number of rows of file to read. Useful for reading pieces of large files.\n",
       "na_values : Hashable, Iterable of Hashable or dict of {Hashable : Iterable}, optional\n",
       "    Additional strings to recognize as ``NA``/``NaN``. If ``dict`` passed, specific\n",
       "    per-column ``NA`` values.  By default the following values are interpreted as\n",
       "    ``NaN``: \" \", \"#N/A\", \"#N/A N/A\", \"#NA\", \"-1.#IND\", \"-1.#QNAN\", \"-NaN\", \"-nan\",\n",
       "    \"1.#IND\", \"1.#QNAN\", \"<NA>\", \"N/A\", \"NA\", \"NULL\", \"NaN\", \"None\",\n",
       "    \"n/a\", \"nan\", \"null \".\n",
       "\n",
       "keep_default_na : bool, default True\n",
       "    Whether or not to include the default ``NaN`` values when parsing the data.\n",
       "    Depending on whether ``na_values`` is passed in, the behavior is as follows:\n",
       "\n",
       "    * If ``keep_default_na`` is ``True``, and ``na_values`` are specified, ``na_values``\n",
       "      is appended to the default ``NaN`` values used for parsing.\n",
       "    * If ``keep_default_na`` is ``True``, and ``na_values`` are not specified, only\n",
       "      the default ``NaN`` values are used for parsing.\n",
       "    * If ``keep_default_na`` is ``False``, and ``na_values`` are specified, only\n",
       "      the ``NaN`` values specified ``na_values`` are used for parsing.\n",
       "    * If ``keep_default_na`` is ``False``, and ``na_values`` are not specified, no\n",
       "      strings will be parsed as ``NaN``.\n",
       "\n",
       "    Note that if ``na_filter`` is passed in as ``False``, the ``keep_default_na`` and\n",
       "    ``na_values`` parameters will be ignored.\n",
       "na_filter : bool, default True\n",
       "    Detect missing value markers (empty strings and the value of ``na_values``). In\n",
       "    data without any ``NA`` values, passing ``na_filter=False`` can improve the\n",
       "    performance of reading a large file.\n",
       "verbose : bool, default False\n",
       "    Indicate number of ``NA`` values placed in non-numeric columns.\n",
       "skip_blank_lines : bool, default True\n",
       "    If ``True``, skip over blank lines rather than interpreting as ``NaN`` values.\n",
       "parse_dates : bool, list of Hashable, list of lists or dict of {Hashable : list}, default False\n",
       "    The behavior is as follows:\n",
       "\n",
       "    * ``bool``. If ``True`` -> try parsing the index.\n",
       "    * ``list`` of ``int`` or names. e.g. If ``[1, 2, 3]`` -> try parsing columns 1, 2, 3\n",
       "      each as a separate date column.\n",
       "    * ``list`` of ``list``. e.g.  If ``[[1, 3]]`` -> combine columns 1 and 3 and parse\n",
       "      as a single date column.\n",
       "    * ``dict``, e.g. ``{'foo' : [1, 3]}`` -> parse columns 1, 3 as date and call\n",
       "      result 'foo'\n",
       "\n",
       "    If a column or index cannot be represented as an array of ``datetime``,\n",
       "    say because of an unparsable value or a mixture of timezones, the column\n",
       "    or index will be returned unaltered as an ``object`` data type. For\n",
       "    non-standard ``datetime`` parsing, use :func:`~pandas.to_datetime` after\n",
       "    :func:`~pandas.read_csv`.\n",
       "\n",
       "    Note: A fast-path exists for iso8601-formatted dates.\n",
       "infer_datetime_format : bool, default False\n",
       "    If ``True`` and ``parse_dates`` is enabled, pandas will attempt to infer the\n",
       "    format of the ``datetime`` strings in the columns, and if it can be inferred,\n",
       "    switch to a faster method of parsing them. In some cases this can increase\n",
       "    the parsing speed by 5-10x.\n",
       "\n",
       "    .. deprecated:: 2.0.0\n",
       "        A strict version of this argument is now the default, passing it has no effect.\n",
       "\n",
       "keep_date_col : bool, default False\n",
       "    If ``True`` and ``parse_dates`` specifies combining multiple columns then\n",
       "    keep the original columns.\n",
       "date_parser : Callable, optional\n",
       "    Function to use for converting a sequence of string columns to an array of\n",
       "    ``datetime`` instances. The default uses ``dateutil.parser.parser`` to do the\n",
       "    conversion. pandas will try to call ``date_parser`` in three different ways,\n",
       "    advancing to the next if an exception occurs: 1) Pass one or more arrays\n",
       "    (as defined by ``parse_dates``) as arguments; 2) concatenate (row-wise) the\n",
       "    string values from the columns defined by ``parse_dates`` into a single array\n",
       "    and pass that; and 3) call ``date_parser`` once for each row using one or\n",
       "    more strings (corresponding to the columns defined by ``parse_dates``) as\n",
       "    arguments.\n",
       "\n",
       "    .. deprecated:: 2.0.0\n",
       "       Use ``date_format`` instead, or read in as ``object`` and then apply\n",
       "       :func:`~pandas.to_datetime` as-needed.\n",
       "date_format : str or dict of column -> format, optional\n",
       "   Format to use for parsing dates when used in conjunction with ``parse_dates``.\n",
       "   For anything more complex, please read in as ``object`` and then apply\n",
       "   :func:`~pandas.to_datetime` as-needed.\n",
       "\n",
       "   .. versionadded:: 2.0.0\n",
       "dayfirst : bool, default False\n",
       "    DD/MM format dates, international and European format.\n",
       "cache_dates : bool, default True\n",
       "    If ``True``, use a cache of unique, converted dates to apply the ``datetime``\n",
       "    conversion. May produce significant speed-up when parsing duplicate\n",
       "    date strings, especially ones with timezone offsets.\n",
       "\n",
       "iterator : bool, default False\n",
       "    Return ``TextFileReader`` object for iteration or getting chunks with\n",
       "    ``get_chunk()``.\n",
       "\n",
       "    .. versionchanged:: 1.2\n",
       "\n",
       "       ``TextFileReader`` is a context manager.\n",
       "chunksize : int, optional\n",
       "    Number of lines to read from the file per chunk. Passing a value will cause the\n",
       "    function to return a ``TextFileReader`` object for iteration.\n",
       "    See the `IO Tools docs\n",
       "    <https://pandas.pydata.org/pandas-docs/stable/io.html#io-chunking>`_\n",
       "    for more information on ``iterator`` and ``chunksize``.\n",
       "\n",
       "    .. versionchanged:: 1.2\n",
       "\n",
       "       ``TextFileReader`` is a context manager.\n",
       "compression : str or dict, default 'infer'\n",
       "    For on-the-fly decompression of on-disk data. If 'infer' and 'filepath_or_buffer' is\n",
       "    path-like, then detect compression from the following extensions: '.gz',\n",
       "    '.bz2', '.zip', '.xz', '.zst', '.tar', '.tar.gz', '.tar.xz' or '.tar.bz2'\n",
       "    (otherwise no compression).\n",
       "    If using 'zip' or 'tar', the ZIP file must contain only one data file to be read in.\n",
       "    Set to ``None`` for no decompression.\n",
       "    Can also be a dict with key ``'method'`` set\n",
       "    to one of {``'zip'``, ``'gzip'``, ``'bz2'``, ``'zstd'``, ``'xz'``, ``'tar'``} and\n",
       "    other key-value pairs are forwarded to\n",
       "    ``zipfile.ZipFile``, ``gzip.GzipFile``,\n",
       "    ``bz2.BZ2File``, ``zstandard.ZstdDecompressor``, ``lzma.LZMAFile`` or\n",
       "    ``tarfile.TarFile``, respectively.\n",
       "    As an example, the following could be passed for Zstandard decompression using a\n",
       "    custom compression dictionary:\n",
       "    ``compression={'method': 'zstd', 'dict_data': my_compression_dict}``.\n",
       "\n",
       "    .. versionadded:: 1.5.0\n",
       "        Added support for `.tar` files.\n",
       "\n",
       "    .. versionchanged:: 1.4.0 Zstandard support.\n",
       "\n",
       "thousands : str (length 1), optional\n",
       "    Character acting as the thousands separator in numerical values.\n",
       "decimal : str (length 1), default '.'\n",
       "    Character to recognize as decimal point (e.g., use ',' for European data).\n",
       "lineterminator : str (length 1), optional\n",
       "    Character used to denote a line break. Only valid with C parser.\n",
       "quotechar : str (length 1), optional\n",
       "    Character used to denote the start and end of a quoted item. Quoted\n",
       "    items can include the ``delimiter`` and it will be ignored.\n",
       "quoting : {0 or csv.QUOTE_MINIMAL, 1 or csv.QUOTE_ALL, 2 or csv.QUOTE_NONNUMERIC, 3 or csv.QUOTE_NONE}, default csv.QUOTE_MINIMAL\n",
       "    Control field quoting behavior per ``csv.QUOTE_*`` constants. Default is\n",
       "    ``csv.QUOTE_MINIMAL`` (i.e., 0) which implies that only fields containing special\n",
       "    characters are quoted (e.g., characters defined in ``quotechar``, ``delimiter``,\n",
       "    or ``lineterminator``.\n",
       "doublequote : bool, default True\n",
       "   When ``quotechar`` is specified and ``quoting`` is not ``QUOTE_NONE``, indicate\n",
       "   whether or not to interpret two consecutive ``quotechar`` elements INSIDE a\n",
       "   field as a single ``quotechar`` element.\n",
       "escapechar : str (length 1), optional\n",
       "    Character used to escape other characters.\n",
       "comment : str (length 1), optional\n",
       "    Character indicating that the remainder of line should not be parsed.\n",
       "    If found at the beginning\n",
       "    of a line, the line will be ignored altogether. This parameter must be a\n",
       "    single character. Like empty lines (as long as ``skip_blank_lines=True``),\n",
       "    fully commented lines are ignored by the parameter ``header`` but not by\n",
       "    ``skiprows``. For example, if ``comment='#'``, parsing\n",
       "    ``#empty\\na,b,c\\n1,2,3`` with ``header=0`` will result in ``'a,b,c'`` being\n",
       "    treated as the header.\n",
       "encoding : str, optional, default 'utf-8'\n",
       "    Encoding to use for UTF when reading/writing (ex. ``'utf-8'``). `List of Python\n",
       "    standard encodings\n",
       "    <https://docs.python.org/3/library/codecs.html#standard-encodings>`_ .\n",
       "\n",
       "    .. versionchanged:: 1.2\n",
       "\n",
       "       When ``encoding`` is ``None``, ``errors='replace'`` is passed to\n",
       "       ``open()``. Otherwise, ``errors='strict'`` is passed to ``open()``.\n",
       "       This behavior was previously only the case for ``engine='python'``.\n",
       "\n",
       "    .. versionchanged:: 1.3.0\n",
       "\n",
       "       ``encoding_errors`` is a new argument. ``encoding`` has no longer an\n",
       "       influence on how encoding errors are handled.\n",
       "\n",
       "encoding_errors : str, optional, default 'strict'\n",
       "    How encoding errors are treated. `List of possible values\n",
       "    <https://docs.python.org/3/library/codecs.html#error-handlers>`_ .\n",
       "\n",
       "    .. versionadded:: 1.3.0\n",
       "\n",
       "dialect : str or csv.Dialect, optional\n",
       "    If provided, this parameter will override values (default or not) for the\n",
       "    following parameters: ``delimiter``, ``doublequote``, ``escapechar``,\n",
       "    ``skipinitialspace``, ``quotechar``, and ``quoting``. If it is necessary to\n",
       "    override values, a ``ParserWarning`` will be issued. See ``csv.Dialect``\n",
       "    documentation for more details.\n",
       "on_bad_lines : {'error', 'warn', 'skip'} or Callable, default 'error'\n",
       "    Specifies what to do upon encountering a bad line (a line with too many fields).\n",
       "    Allowed values are :\n",
       "\n",
       "    - ``'error'``, raise an Exception when a bad line is encountered.\n",
       "    - ``'warn'``, raise a warning when a bad line is encountered and skip that line.\n",
       "    - ``'skip'``, skip bad lines without raising or warning when they are encountered.\n",
       "\n",
       "    .. versionadded:: 1.3.0\n",
       "\n",
       "    .. versionadded:: 1.4.0\n",
       "\n",
       "        - Callable, function with signature\n",
       "          ``(bad_line: list[str]) -> list[str] | None`` that will process a single\n",
       "          bad line. ``bad_line`` is a list of strings split by the ``sep``.\n",
       "          If the function returns ``None``, the bad line will be ignored.\n",
       "          If the function returns a new ``list`` of strings with more elements than\n",
       "          expected, a ``ParserWarning`` will be emitted while dropping extra elements.\n",
       "          Only supported when ``engine='python'``\n",
       "\n",
       "delim_whitespace : bool, default False\n",
       "    Specifies whether or not whitespace (e.g. ``' '`` or ``'\\t'``) will be\n",
       "    used as the ``sep`` delimiter. Equivalent to setting ``sep='\\s+'``. If this option\n",
       "    is set to ``True``, nothing should be passed in for the ``delimiter``\n",
       "    parameter.\n",
       "low_memory : bool, default True\n",
       "    Internally process the file in chunks, resulting in lower memory use\n",
       "    while parsing, but possibly mixed type inference.  To ensure no mixed\n",
       "    types either set ``False``, or specify the type with the ``dtype`` parameter.\n",
       "    Note that the entire file is read into a single :class:`~pandas.DataFrame`\n",
       "    regardless, use the ``chunksize`` or ``iterator`` parameter to return the data in\n",
       "    chunks. (Only valid with C parser).\n",
       "memory_map : bool, default False\n",
       "    If a filepath is provided for ``filepath_or_buffer``, map the file object\n",
       "    directly onto memory and access the data directly from there. Using this\n",
       "    option can improve performance because there is no longer any I/O overhead.\n",
       "float_precision : {'high', 'legacy', 'round_trip'}, optional\n",
       "    Specifies which converter the C engine should use for floating-point\n",
       "    values. The options are ``None`` or ``'high'`` for the ordinary converter,\n",
       "    ``'legacy'`` for the original lower precision pandas converter, and\n",
       "    ``'round_trip'`` for the round-trip converter.\n",
       "\n",
       "    .. versionchanged:: 1.2\n",
       "\n",
       "storage_options : dict, optional\n",
       "    Extra options that make sense for a particular storage connection, e.g.\n",
       "    host, port, username, password, etc. For HTTP(S) URLs the key-value pairs\n",
       "    are forwarded to ``urllib.request.Request`` as header options. For other\n",
       "    URLs (e.g. starting with \"s3://\", and \"gcs://\") the key-value pairs are\n",
       "    forwarded to ``fsspec.open``. Please see ``fsspec`` and ``urllib`` for more\n",
       "    details, and for more examples on storage options refer `here\n",
       "    <https://pandas.pydata.org/docs/user_guide/io.html?\n",
       "    highlight=storage_options#reading-writing-remote-files>`_.\n",
       "\n",
       "    .. versionadded:: 1.2\n",
       "\n",
       "dtype_backend : {'numpy_nullable', 'pyarrow'}, default 'numpy_nullable'\n",
       "    Back-end data type applied to the resultant :class:`DataFrame`\n",
       "    (still experimental). Behaviour is as follows:\n",
       "\n",
       "    * ``\"numpy_nullable\"``: returns nullable-dtype-backed :class:`DataFrame`\n",
       "      (default).\n",
       "    * ``\"pyarrow\"``: returns pyarrow-backed nullable :class:`ArrowDtype`\n",
       "      DataFrame.\n",
       "\n",
       "    .. versionadded:: 2.0\n",
       "\n",
       "Returns\n",
       "-------\n",
       "DataFrame or TextFileReader\n",
       "    A comma-separated values (csv) file is returned as two-dimensional\n",
       "    data structure with labeled axes.\n",
       "\n",
       "See Also\n",
       "--------\n",
       "DataFrame.to_csv : Write DataFrame to a comma-separated values (csv) file.\n",
       "read_csv : Read a comma-separated values (csv) file into DataFrame.\n",
       "read_fwf : Read a table of fixed-width formatted lines into DataFrame.\n",
       "\n",
       "Examples\n",
       "--------\n",
       ">>> pd.read_table('data.csv')  # doctest: +SKIP\n",
       "\u001b[0;31mFile:\u001b[0m      ~/miniconda3/envs/mce/lib/python3.11/site-packages/pandas/io/parsers/readers.py\n",
       "\u001b[0;31mType:\u001b[0m      function"
      ]
     },
     "metadata": {},
     "output_type": "display_data"
    }
   ],
   "source": [
    "pd.read_table?"
   ]
  },
  {
   "cell_type": "code",
   "execution_count": null,
   "metadata": {},
   "outputs": [],
   "source": []
  },
  {
   "cell_type": "code",
   "execution_count": 2,
   "metadata": {},
   "outputs": [],
   "source": [
    "import ms_analysis as msa"
   ]
  },
  {
   "cell_type": "code",
   "execution_count": 3,
   "metadata": {},
   "outputs": [
    {
     "data": {
      "text/plain": [
       "['get_sampled_ms', 'load_msout']"
      ]
     },
     "execution_count": 3,
     "metadata": {},
     "output_type": "execute_result"
    }
   ],
   "source": [
    "fdir(msa.MSout)"
   ]
  },
  {
   "cell_type": "markdown",
   "metadata": {},
   "source": [
    "## 0. Define operational paths"
   ]
  },
  {
   "cell_type": "code",
   "execution_count": 5,
   "metadata": {},
   "outputs": [
    {
     "data": {
      "text/plain": [
       "PosixPath('/home/cat/projects/mcce_dev/notebooks')"
      ]
     },
     "execution_count": 5,
     "metadata": {},
     "output_type": "execute_result"
    },
    {
     "data": {
      "text/plain": [
       "(PosixPath('/home/cat/projects/granepura_GunnerLab/mcce_data'), True)"
      ]
     },
     "execution_count": 5,
     "metadata": {},
     "output_type": "execute_result"
    },
    {
     "name": "stdout",
     "output_type": "stream",
     "text": [
      "total 60012\n",
      "-rw-r--r-- 1 cat cat 61450968 Oct 18 12:32 pH7eH0ms.txt\n"
     ]
    }
   ],
   "source": [
    "def reset_mso():\n",
    "    \"\"\"Clear mso from namespace.\n",
    "    'Hanging' problem if msa.MSout instantiation is re-run.\"\"\"\n",
    "    try:\n",
    "        mso in locals()\n",
    "        del mso\n",
    "    except NameError:\n",
    "        return\n",
    "\n",
    "\n",
    "#........................................\n",
    "HERE = Path.cwd()  # do not change\n",
    "HERE\n",
    "\n",
    "test_folder = \"granepura_GunnerLab/mcce_data\" # you can change this to any other mcce folder\n",
    "mcce_dir = HERE.parent.parent.joinpath(test_folder)  # do not change\n",
    "mcce_dir, mcce_dir.exists()\n",
    "\n",
    "msout_dir = mcce_dir.joinpath(\"ms_out\")\n",
    "!ls -l {msout_dir}\n",
    "\n",
    "SAMPLED_PDBS = \"test_pdb_output_mc\"\n",
    "PARSED_PDBS = \"test_parsed_pdb_output_mc\"\n",
    "\n",
    "pdbs_dir = mcce_dir.joinpath(SAMPLED_PDBS)\n",
    "if not pdbs_dir.is_dir():\n",
    "    pdbs_dir.mkdir()\n",
    "\n",
    "#empty_parsed_dir = True\n",
    "parsed_dir = mcce_dir.joinpath(PARSED_PDBS)\n",
    "if not parsed_dir.exists():\n",
    "    parsed_dir.mkdir()\n"
   ]
  },
  {
   "cell_type": "markdown",
   "metadata": {},
   "source": [
    "---\n",
    "# Sampling function"
   ]
  },
  {
   "cell_type": "code",
   "execution_count": 6,
   "metadata": {},
   "outputs": [
    {
     "name": "stdout",
     "output_type": "stream",
     "text": [
      "msout file: /home/cat/projects/granepura_GunnerLab/mcce_data/ms_out/pH7eH0ms.txt; Exists: True\n",
      "Instantiating `msa.MSout` took 1.53 mins or 91.90 seconds\n",
      "Number of distinct microstates: len(mso.microstates) = 3,086,617\n",
      "Total number of microstates: total_ms = 9,000,000\n"
     ]
    }
   ],
   "source": [
    "msout_filepath = mcce_dir.joinpath(\"ms_out\", \"pH7eH0ms.txt\")\n",
    "print(f\"msout file: {msout_filepath}; Exists: {msout_filepath.exists()}\")\n",
    "\n",
    "reset_mso()\n",
    "\n",
    "start = time.time()\n",
    "mso = msa.MSout(msout_filepath)\n",
    "d = time.time() - start\n",
    "\n",
    "total_ms = msa.ms_counts(mso.microstates)\n",
    "print(f\"Instantiating `msa.MSout` took {d/60:.2f} mins or {d:.2f} seconds\")\n",
    "print(f\"Number of distinct microstates: {len(mso.microstates) = :,}\")\n",
    "print(f\"Total number of microstates: {total_ms = :,}\")"
   ]
  },
  {
   "cell_type": "code",
   "execution_count": 7,
   "metadata": {},
   "outputs": [],
   "source": [
    "ms_list0 = list(mso.microstates.values())\n",
    "size = 10"
   ]
  },
  {
   "cell_type": "code",
   "execution_count": 33,
   "metadata": {},
   "outputs": [],
   "source": [
    "ms_list = ms_list0[:200]\n",
    "\n",
    "ms_list = list(mso.microstates.values())\n",
    "size = 10"
   ]
  },
  {
   "cell_type": "code",
   "execution_count": 34,
   "metadata": {},
   "outputs": [
    {
     "data": {
      "text/plain": [
       "9000000"
      ]
     },
     "execution_count": 34,
     "metadata": {},
     "output_type": "execute_result"
    },
    {
     "name": "stdout",
     "output_type": "stream",
     "text": [
      "sampled_cumsum\n",
      " [      1       2       6 ... 8999995 8999998 9000000]\n",
      "sampled_ms_indices = array([     10,  900010, 1800010, 2700010, 3600010, 4500010, 5400010,\n",
      "       6300010, 7200010, 8100010])\n"
     ]
    }
   ],
   "source": [
    "# deterministic\n",
    "\n",
    "# coomon to both kinds:\n",
    "ms_sampled = []\n",
    "\n",
    "counts = msa.ms_counts(ms_list)  # total number of ms\n",
    "counts\n",
    "\n",
    "sampled_cumsum = np.cumsum([mc.count for mc in ms_list])\n",
    "print(\"sampled_cumsum\\n\", sampled_cumsum)\n",
    "\n",
    "# dterm\n",
    "sampled_ms_indices = np.arange(size, counts - size, counts / size, dtype=int)\n",
    "print(f\"{sampled_ms_indices = }\")\n",
    "\n",
    "for i in sampled_ms_indices:\n",
    "    ## np.where(cond) returns indices where cond is True\n",
    "    ms_sel_index = np.where((sampled_cumsum - i) > 0)[0][0]\n",
    "    #print(ms_sel_index)\n",
    "    ms_sampled.append([ms_sel_index, ms_list[ms_sel_index]])\n",
    "\n",
    "#ms_sampled"
   ]
  },
  {
   "cell_type": "code",
   "execution_count": 35,
   "metadata": {},
   "outputs": [
    {
     "data": {
      "text/plain": [
       "9000000"
      ]
     },
     "execution_count": 35,
     "metadata": {},
     "output_type": "execute_result"
    },
    {
     "name": "stdout",
     "output_type": "stream",
     "text": [
      "sampled_cumsum\n",
      " [      1       2       6 ... 8999995 8999998 9000000]\n",
      "sampled_ms_indices = array([  77467, 6548872,  243205, 5586716,  176340, 3690767, 3779363,\n",
      "       4939152, 1310182,  311024])\n"
     ]
    }
   ],
   "source": [
    "# random\n",
    "\n",
    "seed = None\n",
    "ms_sampled = []\n",
    "counts = msa.ms_counts(ms_list)  # total number of ms\n",
    "counts\n",
    "sampled_cumsum = np.cumsum([mc.count for mc in ms_list])\n",
    "print(\"sampled_cumsum\\n\", sampled_cumsum)\n",
    "\n",
    "rng = np.random.default_rng(seed=seed)\n",
    "sampled_ms_indices = rng.integers(low=0,\n",
    "                                  high=counts,  #len(ms_list), #mso.microstates),\n",
    "                                  size=size,\n",
    "                                  endpoint=True)\n",
    "print(f\"{sampled_ms_indices = }\")\n",
    "\n",
    "for i in sampled_ms_indices:\n",
    "    ms_sel_index = np.where((sampled_cumsum - i) > 0)[0][0]\n",
    "    #print(ms_sel_index)\n",
    "    ms_sampled.append([ms_sel_index, ms_list[ms_sel_index]])\n"
   ]
  },
  {
   "cell_type": "code",
   "execution_count": 37,
   "metadata": {},
   "outputs": [
    {
     "data": {
      "text/plain": [
       "3086617"
      ]
     },
     "execution_count": 37,
     "metadata": {},
     "output_type": "execute_result"
    }
   ],
   "source": [
    "len(ms_list)"
   ]
  },
  {
   "cell_type": "code",
   "execution_count": 36,
   "metadata": {},
   "outputs": [
    {
     "data": {
      "text/plain": [
       "array([  77467, 6548872,  243205, 5586716,  176340, 3690767, 3779363,\n",
       "       4939152, 1310182,  311024])"
      ]
     },
     "execution_count": 36,
     "metadata": {},
     "output_type": "execute_result"
    }
   ],
   "source": [
    "sampled_ms_indices"
   ]
  },
  {
   "cell_type": "code",
   "execution_count": 39,
   "metadata": {},
   "outputs": [
    {
     "data": {
      "text/plain": [
       "array([-311023, -311022, -311018, ..., 8688971, 8688974, 8688976])"
      ]
     },
     "execution_count": 39,
     "metadata": {},
     "output_type": "execute_result"
    },
    {
     "data": {
      "text/plain": [
       "107095"
      ]
     },
     "execution_count": 39,
     "metadata": {},
     "output_type": "execute_result"
    }
   ],
   "source": [
    "c = 311024\n",
    "sampled_cumsum - c\n",
    "np.where((sampled_cumsum - c) > 0)[0][0]"
   ]
  },
  {
   "cell_type": "raw",
   "metadata": {
    "jupyter": {
     "source_hidden": true
    }
   },
   "source": [
    " def sample_ms(microstates: dict,\n",
    "        size: int,\n",
    "        kind: str = \"deterministic\",\n",
    "        seed: int = None,\n",
    "    ) -> list:\n",
    "\n",
    "    kind = kind.lower()\n",
    "    if kind not in [\"deterministic\", \"random\"]:\n",
    "        raise ValueError(\n",
    "            f\"Values for `kind` are 'deterministic' or 'random'; Given: {kind}\"\n",
    "        )\n",
    "\n",
    "    ms_list = list(self.microstates.values())\n",
    "\n",
    "    if kind == \"deterministic\":\n",
    "        counts = msa.ms_counts(ms_list)  # total number of ms\n",
    "        sampled_ms_indices = np.arange(\n",
    "            size, counts - size, counts / size, dtype=int\n",
    "        )\n",
    "    else:\n",
    "        rng = np.random.default_rng(seed=seed)\n",
    "        sampled_ms_indices = rng.integers(\n",
    "            low=0, high=len(self.microstates), size=size, endpoint=True\n",
    "        )\n",
    "\n",
    "    sampled_cumsum = np.cumsum([mc.count for mc in ms_list])\n",
    "    ms_sampled = []\n",
    "    for i, c in enumerate(sampled_ms_indices):\n",
    "        ms_sel_index = np.where((sampled_cumsum - c) > 0)[0][0]\n",
    "        ms_sampled.append([ms_sel_index, ms_list[ms_sel_index]])\n",
    "\n",
    "    return ms_sampled"
   ]
  },
  {
   "cell_type": "markdown",
   "metadata": {},
   "source": [
    "---\n",
    "## 1. Get Conformers from head3; Populate MSout instance; Get fixed iconfs"
   ]
  },
  {
   "cell_type": "code",
   "execution_count": null,
   "metadata": {},
   "outputs": [],
   "source": [
    "conformers = msa.read_conformers(mcce_dir.joinpath(\"head3.lst\"))\n",
    "print(f\"{len(conformers) = :,}\")"
   ]
  },
  {
   "cell_type": "code",
   "execution_count": null,
   "metadata": {},
   "outputs": [
    {
     "name": "stdout",
     "output_type": "stream",
     "text": [
      "msout file: /home/cat/projects/granepura_GunnerLab/mcce_data/ms_out/pH7eH0ms.txt; Exists: True\n",
      "MSout.load_msout :: len(lines) = 3,114,663\n"
     ]
    }
   ],
   "source": [
    "msout_filepath = mcce_dir.joinpath(\"ms_out\", \"pH7eH0ms.txt\")\n",
    "print(f\"msout file: {msout_filepath}; Exists: {msout_filepath.exists()}\")\n",
    "\n",
    "reset_mso()\n",
    "\n",
    "start = time.time()\n",
    "mso = msa.MSout(msout_filepath)\n",
    "d = time.time() - start\n",
    "\n",
    "print(f\"Instantiating `msa.MSout` took {d/60:.2f} mins or {d:.2f} seconds\")\n",
    "print(f\"Number of distinct microstates: {len(mso.microstates) = :,}\")"
   ]
  },
  {
   "cell_type": "code",
   "execution_count": null,
   "metadata": {},
   "outputs": [],
   "source": []
  },
  {
   "cell_type": "code",
   "execution_count": null,
   "metadata": {},
   "outputs": [],
   "source": [
    "ms_counts = msa.ms_counts(mso.microstates)\n",
    "print(f\"Total number of microstates: {ms_counts = :,}\")\n",
    "\n",
    "fixed_iconfs = mso.fixed_iconfs  # For ms_sample_to_pdbs.\n",
    "len(fixed_iconfs)"
   ]
  },
  {
   "cell_type": "markdown",
   "metadata": {},
   "source": [
    "## 2. Get ms sample:"
   ]
  },
  {
   "cell_type": "code",
   "execution_count": 7,
   "metadata": {},
   "outputs": [
    {
     "data": {
      "text/plain": [
       "[[501912, <ms_analysis.Microstate at 0x7f4d64c7ef50>],\n",
       " [542778, <ms_analysis.Microstate at 0x7f4d64201090>]]"
      ]
     },
     "execution_count": 7,
     "metadata": {},
     "output_type": "execute_result"
    }
   ],
   "source": [
    "# for testing: fixed random sampling\n",
    "sampled_ms = mso.get_sampled_ms(size = 2, kind = \"random\", seed=1)\n",
    "sampled_ms"
   ]
  },
  {
   "cell_type": "markdown",
   "metadata": {},
   "source": [
    "## 3. Create pdbs from sampled ms:"
   ]
  },
  {
   "cell_type": "code",
   "execution_count": 8,
   "metadata": {},
   "outputs": [
    {
     "name": "stdout",
     "output_type": "stream",
     "text": [
      "total 0\n",
      "\tconfs_to_pdb - Written: /home/cat/projects/granepura_GunnerLab/mcce_data/test_pdb_output_mc/ms_pdb_501912.pdb\n",
      "\tconfs_to_pdb - Written: /home/cat/projects/granepura_GunnerLab/mcce_data/test_pdb_output_mc/ms_pdb_542778.pdb\n",
      "\tms_sample_to_pdbs - over: 2 Sampled microstates saved to pdbs in:\n",
      "\toutput_folder = PosixPath('/home/cat/projects/granepura_GunnerLab/mcce_data/test_pdb_output_mc')\n",
      "total 2256\n",
      "-rw-r--r-- 1 cat cat 1151276 Dec  7 18:45 ms_pdb_501912.pdb\n",
      "-rw-r--r-- 1 cat cat 1151730 Dec  7 18:45 ms_pdb_542778.pdb\n"
     ]
    }
   ],
   "source": [
    "pipecli.clear_folder(pdbs_dir)\n",
    "!ls -l {pdbs_dir}\n",
    "\n",
    "pipecli.ms_sample_to_pdbs(sampled_ms, conformers, fixed_iconfs, mcce_dir, pdbs_dir)\n",
    "!ls -l {pdbs_dir}"
   ]
  },
  {
   "cell_type": "markdown",
   "metadata": {},
   "source": [
    "## 4. Convert mcce pdbs to gromacs: (\"2_steps\" converiosn as per Mohamed's code)"
   ]
  },
  {
   "cell_type": "code",
   "execution_count": 9,
   "metadata": {},
   "outputs": [
    {
     "name": "stdout",
     "output_type": "stream",
     "text": [
      "total 0\n",
      "Conversion over\n",
      "\tConverted in /home/cat/projects/granepura_GunnerLab/mcce_data/test_parsed_pdb_output_mc: pdb_out = 'ms_pdb_542778_gromacs.pdb'\n",
      "Conversion over\n",
      "\tConverted in /home/cat/projects/granepura_GunnerLab/mcce_data/test_parsed_pdb_output_mc: pdb_out = 'ms_pdb_501912_gromacs.pdb'\n",
      "total 2400\n",
      "-rw-r--r-- 1 cat cat 1226372 Dec  7 18:47 ms_pdb_501912_gromacs.pdb\n",
      "-rw-r--r-- 1 cat cat 1226862 Dec  7 18:47 ms_pdb_542778_gromacs.pdb\n"
     ]
    }
   ],
   "source": [
    "pipecli.clear_folder(parsed_dir)\n",
    "!ls -l {parsed_dir}\n",
    "\n",
    "list_cofactors = [\"CLA\",\"CLB\",\"BCR\",\"SQD\",\"HOH\",\"MEM\"]\n",
    "\n",
    "pipecli.pdbs_to_gmx(pdbs_dir, parsed_dir, cofactors_list = list_cofactors)\n",
    "\n",
    "!ls -l {parsed_dir}"
   ]
  },
  {
   "cell_type": "markdown",
   "metadata": {},
   "source": [
    "## 5. Get site energies"
   ]
  },
  {
   "cell_type": "code",
   "execution_count": 27,
   "metadata": {},
   "outputs": [
    {
     "name": "stdout",
     "output_type": "stream",
     "text": [
      "microstates_sites_energies - /home/cat/projects/granepura_GunnerLab/mcce_data/test_parsed_pdb_output_mc/ms_pdb_501912_gromacs.pdb\n",
      "---------------\n",
      "Calculating CDC\n",
      "---------------\n",
      "A_CLA_501\n",
      "A_CLA_502\n",
      "A_CLA_503\n",
      "A_CLA_504\n",
      "A_CLA_505\n",
      "A_CLA_506\n",
      "A_CLA_507\n",
      "A_CLA_508\n",
      "A_CLA_509\n",
      "A_CLA_510\n",
      "A_CLA_511\n",
      "A_CLA_512\n",
      "A_CLA_513\n",
      "A_CLA_516\n",
      "A_CLA_517\n",
      "A_CLA_518\n",
      "A_CLA_519\n",
      "microstates_sites_energies - /home/cat/projects/granepura_GunnerLab/mcce_data/test_parsed_pdb_output_mc/ms_pdb_542778_gromacs.pdb\n",
      "---------------\n",
      "Calculating CDC\n",
      "---------------\n",
      "A_CLA_501\n",
      "A_CLA_502\n",
      "A_CLA_503\n",
      "A_CLA_504\n",
      "A_CLA_505\n",
      "A_CLA_506\n",
      "A_CLA_507\n",
      "A_CLA_508\n",
      "A_CLA_509\n",
      "A_CLA_510\n",
      "A_CLA_511\n",
      "A_CLA_512\n",
      "A_CLA_513\n",
      "A_CLA_516\n",
      "A_CLA_517\n",
      "A_CLA_518\n",
      "A_CLA_519\n"
     ]
    }
   ],
   "source": [
    "pipecli.microstates_sites_energies(parsed_dir, cofactors_list = list_cofactors)"
   ]
  },
  {
   "cell_type": "code",
   "execution_count": 37,
   "metadata": {},
   "outputs": [],
   "source": [
    "import pandas as pd"
   ]
  },
  {
   "cell_type": "code",
   "execution_count": 38,
   "metadata": {},
   "outputs": [
    {
     "data": {
      "text/plain": [
       "True"
      ]
     },
     "execution_count": 38,
     "metadata": {},
     "output_type": "execute_result"
    },
    {
     "data": {
      "text/plain": [
       "dict"
      ]
     },
     "execution_count": 38,
     "metadata": {},
     "output_type": "execute_result"
    },
    {
     "data": {
      "text/html": [
       "<div>\n",
       "<style scoped>\n",
       "    .dataframe tbody tr th:only-of-type {\n",
       "        vertical-align: middle;\n",
       "    }\n",
       "\n",
       "    .dataframe tbody tr th {\n",
       "        vertical-align: top;\n",
       "    }\n",
       "\n",
       "    .dataframe thead th {\n",
       "        text-align: right;\n",
       "    }\n",
       "</style>\n",
       "<table border=\"1\" class=\"dataframe\">\n",
       "  <thead>\n",
       "    <tr style=\"text-align: right;\">\n",
       "      <th></th>\n",
       "      <th>ms_pdb_501912_gromacs</th>\n",
       "      <th>ms_pdb_542778_gromacs</th>\n",
       "    </tr>\n",
       "  </thead>\n",
       "  <tbody>\n",
       "    <tr>\n",
       "      <th>A_CLA_501</th>\n",
       "      <td>-34.255781</td>\n",
       "      <td>-9.066049</td>\n",
       "    </tr>\n",
       "    <tr>\n",
       "      <th>A_CLA_502</th>\n",
       "      <td>73.454437</td>\n",
       "      <td>-20.582911</td>\n",
       "    </tr>\n",
       "    <tr>\n",
       "      <th>A_CLA_503</th>\n",
       "      <td>-99.944717</td>\n",
       "      <td>-11.084971</td>\n",
       "    </tr>\n",
       "    <tr>\n",
       "      <th>A_CLA_504</th>\n",
       "      <td>80.420517</td>\n",
       "      <td>25.174581</td>\n",
       "    </tr>\n",
       "    <tr>\n",
       "      <th>A_CLA_505</th>\n",
       "      <td>3.282196</td>\n",
       "      <td>10.667744</td>\n",
       "    </tr>\n",
       "    <tr>\n",
       "      <th>A_CLA_506</th>\n",
       "      <td>33.533278</td>\n",
       "      <td>20.732816</td>\n",
       "    </tr>\n",
       "    <tr>\n",
       "      <th>A_CLA_507</th>\n",
       "      <td>62.651816</td>\n",
       "      <td>56.194998</td>\n",
       "    </tr>\n",
       "    <tr>\n",
       "      <th>A_CLA_508</th>\n",
       "      <td>-70.468563</td>\n",
       "      <td>-105.793116</td>\n",
       "    </tr>\n",
       "    <tr>\n",
       "      <th>A_CLA_509</th>\n",
       "      <td>-32.045614</td>\n",
       "      <td>131.215247</td>\n",
       "    </tr>\n",
       "    <tr>\n",
       "      <th>A_CLA_510</th>\n",
       "      <td>-86.818068</td>\n",
       "      <td>-101.452404</td>\n",
       "    </tr>\n",
       "    <tr>\n",
       "      <th>A_CLA_511</th>\n",
       "      <td>-57.820950</td>\n",
       "      <td>-46.573975</td>\n",
       "    </tr>\n",
       "    <tr>\n",
       "      <th>A_CLA_512</th>\n",
       "      <td>-17.454283</td>\n",
       "      <td>-46.724521</td>\n",
       "    </tr>\n",
       "    <tr>\n",
       "      <th>A_CLA_513</th>\n",
       "      <td>118.319551</td>\n",
       "      <td>104.015156</td>\n",
       "    </tr>\n",
       "    <tr>\n",
       "      <th>A_CLA_516</th>\n",
       "      <td>68.514640</td>\n",
       "      <td>47.890396</td>\n",
       "    </tr>\n",
       "    <tr>\n",
       "      <th>A_CLA_517</th>\n",
       "      <td>-26.593310</td>\n",
       "      <td>-20.243287</td>\n",
       "    </tr>\n",
       "    <tr>\n",
       "      <th>A_CLA_518</th>\n",
       "      <td>-31.983281</td>\n",
       "      <td>-7.689280</td>\n",
       "    </tr>\n",
       "    <tr>\n",
       "      <th>A_CLA_519</th>\n",
       "      <td>-0.392283</td>\n",
       "      <td>-85.672390</td>\n",
       "    </tr>\n",
       "  </tbody>\n",
       "</table>\n",
       "</div>"
      ],
      "text/plain": [
       "           ms_pdb_501912_gromacs  ms_pdb_542778_gromacs\n",
       "A_CLA_501             -34.255781              -9.066049\n",
       "A_CLA_502              73.454437             -20.582911\n",
       "A_CLA_503             -99.944717             -11.084971\n",
       "A_CLA_504              80.420517              25.174581\n",
       "A_CLA_505               3.282196              10.667744\n",
       "A_CLA_506              33.533278              20.732816\n",
       "A_CLA_507              62.651816              56.194998\n",
       "A_CLA_508             -70.468563            -105.793116\n",
       "A_CLA_509             -32.045614             131.215247\n",
       "A_CLA_510             -86.818068            -101.452404\n",
       "A_CLA_511             -57.820950             -46.573975\n",
       "A_CLA_512             -17.454283             -46.724521\n",
       "A_CLA_513             118.319551             104.015156\n",
       "A_CLA_516              68.514640              47.890396\n",
       "A_CLA_517             -26.593310             -20.243287\n",
       "A_CLA_518             -31.983281              -7.689280\n",
       "A_CLA_519              -0.392283             -85.672390"
      ]
     },
     "execution_count": 38,
     "metadata": {},
     "output_type": "execute_result"
    }
   ],
   "source": [
    "parsed_dir.joinpath(\"dict_site_energies.npy\").exists()\n",
    "\n",
    "site_data = np.load(parsed_dir.joinpath(\"dict_site_energies.npy\"), allow_pickle=True).tolist()\n",
    "\n",
    "sites_df = pd.DataFrame.from_dict(site_data)\n",
    "sites_df"
   ]
  },
  {
   "cell_type": "code",
   "execution_count": 45,
   "metadata": {},
   "outputs": [
    {
     "data": {
      "image/png": "[encoded data removed]",
      "text/plain": [
       "<Figure size 640x480 with 1 Axes>"
      ]
     },
     "metadata": {},
     "output_type": "display_data"
    }
   ],
   "source": [
    "sites_df.plot(kind='bar');"
   ]
  },
  {
   "cell_type": "markdown",
   "metadata": {},
   "source": [
    "## 6. Get matrices:"
   ]
  },
  {
   "cell_type": "code",
   "execution_count": 25,
   "metadata": {},
   "outputs": [
    {
     "name": "stdout",
     "output_type": "stream",
     "text": [
      "\tms_matrix - /home/cat/projects/granepura_GunnerLab/mcce_data/test_parsed_pdb_output_mc/residue_matrix_free.csv already exists.\n",
      "\tms_matrix - /home/cat/projects/granepura_GunnerLab/mcce_data/test_parsed_pdb_output_mc/residue_matrix.csv already exists.\n"
     ]
    }
   ],
   "source": [
    "pipecli.ms_matrix(parsed_dir)"
   ]
  },
  {
   "cell_type": "code",
   "execution_count": 26,
   "metadata": {},
   "outputs": [
    {
     "name": "stdout",
     "output_type": "stream",
     "text": [
      "total 2420\n",
      "drwxr-xr-x 3 cat cat    4096 Dec  7 18:47 CDC_ms_pdb_501912_gromacs\n",
      "drwxr-xr-x 3 cat cat    4096 Dec  7 18:47 CDC_ms_pdb_542778_gromacs\n",
      "-rw-r--r-- 1 cat cat 1226372 Dec  7 18:47 ms_pdb_501912_gromacs.pdb\n",
      "-rw-r--r-- 1 cat cat 1226862 Dec  7 18:47 ms_pdb_542778_gromacs.pdb\n",
      "-rw-r--r-- 1 cat cat    6835 Dec  7 18:50 residue_matrix.csv\n",
      "-rw-r--r-- 1 cat cat     235 Dec  7 18:50 residue_matrix_free.csv\n"
     ]
    }
   ],
   "source": [
    "!ls -l {parsed_dir}"
   ]
  },
  {
   "cell_type": "markdown",
   "metadata": {},
   "source": [
    "## END\n",
    "---"
   ]
  },
  {
   "cell_type": "code",
   "execution_count": 75,
   "metadata": {},
   "outputs": [],
   "source": [
    "import itertools as itt\n",
    "from Bio import PDB\n",
    "from pymembrane.structure.atomic_protein import ProteinAtomic\n",
    "\n",
    "import subprocess\n",
    "\n",
    "def run_subprocess(cmd: str):\n",
    "    #grep -n HID {pdb_path}\n",
    "    #f\"grep -E 'MONTE_T)|MONTE_RUNS|MONTE_NITER' {runprm_path} | sed -e 's/(//g; s/MONTE_//g; s/)//g'\",\n",
    "    try:\n",
    "        data = (subprocess.run(cmd,\n",
    "                               capture_output=True,\n",
    "                               shell=True,\n",
    "                               check=True,\n",
    "                              )\n",
    "                .stdout.decode()\n",
    "                .splitlines()\n",
    "                )\n",
    "\n",
    "    except subprocess.CalledProcessError as E:\n",
    "        #raise EnvironmentError(f\"Could not run {cmd}\\n{E}\")\n",
    "        data = None\n",
    "\n",
    "    return data"
   ]
  },
  {
   "cell_type": "code",
   "execution_count": 72,
   "metadata": {},
   "outputs": [
    {
     "data": {
      "text/plain": [
       "PosixPath('/home/cat/projects/granepura_GunnerLab/mcce_data/test_parsed_pdb_output_mc/ms_pdb_542778_gromacs.pdb')"
      ]
     },
     "execution_count": 72,
     "metadata": {},
     "output_type": "execute_result"
    }
   ],
   "source": [
    "pdb_path = parsed_dir.joinpath(\"ms_pdb_542778_gromacs.pdb\")\n",
    "pdb_path"
   ]
  },
  {
   "cell_type": "code",
   "execution_count": 74,
   "metadata": {},
   "outputs": [
    {
     "data": {
      "text/plain": [
       "PosixPath('/home/cat/projects/granepura_GunnerLab/mcce_data/test_parsed_pdb_output_mc/ms_pdb_542778_gromacs.pdb')"
      ]
     },
     "execution_count": 74,
     "metadata": {},
     "output_type": "execute_result"
    },
    {
     "name": "stdout",
     "output_type": "stream",
     "text": [
      "gmx pdb /home/cat/projects/granepura_GunnerLab/mcce_data/test_parsed_pdb_output_mc/ms_pdb_542778_gromacs.pdb has 12,519 lines.\n",
      "Count of res = 'HID' in gmx pdb: n_res = 0\n",
      "Size from PDB.PDBParser parsed_pdb_size = 12,519; diff: 0; Missing 0 HID; Unaccounted for = 0\n",
      "Is HID in `list_atomic_ids` generated from PDB.PDBParser? False\n"
     ]
    }
   ],
   "source": [
    "# For documenting problems with \"all steps mcce -> gmx conversion\"\n",
    "pdb_path\n",
    "\n",
    "with open(pdb_path) as fh:\n",
    "    lines = fh.readlines()\n",
    "n_lines = len(lines)\n",
    "\n",
    "pdb_obj = PDB.PDBParser(QUIET=True).get_structure(\"Isia\", pdb_path)\n",
    "\n",
    "list_atomic_atoms = [atom for atom in pdb_obj.get_atoms()]\n",
    "parsed_pdb_size = len(list_atomic_atoms)\n",
    "\n",
    "# building of `dict_atomic_ids` in ProteinAtomic.set_atomic_charges(:\n",
    "list_atomic_ids = [f'{atom.get_full_id()[2]}_{atom.get_parent().resname}_{atom.get_parent().id[1]}_{atom.get_id()}'\n",
    "                   for atom in pdb_obj.get_atoms()]\n",
    "dict_atomic_ids = dict(zip(list_atomic_ids, list_atomic_atoms))\n",
    "\n",
    "d = n_lines - parsed_pdb_size\n",
    "\n",
    "# test atoms ids (as per pymembrane) from pdb lines\n",
    "atoms_id_crg = []\n",
    "res = 'HID'\n",
    "n_res = 0\n",
    "\n",
    "for line in lines:\n",
    "    if line[0:6].strip() in ['ATOM', 'HETATM']:\n",
    "        atom_id = f\"{line[21]}_{line[17:20]}_{int(line[22:26].strip())}_{line[12:17].strip()}\"\n",
    "        if res in atom_id:\n",
    "            n_res += 1\n",
    "        charge = line[80:90].strip()\n",
    "        if charge == '' or charge == 'None':\n",
    "            charge = 0.\n",
    "        else:\n",
    "            charge = float(charge)\n",
    "        atoms_id_crg.append((atom_id, charge))\n",
    "\n",
    "assert len(atoms_id_crg) == n_lines\n",
    "\n",
    "cmd = f\"grep -n {res} {pdb_path}\"\n",
    "gmx_res_data = run_subprocess(cmd)\n",
    "\n",
    "print(f\"gmx pdb {pdb_path} has {n_lines:,} lines.\",\n",
    "      f\"Count of {res = } in gmx pdb: {n_res = }\",\n",
    "      f\"Size from PDB.PDBParser {parsed_pdb_size = :,}; diff: {d}; Missing {n_res} {res}; Unaccounted for = {d - n_res}\",\n",
    "      f\"Is {res} in `list_atomic_ids` generated from PDB.PDBParser? {res in list_atomic_ids}\",\n",
    "      sep = \"\\n\")\n",
    "\n",
    "if not gmx_res_data is None:\n",
    "      print(\"\\nThe converted pdb has these {res} entries eliminated by PDB.PDBParser when all the steps in the converter are run:\",\n",
    "            gmx_res_data, sep = \"\\n\")\n"
   ]
  },
  {
   "cell_type": "raw",
   "metadata": {
    "jupyter": {
     "source_hidden": true
    }
   },
   "source": [
    "# Problems with \"alll steps\" conversion:\n",
    "\n",
    "PosixPath('/home/cat/projects/granepura_GunnerLab/mcce_data/test_parsed_pdb_output_mc/ms_pdb_501912_gromacs.pdb')\n",
    "gmx pdb /home/cat/projects/granepura_GunnerLab/mcce_data/test_parsed_pdb_output_mc/ms_pdb_501912_gromacs.pdb has 12,514 lines.\n",
    "Count of res = 'HID' in gmx pdb: n_res = 12\n",
    "Size from PDB.PDBParser parsed_pdb_size = 12,488; diff: 26; Missing 12 HID; Unaccounted for = 14\n",
    "Is HID in `list_atomic_ids` generated from PDB.PDBParser? False\n",
    "\n",
    "The converted pdb has these HID entries eliminated by PDB.PDBParser:\n",
    "\n",
    "(base) cat@LABTOP:~/projects/granepura_GunnerLab/mcce_data/test_parsed_pdb_output_mc$ grep -n HID ms_pdb_501912_gromacs.pdb\n",
    "471:ATOM   2581  CG  HID A0031    -9.24600 5.96800  9.68300                     C   -0.002     02 002\n",
    "2140:ATOM   9084  CG  HID A0144    -20.2720-4.87800  8.23200                     C   -0.002     02 005\n",
    "2157:ATOM   9215  CG  HID A0145    -14.4620-2.29600  6.13700                     C   -0.002     02 004\n",
    "2888:ATOM  11021  HB1 HID A0193     0.78300-16.4610 -18.3510                     H    0.102     +1 007\n",
    "2889:ATOM  11022  HB2 HID A0193    -0.13300-15.0870 -18.9170                     H    0.102     +1 007\n",
    "2891:ATOM  11024  ND1 HID A0193    -2.30100-16.4530 -19.1890                     N    0.002     +1 007\n",
    "3089:ATOM  11494  CG  HID A0207    -13.2590-7.53100 -11.6840                     C   -0.002     02 004\n",
    "4472:ATOM  15438  HB1 HID A0297     7.15500 9.07700 -18.1920                     H    0.102     +1 006\n",
    "4473:ATOM  15439  HB2 HID A0297     6.64300 10.6260 -17.5710                     H    0.102     +1 006\n",
    "4475:ATOM  15441  ND1 HID A0297     9.74100 10.0130 -18.7550                     N    0.002     +1 006\n",
    "4812:ATOM  16281  CG  HID A0318     4.65000-4.58200  6.64000                     C   -0.002     02 006\n",
    "4872:ATOM  16446  CG  HID A0321     3.77700 0.55700  11.7620                     C   -0.002     02 003"
   ]
  },
  {
   "cell_type": "markdown",
   "metadata": {},
   "source": [
    "---"
   ]
  },
  {
   "cell_type": "markdown",
   "metadata": {},
   "source": [
    "### Argparse with sub-commands: a good idea?\n",
    "\n",
    "Probably not, even if logging to file is implemented:\n",
    " - unlikely user will remember to check the log before continuing\n",
    " - no way to know which part of the pipeline was run and with which params"
   ]
  },
  {
   "cell_type": "code",
   "execution_count": 75,
   "metadata": {},
   "outputs": [],
   "source": [
    "import mcce_cdc_pipeline as pipecli"
   ]
  },
  {
   "cell_type": "code",
   "execution_count": 77,
   "metadata": {},
   "outputs": [
    {
     "name": "stdout",
     "output_type": "stream",
     "text": [
      "mcce_cdc_pipeline \n",
      "    Run the 'MCCE_CDC pipeline' in 3 steps:\n",
      "      step 1. ms sampling to pdbs\n",
      "      step 2. mcce to gromacs pdbs conversion (using Mohamed's \"2-step conversion\")\n",
      "      step 3. sites energies and create ms matrices\n",
      "\n",
      "    Output folders:\n",
      "      pdbs_dir = mcce_dir/pdb_output_mc\n",
      "      parsed_dir = mcce_dir/parsed_pdb_output_mc\n",
      "\n",
      "\n",
      "    step 1: ms sampling to pdbs\n",
      "    ------\n",
      "    Minimal number of arguments, 2: mcce dir, sample size\n",
      "\n",
      "    Example:\n",
      "    >mcce_cdc_pipeline.py step1 /path/to/mcce 3\n",
      "\n",
      "    * All other args have their default values:\n",
      "     -msout_file: \"pH7eH0ms.txt\"\n",
      "     -sampling_kind: deterministic\n",
      "     -sort_by: energy\n",
      "     -reverse_sort: False\n",
      "     -seed: None\n",
      "\n",
      "    step 2: mcce to gromacs pdbs conversion\n",
      "    ------\n",
      "    Minimal number of arguments, 1: mcce dir\n",
      "\n",
      "    Example:\n",
      "    >mcce_cdc_pipeline.py step2 /path/to/mcce\n",
      "\n",
      "    * All other args have their default values:\n",
      "     -cofactors_list = [\"CLA\",\"CLB\",\"BCR\",\"SQD\",\"HOH\",\"MEM\"]\n",
      "\n",
      "    step 3: sites energies and create ms matrices\n",
      "    ------\n",
      "    Minimal number of arguments, 1: mcce dir\n",
      "\n",
      "    Example:\n",
      "    >mcce_cdc_pipeline.py step3 /path/to/mcce\n",
      "\n",
      "    * All other args have their default values:\n",
      "     -cofactors_list = [\"CLA\",\"CLB\",\"BCR\",\"SQD\",\"HOH\",\"MEM\"]\n",
      "\n"
     ]
    }
   ],
   "source": [
    "pap = pipecli.pipeline_parser()\n",
    "print(pap.prog,pap.description)\n",
    "print(pap.usage)"
   ]
  },
  {
   "cell_type": "code",
   "execution_count": 2,
   "metadata": {},
   "outputs": [
    {
     "ename": "NameError",
     "evalue": "name 'pipecli' is not defined",
     "output_type": "error",
     "traceback": [
      "\u001b[0;31m---------------------------------------------------------------------------\u001b[0m",
      "\u001b[0;31mNameError\u001b[0m                                 Traceback (most recent call last)",
      "Cell \u001b[0;32mIn[2], line 1\u001b[0m\n\u001b[0;32m----> 1\u001b[0m cli_parser \u001b[38;5;241m=\u001b[39m \u001b[43mpipecli\u001b[49m\u001b[38;5;241m.\u001b[39mpipeline_parser()\n",
      "\u001b[0;31mNameError\u001b[0m: name 'pipecli' is not defined"
     ]
    }
   ],
   "source": [
    "cli_parser = pipecli.pipeline_parser()"
   ]
  },
  {
   "cell_type": "code",
   "execution_count": 1,
   "metadata": {},
   "outputs": [
    {
     "ename": "NameError",
     "evalue": "name 'cli_parser' is not defined",
     "output_type": "error",
     "traceback": [
      "\u001b[0;31m---------------------------------------------------------------------------\u001b[0m",
      "\u001b[0;31mNameError\u001b[0m                                 Traceback (most recent call last)",
      "Cell \u001b[0;32mIn[1], line 1\u001b[0m\n\u001b[0;32m----> 1\u001b[0m args \u001b[38;5;241m=\u001b[39m \u001b[43mcli_parser\u001b[49m\u001b[38;5;241m.\u001b[39mparse_args(argv)\n\u001b[1;32m      2\u001b[0m \u001b[38;5;28;01mif\u001b[39;00m args \u001b[38;5;129;01mis\u001b[39;00m \u001b[38;5;28;01mNone\u001b[39;00m \u001b[38;5;129;01mor\u001b[39;00m argv \u001b[38;5;129;01mis\u001b[39;00m \u001b[38;5;28;01mNone\u001b[39;00m:\n\u001b[1;32m      3\u001b[0m     cli_parser\u001b[38;5;241m.\u001b[39mprint_help()\n",
      "\u001b[0;31mNameError\u001b[0m: name 'cli_parser' is not defined"
     ]
    }
   ],
   "source": [
    "args = cli_parser.parse_args(argv)\n",
    "if args is None or argv is None:\n",
    "    cli_parser.print_help()"
   ]
  },
  {
   "cell_type": "code",
   "execution_count": null,
   "metadata": {},
   "outputs": [
    {
     "name": "stdout",
     "output_type": "stream",
     "text": [
      "Namespace(mcce_dir=PosixPath('/home/cat/projects/granepura_GunnerLab/mcce_data'), sample_size=2, msout_file='pH7eH0ms.txt', sampling_kind='r', sort_by='energy', reverse_sort='False', seed=None, func=<function do_ms_to_pdbs at 0x7efe44e44360>)\n",
      "\tGettings conformers\n",
      "\tInstantiating MSout\n"
     ]
    }
   ],
   "source": [
    "arg1 = f\"step1 --help\".split()\n",
    "arg1 = f\"step1 {mcce_dir} 2 -sampling_kind r\".split()\n",
    "\n",
    "args = cli_parser.parse_args(arg1)\n",
    "args.func(args)"
   ]
  },
  {
   "cell_type": "code",
   "execution_count": null,
   "metadata": {},
   "outputs": [],
   "source": []
  },
  {
   "cell_type": "markdown",
   "metadata": {},
   "source": [
    "---"
   ]
  },
  {
   "cell_type": "code",
   "execution_count": null,
   "metadata": {},
   "outputs": [],
   "source": []
  },
  {
   "cell_type": "raw",
   "metadata": {
    "jupyter": {
     "source_hidden": true
    }
   },
   "source": [
    "import scipy.stats as sps\n",
    "\n",
    "fig, ax = plt.subplots(1, 1)\n",
    "\n",
    "lambda_, N = 1, 19\n",
    "lambda_, N = 1, 19\n",
    "mean, var, skew, kurt = sps.boltzmann.stats(lambda_, N, moments='mvsk')\n",
    "mean, var, skew, kurt\n",
    "\n",
    "x = np.arange(sps.boltzmann.ppf(0.01, lambda_, N),\n",
    "              sps.boltzmann.ppf(0.99, lambda_, N))\n",
    "\n",
    "rv = sps.boltzmann(lambda_, N)\n",
    "ax.plot(x, rv.pmf(x), 'bo', ms=8, label='boltzmann pmf')\n",
    "ax.vlines(x, 0, rv.pmf(x), colors='b', lw=2, alpha=0.5)\n",
    "\n",
    "plt.show();\n",
    "\n",
    "xk = np.arange(7)\n",
    "pk = (0.1, 0.2, 0.3, 0.1, 0.1, 0.0, 0.2)\n",
    "custm = sps.rv_discrete(name='custm', values=(xk, pk))\n",
    "\n",
    "fig, ax = plt.subplots(1, 1)\n",
    "ax.plot(xk, custm.pmf(xk), 'ro', ms=6, mec='r')\n",
    "ax.vlines(xk, 0, custm.pmf(xk), colors='r', lw=2)\n",
    "plt.show();"
   ]
  },
  {
   "cell_type": "markdown",
   "metadata": {},
   "source": [
    "---\n",
    "# TODO? PDB conversions"
   ]
  },
  {
   "cell_type": "markdown",
   "metadata": {
    "jupyter": {
     "source_hidden": true
    }
   },
   "source": [
    "## name.txt\n",
    "> Rename rule file contains rules to format atom names and residue names.\n",
    " The purpose is to unify residue names to 3-char mcce names\n",
    " and break some big cofactors into small ones.\n",
    " Each line has two fields separated by at least one space. Each field\n",
    " is 14 characters long, matching the atom, residue name, chainID and\n",
    " sequence number field of a pdb line. The first string will be\n",
    " replaced by the second string.\n",
    " Symbol \"*\" in the first string is a wildcard that matchs any character.\n",
    " It means \"do not replace\" in the second string.\n",
    " The replace is accumulative in the order of appearing in this file.\n",
    "\n",
    "\n",
    "The first 3 lines:\n",
    "```python\n",
    "0123456789012  01234567890123\n",
    "***** *******  *****_********\n",
    "****** *****   ******_*******\n",
    "******* ***  > *******_****\n",
    "```\n",
    "mean: replace a space in position 5, 6 or 7 by \"_\".\n",
    "\n",
    "**"
   ]
  },
  {
   "cell_type": "code",
   "execution_count": 149,
   "metadata": {},
   "outputs": [
    {
     "data": {
      "text/plain": [
       "PosixPath('/home/cat/projects/mcce_dev/data/4lzt/name.txt')"
      ]
     },
     "execution_count": 149,
     "metadata": {},
     "output_type": "execute_result"
    },
    {
     "data": {
      "text/plain": [
       "PosixPath('data/4lzt/name.txt')"
      ]
     },
     "execution_count": 149,
     "metadata": {},
     "output_type": "execute_result"
    }
   ],
   "source": [
    "nametxt = mcce_dir.joinpath(\"name.txt\")\n",
    "nametxt\n",
    "\n",
    "# use when running subprocesses from this nbk\n",
    "nametxt2 = nametxt.relative_to(Path.cwd().parent)\n",
    "nametxt2"
   ]
  },
  {
   "cell_type": "code",
   "execution_count": 93,
   "metadata": {},
   "outputs": [],
   "source": [
    "import re\n",
    "from collections import defaultdict\n",
    "\n",
    "\n",
    "regex = r'^\\*{5,8}\\s\\*{5,}\\s\\s'\n",
    "split_tag = \"*@@\"\n",
    "\n",
    "mcce_to_pdb_name_dict = defaultdict(list)\n",
    "with open(nametxt) as f:\n",
    "    for i, line in enumerate(f):\n",
    "        if (line.startswith(\"#\")\n",
    "            or line.startswith(\" D\")\n",
    "            or re.match(regex, line)\n",
    "           ):\n",
    "            continue\n",
    "        if len(line) <29:\n",
    "            continue\n",
    "\n",
    "        line = line[:30].replace(\"*  \", split_tag)\n",
    "        from_str, to_str = line.split(split_tag)[:2]\n",
    "        mcce_to_pdb_name_dict[to_str].append(from_str)\n"
   ]
  },
  {
   "cell_type": "raw",
   "metadata": {},
   "source": [
    "# in pymccelib.py\n",
    "\n",
    "# env = Env()\n",
    "def pdb2mcce(self, pdb):\n",
    "        \"\"\"Convert pdb to mcce pdb\"\"\"\n",
    "        atom_exceptions = [\" H2 \", \" OXT\", \" HXT\"]\n",
    "        mccelines = []\n",
    "        lines = [x for x in open(pdb).readlines() if x[:6] == \"ATOM  \" or x[:6] == \"HETATM\"]\n",
    "\n",
    "        icount = 0\n",
    "        previous_resid = ()\n",
    "        possible_confs = []\n",
    "        for line in lines:\n",
    "            # pdb line\n",
    "            atomname = line[12:16]\n",
    "            resname = line[17:20]\n",
    "            chainid = line[21]\n",
    "            seqnum = int(line[22:26])\n",
    "            icode = line[26]\n",
    "            xyz = line[30:54]\n",
    "\n",
    "            current_resid = (resname, chainid, seqnum, icode)\n",
    "            # mcce line, need to add conf_number, radius, charge, conf_type, conf_history\n",
    "            if current_resid != previous_resid:\n",
    "                possible_confs = [x.strip() for x in env.tpl[(\"CONFLIST\", resname)].split(\",\")]\n",
    "                logging.info(\"Identified a new residue %s: %s\" % (resname, \", \".join(possible_confs)))\n",
    "                previous_resid = current_resid\n",
    "            Found = False\n",
    "            for confname in possible_confs:\n",
    "                if atomname in env.atomnames[confname]:\n",
    "                    conf_type = confname[3:5]\n",
    "                    conf_number = possible_confs.index(confname)\n",
    "                    cname = confname\n",
    "                    Found = True\n",
    "                    break\n",
    "            if not Found:\n",
    "                # this atom is not found in all conformers\n",
    "                if atomname not in atom_exceptions:\n",
    "                    print(\"Atom \\\"%s\\\" in pdb file %s can not be assigned to any conformer\" % (atomname, pdb))\n",
    "                continue\n",
    "\n",
    "            key = (\"RADIUS\", cname, atomname)\n",
    "            if key in env.tpl:\n",
    "                radius_str = env.tpl[key]\n",
    "                rad, _, _ = radius_str.split(\",\")\n",
    "                rad = float(rad)\n",
    "            else:\n",
    "                rad = 0.0\n",
    "\n",
    "            key = (\"CHARGE\", cname, atomname)\n",
    "            if key in env.tpl:\n",
    "                charge_str = env.tpl[key]\n",
    "                crg = float(charge_str)\n",
    "            else:\n",
    "                crg = 0.0\n",
    "\n",
    "            conf_history = \"________\"\n",
    "            newline = \"ATOM  %5d %4s %s %c%4d%c%03d%s%8.3f    %8.3f      %s%s\\n\" % \\\n",
    "                      (icount, atomname, resname, chainid, seqnum, icode, conf_number, xyz, rad, crg, conf_type, conf_history)\n",
    "            mccelines.append(newline)\n",
    "            icount += 1\n",
    "\n",
    "        return mccelines\n"
   ]
  }
 ],
 "metadata": {
  "kernelspec": {
   "display_name": "Python [conda env:mce]",
   "language": "python",
   "name": "conda-env-mce-py"
  },
  "language_info": {
   "codemirror_mode": {
    "name": "ipython",
    "version": 3
   },
   "file_extension": ".py",
   "mimetype": "text/x-python",
   "name": "python",
   "nbconvert_exporter": "python",
   "pygments_lexer": "ipython3",
   "version": "3.11.5"
  }
 },
 "nbformat": 4,
 "nbformat_minor": 4
}
