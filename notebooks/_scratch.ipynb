{
 "cells": [
  {
   "cell_type": "code",
   "execution_count": 1,
   "metadata": {
    "jupyter": {
     "source_hidden": true
    },
    "scrolled": true,
    "tags": []
   },
   "outputs": [],
   "source": [
    "import sys\n",
    "from pathlib import Path\n",
    "\n",
    "from IPython.core.interactiveshell import InteractiveShell\n",
    "InteractiveShell.ast_node_interactivity = \"all\"\n",
    "\n",
    "from IPython.display import HTML, Markdown #, IFrame\n",
    "# for presentations:\n",
    "#display(HTML(\"<style>.container { width:100% !important; }</style>\"))\n",
    "\n",
    "from IPython import get_ipython\n",
    "ipython = get_ipython()\n",
    "\n",
    "import numpy as np\n",
    "import matplotlib as mpl\n",
    "from matplotlib import pyplot as plt\n",
    "#import seaborn as sb                       # not in mce env\n",
    "plt.ion()\n",
    "%matplotlib inline\n",
    "#plt.style.use('seaborn-v0_8-muted')\n",
    "from pprint import pprint as pp\n",
    "\n",
    "\n",
    "def add_to_sys_path(this_path, up=False):\n",
    "    \"\"\"\n",
    "    Prepend this_path to sys.path.\n",
    "    If up=True, path refers to parent folder (1 level up).\n",
    "    \"\"\"\n",
    "    if up:\n",
    "        newp = Path(this_path).parent\n",
    "    else:\n",
    "        newp = Path(this_path)\n",
    "\n",
    "    src = newp.joinpath(\"src\")\n",
    "    if src.exists():\n",
    "        newp = str(src)\n",
    "    else:\n",
    "        newp = str(newp)\n",
    "\n",
    "    if newp not in sys.path:\n",
    "        sys.path.insert(1, newp)\n",
    "        print('Path added to sys.path: {}'.format(newp))\n",
    "\n",
    "\n",
    "def get_project_dirs(which=['data', 'images'], nb_folder='notebooks'):\n",
    "    dir_lst = []\n",
    "    if Path.cwd().name.startswith(nb_folder):\n",
    "        dir_fn = Path.cwd().parent.joinpath\n",
    "    else:\n",
    "        dir_fn = Path.cwd().joinpath\n",
    "    for d in which:\n",
    "        DIR = dir_fn(d)\n",
    "        if not DIR.exists():\n",
    "            Path.mkdir(DIR)\n",
    "        dir_lst.append(DIR)\n",
    "    return dir_lst\n",
    "\n",
    "# Filtered dir() for method discovery:\n",
    "def fdir(obj, start_with_str='_', exclude=True):\n",
    "    return [d for d in dir(obj) if not d.startswith(start_with_str) == exclude]\n",
    "\n",
    "\n",
    "if 'autoreload' not in ipython.extension_manager.loaded:\n",
    "    %load_ext autoreload\n",
    "\n",
    "%autoreload 2\n",
    "no_wmark = False\n",
    "try:\n",
    "    %load_ext watermark\n",
    "    %watermark\n",
    "except ModuleNotFoundError:\n",
    "    no_wmark = True\n",
    "\n",
    "if not no_wmark:\n",
    "    %watermark -iv"
   ]
  },
  {
   "cell_type": "code",
   "execution_count": 2,
   "metadata": {},
   "outputs": [
    {
     "name": "stdout",
     "output_type": "stream",
     "text": [
      "Path added to sys.path: /home/cat/projects/mcce_dev/src\n"
     ]
    },
    {
     "data": {
      "text/plain": [
       "[PosixPath('/home/cat/projects/mcce_dev/data')]"
      ]
     },
     "execution_count": 2,
     "metadata": {},
     "output_type": "execute_result"
    }
   ],
   "source": [
    "add_to_sys_path(Path.cwd(), up=True)\n",
    "DIR_DATA = get_project_dirs(which=['data'])\n",
    "DIR_DATA "
   ]
  },
  {
   "cell_type": "markdown",
   "metadata": {},
   "source": [
    "---\n",
    "# Python Descriptors\n",
    "https://docs.python.org/3/howto/descriptor.html"
   ]
  },
  {
   "cell_type": "code",
   "execution_count": 43,
   "metadata": {},
   "outputs": [],
   "source": [
    "import logging\n",
    "\n",
    "logging.basicConfig(level=logging.INFO)\n",
    "\n",
    "class LoggedAccess:\n",
    "\n",
    "    def __set_name__(self, owner, name):\n",
    "        self.public_name = name\n",
    "        self.private_name = '_' + name\n",
    "\n",
    "    def __get__(self, obj, objtype=None):\n",
    "        value = getattr(obj, self.private_name)\n",
    "        logging.info(f\" Accessing public name: {self.public_name} giving: {value}\")\n",
    "        return value\n",
    "\n",
    "    def __set__(self, obj, value):\n",
    "        logging.info(f\" Setting public name: {self.public_name} to {value}\")\n",
    "        setattr(obj, self.private_name, value)\n",
    "\n",
    "class Person:\n",
    "\n",
    "    name = LoggedAccess()                # First descriptor instance\n",
    "    age = LoggedAccess()                 # Second descriptor instance\n",
    "    nickname = LoggedAccess()\n",
    "\n",
    "    def __init__(self, name, age, nickname=None):\n",
    "        self.name = name                 # Calls the first descriptor\n",
    "        self.age = age                   # Calls the second descriptor\n",
    "        self.nickname=nickname\n",
    "\n",
    "    def birthday(self):\n",
    "        self.age += 1\n",
    "\n",
    "    def __str__(self):\n",
    "        return f\"Name: {self.name}, age: {self.age}, Nickname: {self.nickname}\""
   ]
  },
  {
   "cell_type": "code",
   "execution_count": 44,
   "metadata": {},
   "outputs": [
    {
     "name": "stderr",
     "output_type": "stream",
     "text": [
      "INFO:root: Setting public name: name to Catherine\n",
      "INFO:root: Setting public name: age to 30\n",
      "INFO:root: Setting public name: nickname to None\n",
      "INFO:root: Accessing public name: name giving: Catherine\n",
      "INFO:root: Accessing public name: age giving: 30\n",
      "INFO:root: Accessing public name: nickname giving: None\n"
     ]
    },
    {
     "name": "stdout",
     "output_type": "stream",
     "text": [
      "Name: Catherine, age: 30, Nickname: None\n"
     ]
    }
   ],
   "source": [
    "someone = Person(\"Catherine\", 30)\n",
    "print(someone)"
   ]
  },
  {
   "cell_type": "code",
   "execution_count": 42,
   "metadata": {},
   "outputs": [
    {
     "name": "stderr",
     "output_type": "stream",
     "text": [
      "INFO:root: Setting nickname to Cat\n",
      "INFO:root: Accessing name giving: Catherine\n",
      "INFO:root: Accessing age giving: 30\n",
      "INFO:root: Accessing nickname giving: Cat\n"
     ]
    },
    {
     "name": "stdout",
     "output_type": "stream",
     "text": [
      "Name: Catherine, age: 30, Nickname: Cat\n"
     ]
    }
   ],
   "source": [
    "someone.nickname = \"Cat\"\n",
    "print(someone)"
   ]
  },
  {
   "cell_type": "markdown",
   "metadata": {},
   "source": [
    "---\n",
    "---\n",
    "# Reading files into np array directly using loadtext or genfromtext\n",
    "---"
   ]
  },
  {
   "cell_type": "code",
   "execution_count": 13,
   "metadata": {},
   "outputs": [
    {
     "data": {
      "text/plain": [
       "PosixPath('/home/cat/projects/mcce_dev/data/4lzt/head3.lst')"
      ]
     },
     "execution_count": 13,
     "metadata": {},
     "output_type": "execute_result"
    }
   ],
   "source": [
    "lzt = DIR_DATA.joinpath(\"4lzt\")\n",
    "h3_filepath = lzt.joinpath(\"head3.lst\")\n",
    "h3_filepath"
   ]
  },
  {
   "cell_type": "raw",
   "metadata": {},
   "source": [
    "D = str(lzt)\n",
    "!ls {D}"
   ]
  },
  {
   "cell_type": "code",
   "execution_count": 14,
   "metadata": {},
   "outputs": [],
   "source": [
    "from collections import namedtuple"
   ]
  },
  {
   "cell_type": "code",
   "execution_count": 15,
   "metadata": {},
   "outputs": [],
   "source": [
    "Microstate = namedtuple(\"Microstate\", [\"state\", \"E\", \"count\"] )\n",
    "#class Microstate:\n",
    "#    def __init__(self, state, E, count):\n",
    "#        self.state = state\n",
    "#        self.E = E\n",
    "#        self.count = count"
   ]
  },
  {
   "cell_type": "code",
   "execution_count": 17,
   "metadata": {},
   "outputs": [
    {
     "data": {
      "text/plain": [
       "[1, 2, 3, 4]"
      ]
     },
     "execution_count": 17,
     "metadata": {},
     "output_type": "execute_result"
    },
    {
     "data": {
      "text/plain": [
       "-32424.0"
      ]
     },
     "execution_count": 17,
     "metadata": {},
     "output_type": "execute_result"
    },
    {
     "data": {
      "text/plain": [
       "3221"
      ]
     },
     "execution_count": 17,
     "metadata": {},
     "output_type": "execute_result"
    }
   ],
   "source": [
    "ms = Microstate([1,2,3,4,], -32424.0, 3_221)\n",
    "\n",
    "ms.state\n",
    "ms.E\n",
    "ms.count"
   ]
  },
  {
   "cell_type": "code",
   "execution_count": 27,
   "metadata": {},
   "outputs": [],
   "source": [
    "def format_bytes(size):\n",
    "    # 2**10 = 1024\n",
    "    power = 2**10\n",
    "    n = 0\n",
    "    power_labels = {0 : 'B', 1: 'KB', 2: 'MB', 3: 'GB', 4: 'TB'}\n",
    "    while size > power:\n",
    "        size /= power\n",
    "        n += 1\n",
    "    return f\"{size:,.2f} {power_labels[n]}\""
   ]
  },
  {
   "cell_type": "code",
   "execution_count": null,
   "metadata": {},
   "outputs": [],
   "source": []
  },
  {
   "cell_type": "code",
   "execution_count": null,
   "metadata": {},
   "outputs": [],
   "source": []
  },
  {
   "cell_type": "markdown",
   "metadata": {},
   "source": [
    "---\n",
    "---\n",
    "# Manipulations using the `re` module\n",
    "---"
   ]
  },
  {
   "cell_type": "code",
   "execution_count": 111,
   "metadata": {
    "jupyter": {
     "source_hidden": true
    }
   },
   "outputs": [],
   "source": [
    "import re\n",
    "\n",
    "runprm_file = DIR_DATA.joinpath('run.prm.qq')\n",
    "\n",
    "def load_runprm(filename):\n",
    "        \"\"\"Process run.prm* file for populating dictionary self.runprm.\n",
    "        \"\"\"\n",
    "        # Create a regex that matches lines ending with ')'\n",
    "        pattern = r\".*\\)$\"\n",
    "\n",
    "        prm_d = dict()\n",
    "        # Sample line in run.prm:\n",
    "        # \"t        step 1: pre-run, pdb-> mcce pdb                    (DO_PREMCCE)\"\n",
    "        with open(filename) as f:\n",
    "            for line in f:\n",
    "                line = line.strip()\n",
    "                \n",
    "                # skip \"MCCE CONFIGURATION FILE (date)\" line, comments and blanks\n",
    "                if not line:\n",
    "                    continue\n",
    "                if line.startswith(\"MCCE\"):\n",
    "                    continue\n",
    "                if line.startswith(\"#\"):\n",
    "                    continue\n",
    "\n",
    "                if not re.match(pattern, line):\n",
    "                    continue\n",
    "                    \n",
    "                left_p = line.rfind(\"(\")\n",
    "                if left_p <= 0:\n",
    "                    # not found or at 0:\n",
    "                    continue\n",
    "\n",
    "                key = line[left_p + 1:-1]\n",
    "                if key.islower():\n",
    "                    # not a key: comment in parentheses?\n",
    "                    continue\n",
    "                fields = line[:left_p].split()\n",
    "                if fields:\n",
    "                    value = fields[0]\n",
    "                else:\n",
    "                    continue\n",
    "\n",
    "                prm_d[key] = value\n",
    "                \n",
    "        return prm_d"
   ]
  },
  {
   "cell_type": "code",
   "execution_count": 113,
   "metadata": {},
   "outputs": [
    {
     "data": {
      "text/plain": [
       "{'INPDB': 'xyz.pdb',\n",
       " 'DO_PREMCCE': 'f',\n",
       " 'DO_ROTAMERS': 'f',\n",
       " 'DO_ENERGY': 'f',\n",
       " 'DO_MONTE': 'f',\n",
       " 'SIDECHAIN_OPT': '0',\n",
       " 'PBE_SOLVER': 'delphi',\n",
       " 'RXN_METHOD': 'surface',\n",
       " 'EPSILON_PROT': '4.0',\n",
       " 'EXTRA': '/home/mcce/mcce2.5.1/extra.tpl',\n",
       " 'RENAME_RULES': '/home/mcce/mcce2.5.1/name.txt',\n",
       " 'TITR_TYPE': 'ph',\n",
       " 'TITR_PH0': '0.0',\n",
       " 'TITR_PHD': '1.0',\n",
       " 'TITR_EH0': '0.0',\n",
       " 'TITR_EHD': '30.0',\n",
       " 'TITR_STEPS': '15',\n",
       " 'MCCE_HOME': '/home/mcce/mcce2.5.1',\n",
       " 'MINIMIZE_SIZE': 't',\n",
       " 'DO_TRACE': 't',\n",
       " 'TERMINALS': 't',\n",
       " 'CLASH_DISTANCE': '2.0',\n",
       " 'H2O_SASCUTOFF': '-0.05',\n",
       " 'IGNORE_INPUT_H': 't',\n",
       " 'ROT_SPECIF': 'f',\n",
       " 'ROT_SWAP': 't',\n",
       " 'PACK': 'f',\n",
       " 'ROTATIONS': '6',\n",
       " 'SAS_CUTOFF': '1.00',\n",
       " 'VDW_CUTOFF': '10.0',\n",
       " 'REPACKS': '5000',\n",
       " 'REPACK_CUTOFF': '0.01',\n",
       " 'HDIRECTED': 'f',\n",
       " 'HDIRDIFF': '1.0',\n",
       " 'HDIRLIMT': '36',\n",
       " 'HV_RELAX_NCYCLE': '0',\n",
       " 'HV_RELAX_DT': '4',\n",
       " 'HV_RELAX_NITER': '100',\n",
       " 'HV_RELAX_VDW_THR': '2.',\n",
       " 'HV_RELAX_HV_VDW_THR': '10.',\n",
       " 'HV_TORS_SCALE': '20.',\n",
       " 'HV_RELAX_N_SHAKE': '10000',\n",
       " 'HV_RELAX_CONSTRAINT': '1.0',\n",
       " 'HV_RELAX_CONSTRAINT_FRC': '20.',\n",
       " 'HV_RELAX_ELEC_THR': '-2.0',\n",
       " 'HV_RELAX_ELEC_CRG_THR': '0.3',\n",
       " 'HV_RELAX_ELEC_DIST_THR': '2.0',\n",
       " 'RELAX_H': 'f',\n",
       " 'RELAX_E_THR': '-1.0',\n",
       " 'RELAX_NSTATES': '100',\n",
       " 'RELAX_N_HYD': '72',\n",
       " 'RELAX_CLASH_THR': '5.',\n",
       " 'RELAX_PHI': '1.0',\n",
       " 'RELAX_NITER': '300',\n",
       " 'RELAX_TORQ_THR': '0.5',\n",
       " 'EPSILON_SOLV': '80.0',\n",
       " 'GRIDS_DELPHI': '65',\n",
       " 'GRIDS_PER_ANG': '2.0',\n",
       " 'RADIUS_PROBE': '1.4',\n",
       " 'IONRAD': '2.0',\n",
       " 'SALT': '0.15',\n",
       " 'DELPHI_EXE': '/home/mcce/mcce2.5.1/bin/delphi',\n",
       " 'APBS_EXE': '/home/mcce/mcce2.5.1/bin/apbs',\n",
       " 'BIG_PAIRWISE': '5.0',\n",
       " 'MONTE_SEED': '-1',\n",
       " 'MONTE_T': '298.15',\n",
       " 'MONTE_FLIPS': '3',\n",
       " 'MONTE_NSTART': '100',\n",
       " 'MONTE_NEQ': '300',\n",
       " 'MONTE_REDUCE': '0.001',\n",
       " 'MONTE_RUNS': '6',\n",
       " 'MONTE_NITER': '2000',\n",
       " 'MONTE_TRACE': '50000',\n",
       " 'NSTATE_MAX': '1000000',\n",
       " 'MONTE_TSX': 't',\n",
       " 'MFE_POINT': 'f',\n",
       " 'MFE_CUTOFF': '-1.0',\n",
       " 'PBE_START': '1',\n",
       " 'PBE_END': '99999',\n",
       " 'EPSILON_COULOMB': '6.0',\n",
       " 'GRIDS_APBS': '65',\n",
       " 'SURFACE_APBS': 'mol',\n",
       " 'CHARGES_APBS': 'spl0',\n",
       " 'BOUND_COND_APBS': 'sdh',\n",
       " 'GA_SEED': '-1',\n",
       " 'GA_POP_SIZE': '6000',\n",
       " 'GA_MUTATION_RATE': '0.1',\n",
       " 'GA_MIGRATION_RATE': '0.0',\n",
       " 'GA_CROSSOVER_RATE': '0.9',\n",
       " 'GA_RANDOM_CUT_POINTS': '30',\n",
       " 'GA_PHASE': '10',\n",
       " 'GA_SHIFT': '5',\n",
       " 'GA_DIST_CENTER': '15.0',\n",
       " 'GA_DIST_CENTER_EPS': '2.0',\n",
       " 'GA_MAX_BUCKET_POP': '400000',\n",
       " 'GA_RESIDUE_MIN_ENERGY_CUTOFF': '5.0',\n",
       " 'GA_OCCUPANCY_CUTOFF': '0.0',\n",
       " 'GA_DELTA_E': '0.7',\n",
       " 'GA_SPHERE_FOCUS_RESID': '-1',\n",
       " 'GA_SPHERE_PROBE_RADIUS': '20.0',\n",
       " 'GA_OUTPUT': '0'}"
      ]
     },
     "execution_count": 113,
     "metadata": {},
     "output_type": "execute_result"
    }
   ],
   "source": [
    "prm_d = load_runprm(runprm_file)\n",
    "prm_d"
   ]
  },
  {
   "cell_type": "code",
   "execution_count": 141,
   "metadata": {},
   "outputs": [],
   "source": [
    "tpl_file = DIR_DATA.joinpath('ala.ftpl')\n",
    "tpl_extra = DIR_DATA.joinpath('extra.tpl')\n",
    "\n",
    "\n",
    "float_values = [\"EPSILON_PROT\", \"TITR_PH0\", \"TITR_PHD\", \"TITR_EH0\", \"TITR_EHD\", \"CLASH_DISTANCE\",\n",
    "                \"BIG_PAIRWISE\", \"MONTE_T\", \"MONTE_REDUCE\", \"EXTRAE\", \"SCALING\"]\n",
    "int_values = [\"TITR_STEPS\", \"MONTE_RUNS\", \"MONTE_TRACE\", \"MONTE_NITER\", \"MONTE_NEQ\",\n",
    "              \"MONTE_NSTART\", \"MONTE_FLIPS\"]\n",
    "\n",
    "def print_dict(d):\n",
    "    for k, v in d.items():\n",
    "        print(f\"{k:25}:{v}\")\n",
    "\n",
    "\n",
    "def load_tpl(fname):\n",
    "    \"\"\"Load a tpl file.\"\"\"\n",
    "    tpl = dict()\n",
    "    \n",
    "    with open(fname) as f:\n",
    "        for line in f:\n",
    "            line = line.split(\"#\")[0]\n",
    "            if not line:\n",
    "                continue\n",
    "\n",
    "            fields = line.split(\":\")\n",
    "            if len(fields) != 2:\n",
    "                continue\n",
    "            \n",
    "            key_string = fields[0].strip()\n",
    "            keys = key_string.split(\",\")\n",
    "            keys = [x.strip().strip(\"\\\"\") for x in keys]\n",
    "            keys = tuple([x for x in keys if x])\n",
    "\n",
    "            value_string = fields[1].strip()\n",
    "            if keys[0] in float_values:\n",
    "                tpl[keys] = float(value_string)\n",
    "            elif keys[0] in int_values:\n",
    "                tpl[keys] = int(value_string)\n",
    "            else:\n",
    "                tpl[keys] = value_string\n",
    "\n",
    "    return tpl\n",
    "\n",
    "\n",
    "def print_tpl(tpl):\n",
    "    print_dict(tpl)\n",
    "\n",
    "\n",
    "def read_extra(tpl_ex):\n",
    "    \"\"\"Read extra.tpl.\"\"\"\n",
    "    #self.load_tpl(self.runprm[\"EXTRA\"])\n",
    "    d = load_tpl(tpl_file)\n",
    "    default_values_keys = [(\"SCALING\", \"VDW0\"),\n",
    "                           (\"SCALING\", \"VDW1\"),\n",
    "                           (\"SCALING\", \"VDW\"),\n",
    "                           (\"SCALING\", \"TORS\"),\n",
    "                           (\"SCALING\", \"ELE\"),\n",
    "                           (\"SCALING\", \"DSOLV\")]\n",
    "    for element in default_values_keys:\n",
    "        #if element not in self.tpl:\n",
    "        if element not in d:\n",
    "            d[element] = 1.0\n",
    "\n",
    "    return d\n",
    "\n",
    "SCALING_FACTORS = [(\"SCALING\", \"VDW0\"),\n",
    "                   (\"SCALING\", \"VDW1\"),\n",
    "                   (\"SCALING\", \"VDW\"),\n",
    "                   (\"SCALING\", \"TORS\"),\n",
    "                   (\"SCALING\", \"ELE\"),\n",
    "                   (\"SCALING\", \"DSOLV\")]\n",
    "\n",
    "def print_scaling(tpl: dict):\n",
    "    \"\"\"Print scaling factors.\"\"\"\n",
    "    # print self.param\n",
    "    print(\"   Scaling factors:\")\n",
    "    print(\"   VDW0  = %.3f\" % tpl[(\"SCALING\", \"VDW0\")])\n",
    "    print(\"   VDW1  = %.3f\" % tpl[(\"SCALING\", \"VDW1\")])\n",
    "    print(\"   VDW   = %.3f\" % tpl[(\"SCALING\", \"VDW\")])\n",
    "    print(\"   TORS  = %.3f\" % tpl[(\"SCALING\", \"TORS\")])\n",
    "    print(\"   ELE   = %.3f\" % tpl[(\"SCALING\", \"ELE\")])\n",
    "    print(\"   DSOLV = %.3f\" % tpl[(\"SCALING\", \"DSOLV\")])\n",
    "    print(\"   Done\\n\")\n"
   ]
  },
  {
   "cell_type": "code",
   "execution_count": 148,
   "metadata": {},
   "outputs": [
    {
     "name": "stdout",
     "output_type": "stream",
     "text": [
      "\tVDW0  = 1.000\n",
      "\tVDW1  = 1.000\n",
      "\tVDW   = 1.000\n",
      "\tTORS  = 1.000\n",
      "\tELE   = 1.000\n",
      "\tDSOLV = 1.000\n",
      "\tDone\n",
      "\n"
     ]
    }
   ],
   "source": [
    "#out = f\"\\tVDW0  = {:.3f}\\n\\tVDW1  = {:.3f}\\n\\tVDW   = {.3f}\\n\\tTORS  = {.3f}\\n\\tELE   = {:.3f}\\n\\tDSOLV = {:.3f}\\n\\tDone\\n\"\n",
    "\n",
    "out = \"\"\"\\tScaling factors:\n",
    "\\tVDW0  = {:.3f}\n",
    "\\tVDW1  = {:.3f}\n",
    "\\tVDW   = {:.3f}\n",
    "\\tTORS  = {:.3f}\n",
    "\\tELE   = {:.3f}\n",
    "\\tDSOLV = {:.3f}\n",
    "\\tDone\\n\"\"\"\n",
    "print(out.format(*[extratpl_d[sf] for sf in SCALING_FACTORS]))"
   ]
  },
  {
   "cell_type": "code",
   "execution_count": 140,
   "metadata": {},
   "outputs": [
    {
     "name": "stdout",
     "output_type": "stream",
     "text": [
      "   Scaling factors:\n",
      "   VDW0  = 1.000\n",
      "   VDW1  = 1.000\n",
      "   VDW   = 1.000\n",
      "   TORS  = 1.000\n",
      "   ELE   = 1.000\n",
      "   DSOLV = 1.000\n",
      "   Done\n",
      "\n"
     ]
    }
   ],
   "source": [
    "print_scaling(extratpl_d)"
   ]
  },
  {
   "cell_type": "code",
   "execution_count": 138,
   "metadata": {},
   "outputs": [
    {
     "data": {
      "text/plain": [
       "{('CONFLIST', 'ALA'): 'ALABK, ALA01',\n",
       " ('CONNECT', ' N  ', 'ALABK'): 'sp2, \" ?  \", \" CA \", \" H  \"',\n",
       " ('CONNECT', ' H  ', 'ALABK'): 's, \" N  \"',\n",
       " ('CONNECT', ' CA ', 'ALABK'): 'sp3, \" N  \", \" C  \", \" CB \", \" HA \"',\n",
       " ('CONNECT', ' HA ', 'ALABK'): 's, \" CA \"',\n",
       " ('CONNECT', ' C  ', 'ALABK'): 'sp2, \" CA \", \" O  \", \" ?  \"',\n",
       " ('CONNECT', ' O  ', 'ALABK'): 'sp2, \" C  \"',\n",
       " ('CONNECT', ' CB ', 'ALA01'): 'sp3, \" CA \", \" HB1\", \" HB2\", \" HB3\"',\n",
       " ('CONNECT', ' HB1', 'ALA01'): 's, \" CB \"',\n",
       " ('CONNECT', ' HB2', 'ALA01'): 's, \" CB \"',\n",
       " ('CONNECT', ' HB3', 'ALA01'): 's, \" CB \"',\n",
       " ('CHARGE', 'ALABK', ' N  '): '-0.350',\n",
       " ('CHARGE', 'ALABK', ' H  '): '0.250',\n",
       " ('CHARGE', 'ALABK', ' CA '): '0.100',\n",
       " ('CHARGE', 'ALABK', ' HA '): '0.000',\n",
       " ('CHARGE', 'ALABK', ' C  '): '0.550',\n",
       " ('CHARGE', 'ALABK', ' O  '): '-0.550',\n",
       " ('CHARGE', 'ALA01', ' CB '): '0.000',\n",
       " ('CHARGE', 'ALA01', ' HB1'): '0.000',\n",
       " ('CHARGE', 'ALA01', ' HB2'): '0.000',\n",
       " ('CHARGE', 'ALA01', ' HB3'): '0.000',\n",
       " ('RADIUS', 'ALABK', ' N  '): '1.500,   1.750,   0.160',\n",
       " ('RADIUS', 'ALABK', ' H  '): '1.000,   1.000,   0.020',\n",
       " ('RADIUS', 'ALABK', ' CA '): '2.000,   2.000,   0.150',\n",
       " ('RADIUS', 'ALABK', ' HA '): '0.000,   1.000,   0.020',\n",
       " ('RADIUS', 'ALABK', ' C  '): '1.700,   2.000,   0.150',\n",
       " ('RADIUS', 'ALABK', ' O  '): '1.400,   1.600,   0.200',\n",
       " ('RADIUS', 'ALA01', ' CB '): '2.000,   2.000,   0.150',\n",
       " ('RADIUS', 'ALA01', ' HB1'): '0.000,   1.000,   0.020',\n",
       " ('RADIUS', 'ALA01', ' HB2'): '0.000,   1.000,   0.020',\n",
       " ('RADIUS', 'ALA01', ' HB3'): '0.000,   1.000,   0.020',\n",
       " ('CONFORMER',\n",
       "  'ALA01'): 'Em0=   0.0, pKa0=  0.00, ne= 0, nH= 0, rxn02=0.000, rxn04=0.000, rxn08=0.000',\n",
       " ('SCALING', 'VDW0'): 1.0,\n",
       " ('SCALING', 'VDW1'): 1.0,\n",
       " ('SCALING', 'VDW'): 1.0,\n",
       " ('SCALING', 'TORS'): 1.0,\n",
       " ('SCALING', 'ELE'): 1.0,\n",
       " ('SCALING', 'DSOLV'): 1.0}"
      ]
     },
     "execution_count": 138,
     "metadata": {},
     "output_type": "execute_result"
    }
   ],
   "source": [
    "extratpl_d = read_extra(tpl_extra)\n",
    "\n",
    "extratpl_d "
   ]
  },
  {
   "cell_type": "code",
   "execution_count": 131,
   "metadata": {},
   "outputs": [
    {
     "name": "stdout",
     "output_type": "stream",
     "text": [
      "empty\n"
     ]
    },
    {
     "data": {
      "text/plain": [
       "''"
      ]
     },
     "execution_count": 131,
     "metadata": {},
     "output_type": "execute_result"
    }
   ],
   "source": [
    "line = \"#>>>START of original comments, this file was converted from old format\"\n",
    "line = line.split(\"#\")[0]\n",
    "fields = None\n",
    "if not line:\n",
    "    print(\"empty\")\n",
    "else:\n",
    "    fields = line.split(\":\")\n",
    "line\n",
    "fields"
   ]
  },
  {
   "cell_type": "code",
   "execution_count": 132,
   "metadata": {},
   "outputs": [
    {
     "data": {
      "text/plain": [
       "{('CONFLIST', 'ALA'): 'ALABK, ALA01',\n",
       " ('CONNECT', ' N  ', 'ALABK'): 'sp2, \" ?  \", \" CA \", \" H  \"',\n",
       " ('CONNECT', ' H  ', 'ALABK'): 's, \" N  \"',\n",
       " ('CONNECT', ' CA ', 'ALABK'): 'sp3, \" N  \", \" C  \", \" CB \", \" HA \"',\n",
       " ('CONNECT', ' HA ', 'ALABK'): 's, \" CA \"',\n",
       " ('CONNECT', ' C  ', 'ALABK'): 'sp2, \" CA \", \" O  \", \" ?  \"',\n",
       " ('CONNECT', ' O  ', 'ALABK'): 'sp2, \" C  \"',\n",
       " ('CONNECT', ' CB ', 'ALA01'): 'sp3, \" CA \", \" HB1\", \" HB2\", \" HB3\"',\n",
       " ('CONNECT', ' HB1', 'ALA01'): 's, \" CB \"',\n",
       " ('CONNECT', ' HB2', 'ALA01'): 's, \" CB \"',\n",
       " ('CONNECT', ' HB3', 'ALA01'): 's, \" CB \"',\n",
       " ('CHARGE', 'ALABK', ' N  '): '-0.350',\n",
       " ('CHARGE', 'ALABK', ' H  '): '0.250',\n",
       " ('CHARGE', 'ALABK', ' CA '): '0.100',\n",
       " ('CHARGE', 'ALABK', ' HA '): '0.000',\n",
       " ('CHARGE', 'ALABK', ' C  '): '0.550',\n",
       " ('CHARGE', 'ALABK', ' O  '): '-0.550',\n",
       " ('CHARGE', 'ALA01', ' CB '): '0.000',\n",
       " ('CHARGE', 'ALA01', ' HB1'): '0.000',\n",
       " ('CHARGE', 'ALA01', ' HB2'): '0.000',\n",
       " ('CHARGE', 'ALA01', ' HB3'): '0.000',\n",
       " ('RADIUS', 'ALABK', ' N  '): '1.500,   1.750,   0.160',\n",
       " ('RADIUS', 'ALABK', ' H  '): '1.000,   1.000,   0.020',\n",
       " ('RADIUS', 'ALABK', ' CA '): '2.000,   2.000,   0.150',\n",
       " ('RADIUS', 'ALABK', ' HA '): '0.000,   1.000,   0.020',\n",
       " ('RADIUS', 'ALABK', ' C  '): '1.700,   2.000,   0.150',\n",
       " ('RADIUS', 'ALABK', ' O  '): '1.400,   1.600,   0.200',\n",
       " ('RADIUS', 'ALA01', ' CB '): '2.000,   2.000,   0.150',\n",
       " ('RADIUS', 'ALA01', ' HB1'): '0.000,   1.000,   0.020',\n",
       " ('RADIUS', 'ALA01', ' HB2'): '0.000,   1.000,   0.020',\n",
       " ('RADIUS', 'ALA01', ' HB3'): '0.000,   1.000,   0.020',\n",
       " ('CONFORMER',\n",
       "  'ALA01'): 'Em0=   0.0, pKa0=  0.00, ne= 0, nH= 0, rxn02=0.000, rxn04=0.000, rxn08=0.000'}"
      ]
     },
     "execution_count": 132,
     "metadata": {},
     "output_type": "execute_result"
    }
   ],
   "source": [
    "tpl_d = load_tpl(tpl_file)\n",
    "tpl_d"
   ]
  },
  {
   "cell_type": "code",
   "execution_count": 78,
   "metadata": {},
   "outputs": [
    {
     "name": "stdout",
     "output_type": "stream",
     "text": [
      "fields: [] 0\n",
      " fields is F\n",
      "<1\n",
      "no match\n"
     ]
    }
   ],
   "source": [
    "line = \"(Create a regular expression that matches lines ending with a closed parenthesis\"\n",
    "pattern = r\".*\\)$\"\n",
    "\n",
    "left_p = 0\n",
    "fields = line[:left_p].split()\n",
    "print(\"fields:\", fields, len(fields))\n",
    "\n",
    "if fields:\n",
    "    value = fields[0]\n",
    "    print(\"val\", value)\n",
    "else:\n",
    "    print(\" fields is F\")\n",
    "    \n",
    "if len(fields) < 1:\n",
    "    print(\"<1\")\n",
    "else:\n",
    "    value = fields[0]\n",
    "    \n",
    "if not re.match(pattern, line):\n",
    "    print(\"no match\")\n",
    "else:\n",
    "    print(line)"
   ]
  },
  {
   "cell_type": "code",
   "execution_count": null,
   "metadata": {},
   "outputs": [],
   "source": []
  }
 ],
 "metadata": {
  "kernelspec": {
   "display_name": "Python [conda env:mce]",
   "language": "python",
   "name": "conda-env-mce-py"
  },
  "language_info": {
   "codemirror_mode": {
    "name": "ipython",
    "version": 3
   },
   "file_extension": ".py",
   "mimetype": "text/x-python",
   "name": "python",
   "nbconvert_exporter": "python",
   "pygments_lexer": "ipython3",
   "version": "3.11.5"
  }
 },
 "nbformat": 4,
 "nbformat_minor": 4
}
